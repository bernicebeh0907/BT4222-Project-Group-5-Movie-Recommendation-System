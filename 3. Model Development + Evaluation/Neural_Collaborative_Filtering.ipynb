{
  "nbformat": 4,
  "nbformat_minor": 0,
  "metadata": {
    "colab": {
      "provenance": [],
      "gpuType": "T4",
      "toc_visible": true
    },
    "kernelspec": {
      "name": "python3",
      "display_name": "Python 3"
    },
    "language_info": {
      "name": "python"
    },
    "accelerator": "GPU"
  },
  "cells": [
    {
      "cell_type": "markdown",
      "source": [
        "#Dataset and Imports"
      ],
      "metadata": {
        "id": "AxgFkM_pnwaf"
      }
    },
    {
      "cell_type": "code",
      "execution_count": 2,
      "metadata": {
        "colab": {
          "base_uri": "https://localhost:8080/"
        },
        "id": "3Sr9wiwAKbqy",
        "outputId": "841e6bac-28ae-466e-fec6-d284d6c90d5e"
      },
      "outputs": [
        {
          "output_type": "stream",
          "name": "stdout",
          "text": [
            "Mounted at /content/drive\n"
          ]
        }
      ],
      "source": [
        "import pandas as pd\n",
        "from google.colab import drive\n",
        "drive.mount('/content/drive')\n",
        "\n",
        "df = pd.read_csv('/content/drive/MyDrive/BT4222_Group_5_Submission/processed_datasets/movies_and_reviews.csv')"
      ]
    },
    {
      "cell_type": "code",
      "source": [
        "import numpy as np\n",
        "from sklearn import model_selection, metrics, preprocessing\n",
        "import torch\n",
        "import torch.nn as nn\n",
        "import torch.nn.functional as F\n",
        "import matplotlib.pyplot as plt\n",
        "from torch.utils.data import Dataset, DataLoader\n",
        "from tqdm import tqdm\n",
        "from collections import defaultdict\n",
        "import ast\n",
        "import random\n",
        "import seaborn as sns\n",
        "from sklearn.metrics import precision_score, recall_score, f1_score\n",
        "import math"
      ],
      "metadata": {
        "id": "fDfXPGXRfXjq"
      },
      "execution_count": 3,
      "outputs": []
    },
    {
      "cell_type": "code",
      "source": [
        "# Extract the necessary columns\n",
        "dataset = df[['movie_title','reviewer_name','reviewer_rating','movie_genre']].copy()\n",
        "dataset.head()"
      ],
      "metadata": {
        "colab": {
          "base_uri": "https://localhost:8080/",
          "height": 206
        },
        "id": "hlkGfC0Uq7ml",
        "outputId": "c4cb2bf2-757c-4128-9c6b-112ad1e47c37"
      },
      "execution_count": 4,
      "outputs": [
        {
          "output_type": "execute_result",
          "data": {
            "text/plain": [
              "                    movie_title   reviewer_name  reviewer_rating  \\\n",
              "0  the birth of a nation (1915)     Cineanalyst             10.0   \n",
              "1  the birth of a nation (1915)       Auburn668             10.0   \n",
              "2  the birth of a nation (1915)       mozart182              9.0   \n",
              "3  the birth of a nation (1915)  smithmjsjsmith             10.0   \n",
              "4  the birth of a nation (1915)      sharkey197              7.0   \n",
              "\n",
              "                                movie_genre  \n",
              "0  ['Biography', 'Drama', 'History', 'War']  \n",
              "1  ['Biography', 'Drama', 'History', 'War']  \n",
              "2  ['Biography', 'Drama', 'History', 'War']  \n",
              "3  ['Biography', 'Drama', 'History', 'War']  \n",
              "4  ['Biography', 'Drama', 'History', 'War']  "
            ],
            "text/html": [
              "\n",
              "  <div id=\"df-cb046dfd-0760-488c-b710-f564dc46100b\" class=\"colab-df-container\">\n",
              "    <div>\n",
              "<style scoped>\n",
              "    .dataframe tbody tr th:only-of-type {\n",
              "        vertical-align: middle;\n",
              "    }\n",
              "\n",
              "    .dataframe tbody tr th {\n",
              "        vertical-align: top;\n",
              "    }\n",
              "\n",
              "    .dataframe thead th {\n",
              "        text-align: right;\n",
              "    }\n",
              "</style>\n",
              "<table border=\"1\" class=\"dataframe\">\n",
              "  <thead>\n",
              "    <tr style=\"text-align: right;\">\n",
              "      <th></th>\n",
              "      <th>movie_title</th>\n",
              "      <th>reviewer_name</th>\n",
              "      <th>reviewer_rating</th>\n",
              "      <th>movie_genre</th>\n",
              "    </tr>\n",
              "  </thead>\n",
              "  <tbody>\n",
              "    <tr>\n",
              "      <th>0</th>\n",
              "      <td>the birth of a nation (1915)</td>\n",
              "      <td>Cineanalyst</td>\n",
              "      <td>10.0</td>\n",
              "      <td>['Biography', 'Drama', 'History', 'War']</td>\n",
              "    </tr>\n",
              "    <tr>\n",
              "      <th>1</th>\n",
              "      <td>the birth of a nation (1915)</td>\n",
              "      <td>Auburn668</td>\n",
              "      <td>10.0</td>\n",
              "      <td>['Biography', 'Drama', 'History', 'War']</td>\n",
              "    </tr>\n",
              "    <tr>\n",
              "      <th>2</th>\n",
              "      <td>the birth of a nation (1915)</td>\n",
              "      <td>mozart182</td>\n",
              "      <td>9.0</td>\n",
              "      <td>['Biography', 'Drama', 'History', 'War']</td>\n",
              "    </tr>\n",
              "    <tr>\n",
              "      <th>3</th>\n",
              "      <td>the birth of a nation (1915)</td>\n",
              "      <td>smithmjsjsmith</td>\n",
              "      <td>10.0</td>\n",
              "      <td>['Biography', 'Drama', 'History', 'War']</td>\n",
              "    </tr>\n",
              "    <tr>\n",
              "      <th>4</th>\n",
              "      <td>the birth of a nation (1915)</td>\n",
              "      <td>sharkey197</td>\n",
              "      <td>7.0</td>\n",
              "      <td>['Biography', 'Drama', 'History', 'War']</td>\n",
              "    </tr>\n",
              "  </tbody>\n",
              "</table>\n",
              "</div>\n",
              "    <div class=\"colab-df-buttons\">\n",
              "\n",
              "  <div class=\"colab-df-container\">\n",
              "    <button class=\"colab-df-convert\" onclick=\"convertToInteractive('df-cb046dfd-0760-488c-b710-f564dc46100b')\"\n",
              "            title=\"Convert this dataframe to an interactive table.\"\n",
              "            style=\"display:none;\">\n",
              "\n",
              "  <svg xmlns=\"http://www.w3.org/2000/svg\" height=\"24px\" viewBox=\"0 -960 960 960\">\n",
              "    <path d=\"M120-120v-720h720v720H120Zm60-500h600v-160H180v160Zm220 220h160v-160H400v160Zm0 220h160v-160H400v160ZM180-400h160v-160H180v160Zm440 0h160v-160H620v160ZM180-180h160v-160H180v160Zm440 0h160v-160H620v160Z\"/>\n",
              "  </svg>\n",
              "    </button>\n",
              "\n",
              "  <style>\n",
              "    .colab-df-container {\n",
              "      display:flex;\n",
              "      gap: 12px;\n",
              "    }\n",
              "\n",
              "    .colab-df-convert {\n",
              "      background-color: #E8F0FE;\n",
              "      border: none;\n",
              "      border-radius: 50%;\n",
              "      cursor: pointer;\n",
              "      display: none;\n",
              "      fill: #1967D2;\n",
              "      height: 32px;\n",
              "      padding: 0 0 0 0;\n",
              "      width: 32px;\n",
              "    }\n",
              "\n",
              "    .colab-df-convert:hover {\n",
              "      background-color: #E2EBFA;\n",
              "      box-shadow: 0px 1px 2px rgba(60, 64, 67, 0.3), 0px 1px 3px 1px rgba(60, 64, 67, 0.15);\n",
              "      fill: #174EA6;\n",
              "    }\n",
              "\n",
              "    .colab-df-buttons div {\n",
              "      margin-bottom: 4px;\n",
              "    }\n",
              "\n",
              "    [theme=dark] .colab-df-convert {\n",
              "      background-color: #3B4455;\n",
              "      fill: #D2E3FC;\n",
              "    }\n",
              "\n",
              "    [theme=dark] .colab-df-convert:hover {\n",
              "      background-color: #434B5C;\n",
              "      box-shadow: 0px 1px 3px 1px rgba(0, 0, 0, 0.15);\n",
              "      filter: drop-shadow(0px 1px 2px rgba(0, 0, 0, 0.3));\n",
              "      fill: #FFFFFF;\n",
              "    }\n",
              "  </style>\n",
              "\n",
              "    <script>\n",
              "      const buttonEl =\n",
              "        document.querySelector('#df-cb046dfd-0760-488c-b710-f564dc46100b button.colab-df-convert');\n",
              "      buttonEl.style.display =\n",
              "        google.colab.kernel.accessAllowed ? 'block' : 'none';\n",
              "\n",
              "      async function convertToInteractive(key) {\n",
              "        const element = document.querySelector('#df-cb046dfd-0760-488c-b710-f564dc46100b');\n",
              "        const dataTable =\n",
              "          await google.colab.kernel.invokeFunction('convertToInteractive',\n",
              "                                                    [key], {});\n",
              "        if (!dataTable) return;\n",
              "\n",
              "        const docLinkHtml = 'Like what you see? Visit the ' +\n",
              "          '<a target=\"_blank\" href=https://colab.research.google.com/notebooks/data_table.ipynb>data table notebook</a>'\n",
              "          + ' to learn more about interactive tables.';\n",
              "        element.innerHTML = '';\n",
              "        dataTable['output_type'] = 'display_data';\n",
              "        await google.colab.output.renderOutput(dataTable, element);\n",
              "        const docLink = document.createElement('div');\n",
              "        docLink.innerHTML = docLinkHtml;\n",
              "        element.appendChild(docLink);\n",
              "      }\n",
              "    </script>\n",
              "  </div>\n",
              "\n",
              "\n",
              "<div id=\"df-7af95702-ea27-4828-a0da-0ef9665c6de5\">\n",
              "  <button class=\"colab-df-quickchart\" onclick=\"quickchart('df-7af95702-ea27-4828-a0da-0ef9665c6de5')\"\n",
              "            title=\"Suggest charts\"\n",
              "            style=\"display:none;\">\n",
              "\n",
              "<svg xmlns=\"http://www.w3.org/2000/svg\" height=\"24px\"viewBox=\"0 0 24 24\"\n",
              "     width=\"24px\">\n",
              "    <g>\n",
              "        <path d=\"M19 3H5c-1.1 0-2 .9-2 2v14c0 1.1.9 2 2 2h14c1.1 0 2-.9 2-2V5c0-1.1-.9-2-2-2zM9 17H7v-7h2v7zm4 0h-2V7h2v10zm4 0h-2v-4h2v4z\"/>\n",
              "    </g>\n",
              "</svg>\n",
              "  </button>\n",
              "\n",
              "<style>\n",
              "  .colab-df-quickchart {\n",
              "      --bg-color: #E8F0FE;\n",
              "      --fill-color: #1967D2;\n",
              "      --hover-bg-color: #E2EBFA;\n",
              "      --hover-fill-color: #174EA6;\n",
              "      --disabled-fill-color: #AAA;\n",
              "      --disabled-bg-color: #DDD;\n",
              "  }\n",
              "\n",
              "  [theme=dark] .colab-df-quickchart {\n",
              "      --bg-color: #3B4455;\n",
              "      --fill-color: #D2E3FC;\n",
              "      --hover-bg-color: #434B5C;\n",
              "      --hover-fill-color: #FFFFFF;\n",
              "      --disabled-bg-color: #3B4455;\n",
              "      --disabled-fill-color: #666;\n",
              "  }\n",
              "\n",
              "  .colab-df-quickchart {\n",
              "    background-color: var(--bg-color);\n",
              "    border: none;\n",
              "    border-radius: 50%;\n",
              "    cursor: pointer;\n",
              "    display: none;\n",
              "    fill: var(--fill-color);\n",
              "    height: 32px;\n",
              "    padding: 0;\n",
              "    width: 32px;\n",
              "  }\n",
              "\n",
              "  .colab-df-quickchart:hover {\n",
              "    background-color: var(--hover-bg-color);\n",
              "    box-shadow: 0 1px 2px rgba(60, 64, 67, 0.3), 0 1px 3px 1px rgba(60, 64, 67, 0.15);\n",
              "    fill: var(--button-hover-fill-color);\n",
              "  }\n",
              "\n",
              "  .colab-df-quickchart-complete:disabled,\n",
              "  .colab-df-quickchart-complete:disabled:hover {\n",
              "    background-color: var(--disabled-bg-color);\n",
              "    fill: var(--disabled-fill-color);\n",
              "    box-shadow: none;\n",
              "  }\n",
              "\n",
              "  .colab-df-spinner {\n",
              "    border: 2px solid var(--fill-color);\n",
              "    border-color: transparent;\n",
              "    border-bottom-color: var(--fill-color);\n",
              "    animation:\n",
              "      spin 1s steps(1) infinite;\n",
              "  }\n",
              "\n",
              "  @keyframes spin {\n",
              "    0% {\n",
              "      border-color: transparent;\n",
              "      border-bottom-color: var(--fill-color);\n",
              "      border-left-color: var(--fill-color);\n",
              "    }\n",
              "    20% {\n",
              "      border-color: transparent;\n",
              "      border-left-color: var(--fill-color);\n",
              "      border-top-color: var(--fill-color);\n",
              "    }\n",
              "    30% {\n",
              "      border-color: transparent;\n",
              "      border-left-color: var(--fill-color);\n",
              "      border-top-color: var(--fill-color);\n",
              "      border-right-color: var(--fill-color);\n",
              "    }\n",
              "    40% {\n",
              "      border-color: transparent;\n",
              "      border-right-color: var(--fill-color);\n",
              "      border-top-color: var(--fill-color);\n",
              "    }\n",
              "    60% {\n",
              "      border-color: transparent;\n",
              "      border-right-color: var(--fill-color);\n",
              "    }\n",
              "    80% {\n",
              "      border-color: transparent;\n",
              "      border-right-color: var(--fill-color);\n",
              "      border-bottom-color: var(--fill-color);\n",
              "    }\n",
              "    90% {\n",
              "      border-color: transparent;\n",
              "      border-bottom-color: var(--fill-color);\n",
              "    }\n",
              "  }\n",
              "</style>\n",
              "\n",
              "  <script>\n",
              "    async function quickchart(key) {\n",
              "      const quickchartButtonEl =\n",
              "        document.querySelector('#' + key + ' button');\n",
              "      quickchartButtonEl.disabled = true;  // To prevent multiple clicks.\n",
              "      quickchartButtonEl.classList.add('colab-df-spinner');\n",
              "      try {\n",
              "        const charts = await google.colab.kernel.invokeFunction(\n",
              "            'suggestCharts', [key], {});\n",
              "      } catch (error) {\n",
              "        console.error('Error during call to suggestCharts:', error);\n",
              "      }\n",
              "      quickchartButtonEl.classList.remove('colab-df-spinner');\n",
              "      quickchartButtonEl.classList.add('colab-df-quickchart-complete');\n",
              "    }\n",
              "    (() => {\n",
              "      let quickchartButtonEl =\n",
              "        document.querySelector('#df-7af95702-ea27-4828-a0da-0ef9665c6de5 button');\n",
              "      quickchartButtonEl.style.display =\n",
              "        google.colab.kernel.accessAllowed ? 'block' : 'none';\n",
              "    })();\n",
              "  </script>\n",
              "</div>\n",
              "\n",
              "    </div>\n",
              "  </div>\n"
            ],
            "application/vnd.google.colaboratory.intrinsic+json": {
              "type": "dataframe",
              "variable_name": "dataset"
            }
          },
          "metadata": {},
          "execution_count": 4
        }
      ]
    },
    {
      "cell_type": "markdown",
      "source": [
        "### Data preprocessing + Feature engineering"
      ],
      "metadata": {
        "id": "QX8jYupyrwTo"
      }
    },
    {
      "cell_type": "markdown",
      "source": [
        "Make Genres an Embedding layer which will be passed into the model"
      ],
      "metadata": {
        "id": "Loo-7vP9yi8t"
      }
    },
    {
      "cell_type": "markdown",
      "source": [
        "Change movie genre data type from \"['Biography', 'Drama', 'History', 'War']\" to ['Biography', 'Drama', 'History', 'War']"
      ],
      "metadata": {
        "id": "BTPlDXclt58K"
      }
    },
    {
      "cell_type": "code",
      "source": [
        "dataset['movie_genre'] = dataset['movie_genre'].apply(ast.literal_eval)"
      ],
      "metadata": {
        "id": "2OgKbYAPtqMk"
      },
      "execution_count": 5,
      "outputs": []
    },
    {
      "cell_type": "code",
      "source": [
        "# Find all unqiue genres & max number of genres a movie has\n",
        "unique_genres = []\n",
        "max_len = 0\n",
        "for d in dataset['movie_genre']:\n",
        "  if len(d) > max_len:\n",
        "    max_len = len(d)\n",
        "\n",
        "  for indiv in d:\n",
        "    if indiv not in unique_genres:\n",
        "      unique_genres.append(indiv)\n",
        "\n",
        "print(\"Number of unique genres:\", len(unique_genres))\n",
        "print(\"Unique genres:\", unique_genres)\n",
        "print(\"Max number of genres in a movie:\", max_len)"
      ],
      "metadata": {
        "colab": {
          "base_uri": "https://localhost:8080/"
        },
        "id": "bVCeu1KSsPx1",
        "outputId": "d52f97e5-de49-4c05-9b34-6265bc877da1"
      },
      "execution_count": 6,
      "outputs": [
        {
          "output_type": "stream",
          "name": "stdout",
          "text": [
            "Number of unique genres: 25\n",
            "Unique genres: ['Biography', 'Drama', 'History', 'War', 'Animation', 'Family', 'Fantasy', 'Romance', 'Adventure', 'Comedy', 'Mystery', 'Thriller', 'Holiday', 'Kids', 'Music', 'Crime', 'Action', 'Horror', 'Sport', 'Musical', 'Science Fiction', 'Western', 'Anime', 'Lgbtq+', 'Documentary']\n",
            "Max number of genres in a movie: 8\n"
          ]
        }
      ]
    },
    {
      "cell_type": "markdown",
      "source": [
        "We create a One Hot Vector of all genres (length 25) as rows with null values have been removed in our data processing so all rows have genre(s) present."
      ],
      "metadata": {
        "id": "R05qoCiDy5XY"
      }
    },
    {
      "cell_type": "code",
      "source": [
        "# List of genres\n",
        "genres = unique_genres\n",
        "\n",
        "# Create a dictionary mapping each genre to an index\n",
        "genre_to_index = {genre: index for index, genre in enumerate(genres)}\n",
        "\n",
        "# Initialize a list of zeros with a length of 25\n",
        "one_hot_vector = [0] * 25\n",
        "\n",
        "# Function to create a one-hot vector\n",
        "def create_one_hot_vector(genre):\n",
        "    one_hot_vector = [0] * 25\n",
        "    for ele in genre:\n",
        "      index = genre_to_index.get(ele)\n",
        "      if index is not None:\n",
        "          one_hot_vector[index] = 1\n",
        "    return torch.tensor(one_hot_vector, dtype=torch.long)\n",
        "\n",
        "# Example usage\n",
        "selected_genre = [\"History\", \"Comedy\", \"Mystery\", \"Crime\", \"Thriller\"]\n",
        "one_hot_vector = create_one_hot_vector(selected_genre)\n",
        "print(one_hot_vector)"
      ],
      "metadata": {
        "colab": {
          "base_uri": "https://localhost:8080/"
        },
        "id": "g8q8IPTEu95i",
        "outputId": "58f26e4d-582e-4e48-82f7-904d84a76243"
      },
      "execution_count": 7,
      "outputs": [
        {
          "output_type": "stream",
          "name": "stdout",
          "text": [
            "tensor([0, 0, 1, 0, 0, 0, 0, 0, 0, 1, 1, 1, 0, 0, 0, 1, 0, 0, 0, 0, 0, 0, 0, 0,\n",
            "        0])\n"
          ]
        }
      ]
    },
    {
      "cell_type": "code",
      "source": [
        "# Add padded_tensor to dataset\n",
        "dataset['padded_genre'] = dataset['movie_genre']\n",
        "dataset['padded_tensor'] = dataset['movie_genre'].apply(lambda x:create_one_hot_vector(x))"
      ],
      "metadata": {
        "id": "yBW8rVTZzcBr"
      },
      "execution_count": 8,
      "outputs": []
    },
    {
      "cell_type": "code",
      "source": [
        "# Normalise rating\n",
        "dataset['normalized_rating'] = (dataset['reviewer_rating'] - dataset['reviewer_rating'].min()) / (dataset['reviewer_rating'].max() - dataset['reviewer_rating'].min())"
      ],
      "metadata": {
        "id": "ZqNy9QRNY3aF"
      },
      "execution_count": 9,
      "outputs": []
    },
    {
      "cell_type": "code",
      "source": [
        "dataset['normalized_rating'].describe()"
      ],
      "metadata": {
        "colab": {
          "base_uri": "https://localhost:8080/",
          "height": 335
        },
        "id": "rjFRQCnW4lYs",
        "outputId": "16cc6155-8a32-4a93-919f-c97e2ab6a72d"
      },
      "execution_count": 10,
      "outputs": [
        {
          "output_type": "execute_result",
          "data": {
            "text/plain": [
              "count    798587.000000\n",
              "mean          0.720746\n",
              "std           0.285934\n",
              "min           0.000000\n",
              "25%           0.600000\n",
              "50%           0.800000\n",
              "75%           1.000000\n",
              "max           1.000000\n",
              "Name: normalized_rating, dtype: float64"
            ],
            "text/html": [
              "<div>\n",
              "<style scoped>\n",
              "    .dataframe tbody tr th:only-of-type {\n",
              "        vertical-align: middle;\n",
              "    }\n",
              "\n",
              "    .dataframe tbody tr th {\n",
              "        vertical-align: top;\n",
              "    }\n",
              "\n",
              "    .dataframe thead th {\n",
              "        text-align: right;\n",
              "    }\n",
              "</style>\n",
              "<table border=\"1\" class=\"dataframe\">\n",
              "  <thead>\n",
              "    <tr style=\"text-align: right;\">\n",
              "      <th></th>\n",
              "      <th>normalized_rating</th>\n",
              "    </tr>\n",
              "  </thead>\n",
              "  <tbody>\n",
              "    <tr>\n",
              "      <th>count</th>\n",
              "      <td>798587.000000</td>\n",
              "    </tr>\n",
              "    <tr>\n",
              "      <th>mean</th>\n",
              "      <td>0.720746</td>\n",
              "    </tr>\n",
              "    <tr>\n",
              "      <th>std</th>\n",
              "      <td>0.285934</td>\n",
              "    </tr>\n",
              "    <tr>\n",
              "      <th>min</th>\n",
              "      <td>0.000000</td>\n",
              "    </tr>\n",
              "    <tr>\n",
              "      <th>25%</th>\n",
              "      <td>0.600000</td>\n",
              "    </tr>\n",
              "    <tr>\n",
              "      <th>50%</th>\n",
              "      <td>0.800000</td>\n",
              "    </tr>\n",
              "    <tr>\n",
              "      <th>75%</th>\n",
              "      <td>1.000000</td>\n",
              "    </tr>\n",
              "    <tr>\n",
              "      <th>max</th>\n",
              "      <td>1.000000</td>\n",
              "    </tr>\n",
              "  </tbody>\n",
              "</table>\n",
              "</div><br><label><b>dtype:</b> float64</label>"
            ]
          },
          "metadata": {},
          "execution_count": 10
        }
      ]
    },
    {
      "cell_type": "code",
      "source": [
        "dataset.head()"
      ],
      "metadata": {
        "colab": {
          "base_uri": "https://localhost:8080/",
          "height": 380
        },
        "id": "XTpiCXtOhEa7",
        "outputId": "b3120589-22a7-416c-c71e-163aef2a61c4"
      },
      "execution_count": 10,
      "outputs": [
        {
          "output_type": "execute_result",
          "data": {
            "text/plain": [
              "                    movie_title   reviewer_name  reviewer_rating  \\\n",
              "0  the birth of a nation (1915)     Cineanalyst             10.0   \n",
              "1  the birth of a nation (1915)       Auburn668             10.0   \n",
              "2  the birth of a nation (1915)       mozart182              9.0   \n",
              "3  the birth of a nation (1915)  smithmjsjsmith             10.0   \n",
              "4  the birth of a nation (1915)      sharkey197              7.0   \n",
              "\n",
              "                        movie_genre                      padded_genre  \\\n",
              "0  [Biography, Drama, History, War]  [Biography, Drama, History, War]   \n",
              "1  [Biography, Drama, History, War]  [Biography, Drama, History, War]   \n",
              "2  [Biography, Drama, History, War]  [Biography, Drama, History, War]   \n",
              "3  [Biography, Drama, History, War]  [Biography, Drama, History, War]   \n",
              "4  [Biography, Drama, History, War]  [Biography, Drama, History, War]   \n",
              "\n",
              "                                       padded_tensor  normalized_rating  \n",
              "0  [tensor(1), tensor(1), tensor(1), tensor(1), t...                1.0  \n",
              "1  [tensor(1), tensor(1), tensor(1), tensor(1), t...                1.0  \n",
              "2  [tensor(1), tensor(1), tensor(1), tensor(1), t...                0.9  \n",
              "3  [tensor(1), tensor(1), tensor(1), tensor(1), t...                1.0  \n",
              "4  [tensor(1), tensor(1), tensor(1), tensor(1), t...                0.7  "
            ],
            "text/html": [
              "\n",
              "  <div id=\"df-5ae2d190-ae7b-4624-b471-4e3840fddae9\" class=\"colab-df-container\">\n",
              "    <div>\n",
              "<style scoped>\n",
              "    .dataframe tbody tr th:only-of-type {\n",
              "        vertical-align: middle;\n",
              "    }\n",
              "\n",
              "    .dataframe tbody tr th {\n",
              "        vertical-align: top;\n",
              "    }\n",
              "\n",
              "    .dataframe thead th {\n",
              "        text-align: right;\n",
              "    }\n",
              "</style>\n",
              "<table border=\"1\" class=\"dataframe\">\n",
              "  <thead>\n",
              "    <tr style=\"text-align: right;\">\n",
              "      <th></th>\n",
              "      <th>movie_title</th>\n",
              "      <th>reviewer_name</th>\n",
              "      <th>reviewer_rating</th>\n",
              "      <th>movie_genre</th>\n",
              "      <th>padded_genre</th>\n",
              "      <th>padded_tensor</th>\n",
              "      <th>normalized_rating</th>\n",
              "    </tr>\n",
              "  </thead>\n",
              "  <tbody>\n",
              "    <tr>\n",
              "      <th>0</th>\n",
              "      <td>the birth of a nation (1915)</td>\n",
              "      <td>Cineanalyst</td>\n",
              "      <td>10.0</td>\n",
              "      <td>[Biography, Drama, History, War]</td>\n",
              "      <td>[Biography, Drama, History, War]</td>\n",
              "      <td>[tensor(1), tensor(1), tensor(1), tensor(1), t...</td>\n",
              "      <td>1.0</td>\n",
              "    </tr>\n",
              "    <tr>\n",
              "      <th>1</th>\n",
              "      <td>the birth of a nation (1915)</td>\n",
              "      <td>Auburn668</td>\n",
              "      <td>10.0</td>\n",
              "      <td>[Biography, Drama, History, War]</td>\n",
              "      <td>[Biography, Drama, History, War]</td>\n",
              "      <td>[tensor(1), tensor(1), tensor(1), tensor(1), t...</td>\n",
              "      <td>1.0</td>\n",
              "    </tr>\n",
              "    <tr>\n",
              "      <th>2</th>\n",
              "      <td>the birth of a nation (1915)</td>\n",
              "      <td>mozart182</td>\n",
              "      <td>9.0</td>\n",
              "      <td>[Biography, Drama, History, War]</td>\n",
              "      <td>[Biography, Drama, History, War]</td>\n",
              "      <td>[tensor(1), tensor(1), tensor(1), tensor(1), t...</td>\n",
              "      <td>0.9</td>\n",
              "    </tr>\n",
              "    <tr>\n",
              "      <th>3</th>\n",
              "      <td>the birth of a nation (1915)</td>\n",
              "      <td>smithmjsjsmith</td>\n",
              "      <td>10.0</td>\n",
              "      <td>[Biography, Drama, History, War]</td>\n",
              "      <td>[Biography, Drama, History, War]</td>\n",
              "      <td>[tensor(1), tensor(1), tensor(1), tensor(1), t...</td>\n",
              "      <td>1.0</td>\n",
              "    </tr>\n",
              "    <tr>\n",
              "      <th>4</th>\n",
              "      <td>the birth of a nation (1915)</td>\n",
              "      <td>sharkey197</td>\n",
              "      <td>7.0</td>\n",
              "      <td>[Biography, Drama, History, War]</td>\n",
              "      <td>[Biography, Drama, History, War]</td>\n",
              "      <td>[tensor(1), tensor(1), tensor(1), tensor(1), t...</td>\n",
              "      <td>0.7</td>\n",
              "    </tr>\n",
              "  </tbody>\n",
              "</table>\n",
              "</div>\n",
              "    <div class=\"colab-df-buttons\">\n",
              "\n",
              "  <div class=\"colab-df-container\">\n",
              "    <button class=\"colab-df-convert\" onclick=\"convertToInteractive('df-5ae2d190-ae7b-4624-b471-4e3840fddae9')\"\n",
              "            title=\"Convert this dataframe to an interactive table.\"\n",
              "            style=\"display:none;\">\n",
              "\n",
              "  <svg xmlns=\"http://www.w3.org/2000/svg\" height=\"24px\" viewBox=\"0 -960 960 960\">\n",
              "    <path d=\"M120-120v-720h720v720H120Zm60-500h600v-160H180v160Zm220 220h160v-160H400v160Zm0 220h160v-160H400v160ZM180-400h160v-160H180v160Zm440 0h160v-160H620v160ZM180-180h160v-160H180v160Zm440 0h160v-160H620v160Z\"/>\n",
              "  </svg>\n",
              "    </button>\n",
              "\n",
              "  <style>\n",
              "    .colab-df-container {\n",
              "      display:flex;\n",
              "      gap: 12px;\n",
              "    }\n",
              "\n",
              "    .colab-df-convert {\n",
              "      background-color: #E8F0FE;\n",
              "      border: none;\n",
              "      border-radius: 50%;\n",
              "      cursor: pointer;\n",
              "      display: none;\n",
              "      fill: #1967D2;\n",
              "      height: 32px;\n",
              "      padding: 0 0 0 0;\n",
              "      width: 32px;\n",
              "    }\n",
              "\n",
              "    .colab-df-convert:hover {\n",
              "      background-color: #E2EBFA;\n",
              "      box-shadow: 0px 1px 2px rgba(60, 64, 67, 0.3), 0px 1px 3px 1px rgba(60, 64, 67, 0.15);\n",
              "      fill: #174EA6;\n",
              "    }\n",
              "\n",
              "    .colab-df-buttons div {\n",
              "      margin-bottom: 4px;\n",
              "    }\n",
              "\n",
              "    [theme=dark] .colab-df-convert {\n",
              "      background-color: #3B4455;\n",
              "      fill: #D2E3FC;\n",
              "    }\n",
              "\n",
              "    [theme=dark] .colab-df-convert:hover {\n",
              "      background-color: #434B5C;\n",
              "      box-shadow: 0px 1px 3px 1px rgba(0, 0, 0, 0.15);\n",
              "      filter: drop-shadow(0px 1px 2px rgba(0, 0, 0, 0.3));\n",
              "      fill: #FFFFFF;\n",
              "    }\n",
              "  </style>\n",
              "\n",
              "    <script>\n",
              "      const buttonEl =\n",
              "        document.querySelector('#df-5ae2d190-ae7b-4624-b471-4e3840fddae9 button.colab-df-convert');\n",
              "      buttonEl.style.display =\n",
              "        google.colab.kernel.accessAllowed ? 'block' : 'none';\n",
              "\n",
              "      async function convertToInteractive(key) {\n",
              "        const element = document.querySelector('#df-5ae2d190-ae7b-4624-b471-4e3840fddae9');\n",
              "        const dataTable =\n",
              "          await google.colab.kernel.invokeFunction('convertToInteractive',\n",
              "                                                    [key], {});\n",
              "        if (!dataTable) return;\n",
              "\n",
              "        const docLinkHtml = 'Like what you see? Visit the ' +\n",
              "          '<a target=\"_blank\" href=https://colab.research.google.com/notebooks/data_table.ipynb>data table notebook</a>'\n",
              "          + ' to learn more about interactive tables.';\n",
              "        element.innerHTML = '';\n",
              "        dataTable['output_type'] = 'display_data';\n",
              "        await google.colab.output.renderOutput(dataTable, element);\n",
              "        const docLink = document.createElement('div');\n",
              "        docLink.innerHTML = docLinkHtml;\n",
              "        element.appendChild(docLink);\n",
              "      }\n",
              "    </script>\n",
              "  </div>\n",
              "\n",
              "\n",
              "<div id=\"df-3af3da20-e7b1-411a-9e25-16254fcd3cb7\">\n",
              "  <button class=\"colab-df-quickchart\" onclick=\"quickchart('df-3af3da20-e7b1-411a-9e25-16254fcd3cb7')\"\n",
              "            title=\"Suggest charts\"\n",
              "            style=\"display:none;\">\n",
              "\n",
              "<svg xmlns=\"http://www.w3.org/2000/svg\" height=\"24px\"viewBox=\"0 0 24 24\"\n",
              "     width=\"24px\">\n",
              "    <g>\n",
              "        <path d=\"M19 3H5c-1.1 0-2 .9-2 2v14c0 1.1.9 2 2 2h14c1.1 0 2-.9 2-2V5c0-1.1-.9-2-2-2zM9 17H7v-7h2v7zm4 0h-2V7h2v10zm4 0h-2v-4h2v4z\"/>\n",
              "    </g>\n",
              "</svg>\n",
              "  </button>\n",
              "\n",
              "<style>\n",
              "  .colab-df-quickchart {\n",
              "      --bg-color: #E8F0FE;\n",
              "      --fill-color: #1967D2;\n",
              "      --hover-bg-color: #E2EBFA;\n",
              "      --hover-fill-color: #174EA6;\n",
              "      --disabled-fill-color: #AAA;\n",
              "      --disabled-bg-color: #DDD;\n",
              "  }\n",
              "\n",
              "  [theme=dark] .colab-df-quickchart {\n",
              "      --bg-color: #3B4455;\n",
              "      --fill-color: #D2E3FC;\n",
              "      --hover-bg-color: #434B5C;\n",
              "      --hover-fill-color: #FFFFFF;\n",
              "      --disabled-bg-color: #3B4455;\n",
              "      --disabled-fill-color: #666;\n",
              "  }\n",
              "\n",
              "  .colab-df-quickchart {\n",
              "    background-color: var(--bg-color);\n",
              "    border: none;\n",
              "    border-radius: 50%;\n",
              "    cursor: pointer;\n",
              "    display: none;\n",
              "    fill: var(--fill-color);\n",
              "    height: 32px;\n",
              "    padding: 0;\n",
              "    width: 32px;\n",
              "  }\n",
              "\n",
              "  .colab-df-quickchart:hover {\n",
              "    background-color: var(--hover-bg-color);\n",
              "    box-shadow: 0 1px 2px rgba(60, 64, 67, 0.3), 0 1px 3px 1px rgba(60, 64, 67, 0.15);\n",
              "    fill: var(--button-hover-fill-color);\n",
              "  }\n",
              "\n",
              "  .colab-df-quickchart-complete:disabled,\n",
              "  .colab-df-quickchart-complete:disabled:hover {\n",
              "    background-color: var(--disabled-bg-color);\n",
              "    fill: var(--disabled-fill-color);\n",
              "    box-shadow: none;\n",
              "  }\n",
              "\n",
              "  .colab-df-spinner {\n",
              "    border: 2px solid var(--fill-color);\n",
              "    border-color: transparent;\n",
              "    border-bottom-color: var(--fill-color);\n",
              "    animation:\n",
              "      spin 1s steps(1) infinite;\n",
              "  }\n",
              "\n",
              "  @keyframes spin {\n",
              "    0% {\n",
              "      border-color: transparent;\n",
              "      border-bottom-color: var(--fill-color);\n",
              "      border-left-color: var(--fill-color);\n",
              "    }\n",
              "    20% {\n",
              "      border-color: transparent;\n",
              "      border-left-color: var(--fill-color);\n",
              "      border-top-color: var(--fill-color);\n",
              "    }\n",
              "    30% {\n",
              "      border-color: transparent;\n",
              "      border-left-color: var(--fill-color);\n",
              "      border-top-color: var(--fill-color);\n",
              "      border-right-color: var(--fill-color);\n",
              "    }\n",
              "    40% {\n",
              "      border-color: transparent;\n",
              "      border-right-color: var(--fill-color);\n",
              "      border-top-color: var(--fill-color);\n",
              "    }\n",
              "    60% {\n",
              "      border-color: transparent;\n",
              "      border-right-color: var(--fill-color);\n",
              "    }\n",
              "    80% {\n",
              "      border-color: transparent;\n",
              "      border-right-color: var(--fill-color);\n",
              "      border-bottom-color: var(--fill-color);\n",
              "    }\n",
              "    90% {\n",
              "      border-color: transparent;\n",
              "      border-bottom-color: var(--fill-color);\n",
              "    }\n",
              "  }\n",
              "</style>\n",
              "\n",
              "  <script>\n",
              "    async function quickchart(key) {\n",
              "      const quickchartButtonEl =\n",
              "        document.querySelector('#' + key + ' button');\n",
              "      quickchartButtonEl.disabled = true;  // To prevent multiple clicks.\n",
              "      quickchartButtonEl.classList.add('colab-df-spinner');\n",
              "      try {\n",
              "        const charts = await google.colab.kernel.invokeFunction(\n",
              "            'suggestCharts', [key], {});\n",
              "      } catch (error) {\n",
              "        console.error('Error during call to suggestCharts:', error);\n",
              "      }\n",
              "      quickchartButtonEl.classList.remove('colab-df-spinner');\n",
              "      quickchartButtonEl.classList.add('colab-df-quickchart-complete');\n",
              "    }\n",
              "    (() => {\n",
              "      let quickchartButtonEl =\n",
              "        document.querySelector('#df-3af3da20-e7b1-411a-9e25-16254fcd3cb7 button');\n",
              "      quickchartButtonEl.style.display =\n",
              "        google.colab.kernel.accessAllowed ? 'block' : 'none';\n",
              "    })();\n",
              "  </script>\n",
              "</div>\n",
              "\n",
              "    </div>\n",
              "  </div>\n"
            ],
            "application/vnd.google.colaboratory.intrinsic+json": {
              "type": "dataframe",
              "variable_name": "dataset"
            }
          },
          "metadata": {},
          "execution_count": 10
        }
      ]
    },
    {
      "cell_type": "markdown",
      "source": [
        "Counting Unique Users and Movies which will be useful for setting up embeddings later."
      ],
      "metadata": {
        "id": "C-qgflNalgSs"
      }
    },
    {
      "cell_type": "code",
      "source": [
        "num_users = dataset['reviewer_name'].nunique()\n",
        "num_movies = dataset['movie_title'].nunique()\n",
        "print(\"Number of unique users:\", num_users)\n",
        "print(\"Number of unique movies:\", num_movies)"
      ],
      "metadata": {
        "colab": {
          "base_uri": "https://localhost:8080/"
        },
        "id": "gfts2zNKh01H",
        "outputId": "9e2dac3a-7c7b-4520-a5d2-fc0cf965be9b"
      },
      "execution_count": 11,
      "outputs": [
        {
          "output_type": "stream",
          "name": "stdout",
          "text": [
            "Number of unique users: 371203\n",
            "Number of unique movies: 2102\n"
          ]
        }
      ]
    },
    {
      "cell_type": "markdown",
      "source": [
        "Check genre distribution across movies"
      ],
      "metadata": {
        "id": "xaIg_XMuOTEi"
      }
    },
    {
      "cell_type": "code",
      "source": [
        "unique_movies = []\n",
        "for d in dataset['movie_title']:\n",
        "  if d not in unique_movies:\n",
        "    unique_movies.append(d)\n",
        "\n",
        "genre_counts = {}\n",
        "\n",
        "for movie_title in unique_movies:\n",
        "    movie_row = dataset[dataset['movie_title'] == movie_title].iloc[0]\n",
        "    genres = movie_row['movie_genre']\n",
        "\n",
        "    for genre in genres:\n",
        "        if genre not in genre_counts:\n",
        "            genre_counts[genre] = 1\n",
        "        else:\n",
        "            genre_counts[genre] += 1\n",
        "\n",
        "df_genre_counts = pd.DataFrame(list(genre_counts.items()), columns=['Genre', 'Counts'])\n",
        "df_genre_counts = df_genre_counts.sort_values(by='Counts', ascending=False)\n",
        "\n",
        "genre_counts_percent = {genre: count / 2102 for genre, count in genre_counts.items()}\n",
        "\n",
        "sorted_genre_counts_percent = dict(sorted(genre_counts_percent.items(), key=lambda item: item[1], reverse=True))\n",
        "\n",
        "df_genre_counts = pd.DataFrame(list(sorted_genre_counts_percent.items()), columns=['Genre', 'Percentage of Unique movies in dataset'])\n",
        "\n",
        "plt.figure(figsize=(16, 10))\n",
        "ax = sns.barplot(x='Genre', y='Percentage of Unique movies in dataset', data=df_genre_counts)\n",
        "ax.bar_label(ax.containers[0], fontsize=10, padding=3, fmt='%.2f')\n",
        "ax.set_xticklabels(ax.get_xticklabels(), rotation=45, ha=\"right\")\n",
        "plt.title('Percentage of genre counts for all unique movies in the data frame')\n",
        "plt.show()"
      ],
      "metadata": {
        "colab": {
          "base_uri": "https://localhost:8080/",
          "height": 788
        },
        "id": "fsa6rGo-OSu8",
        "outputId": "80af7255-0e30-4abf-ba96-f802ce36bbf5"
      },
      "execution_count": 13,
      "outputs": [
        {
          "output_type": "stream",
          "name": "stderr",
          "text": [
            "<ipython-input-13-0dbbbd6649f3>:30: UserWarning: set_ticklabels() should only be used with a fixed number of ticks, i.e. after set_ticks() or using a FixedLocator.\n",
            "  ax.set_xticklabels(ax.get_xticklabels(), rotation=45, ha=\"right\")\n"
          ]
        },
        {
          "output_type": "display_data",
          "data": {
            "text/plain": [
              "<Figure size 1600x1000 with 1 Axes>"
            ],
            "image/png": "[encoded data removed]"
          },
          "metadata": {}
        }
      ]
    },
    {
      "cell_type": "markdown",
      "source": [
        "Encoding of User and Movie IDs"
      ],
      "metadata": {
        "id": "ab5nWqaYlyD9"
      }
    },
    {
      "cell_type": "code",
      "source": [
        "user_en = preprocessing.LabelEncoder()\n",
        "movie_en = preprocessing.LabelEncoder()\n",
        "dataset['reviewer_name'] = user_en.fit_transform(dataset['reviewer_name'])\n",
        "dataset['movie_title'] =  movie_en.fit_transform(dataset['movie_title'])"
      ],
      "metadata": {
        "id": "ANziTvLJl1Yp"
      },
      "execution_count": 12,
      "outputs": []
    },
    {
      "cell_type": "markdown",
      "source": [
        "Splitting the Data into Training and Validation Sets - We set aside 70% for training, 15% for validation and 15% for testing"
      ],
      "metadata": {
        "id": "2BC2vquhjkYs"
      }
    },
    {
      "cell_type": "code",
      "source": [
        "# Step 1: Split the data into initial training (70%) and temporary set (30%)\n",
        "train_data, temp_data = model_selection.train_test_split(dataset, test_size=0.3, random_state=42)\n",
        "\n",
        "# Step 2: Split the temporary set into validation (50% of temp, or 15% of total) and test (50% of temp, or 15% of total)\n",
        "val_data, test_data = model_selection.train_test_split(temp_data, test_size=0.5, random_state=42)\n",
        "\n",
        "# Step 3: Filter the validation and test sets to include only users and items present in the training set\n",
        "train_users = train_data[\"reviewer_name\"].unique()\n",
        "train_items = train_data[\"movie_title\"].unique()\n",
        "\n",
        "val_data = val_data[val_data[\"reviewer_name\"].isin(train_users) & val_data[\"movie_title\"].isin(train_items)]\n",
        "test_data = test_data[test_data[\"reviewer_name\"].isin(train_users) & test_data[\"movie_title\"].isin(train_items)]"
      ],
      "metadata": {
        "id": "MRJF87DCHolW"
      },
      "execution_count": 13,
      "outputs": []
    },
    {
      "cell_type": "code",
      "source": [
        "print(len(train_data))\n",
        "print(len(val_data))\n",
        "print(len(test_data))"
      ],
      "metadata": {
        "colab": {
          "base_uri": "https://localhost:8080/"
        },
        "id": "Ju356BAQE5uk",
        "outputId": "c2640965-44d8-4d8d-c8eb-b27ddf897663"
      },
      "execution_count": 14,
      "outputs": [
        {
          "output_type": "stream",
          "name": "stdout",
          "text": [
            "559010\n",
            "73031\n",
            "72621\n"
          ]
        }
      ]
    },
    {
      "cell_type": "code",
      "source": [
        "class MovieNReview:\n",
        "    def __init__(self, users, movies, ratings, genres):\n",
        "        self.users = users\n",
        "        self.movies = movies\n",
        "        self.ratings = ratings\n",
        "        self.genres = genres\n",
        "\n",
        "    def __len__(self):\n",
        "        return len(self.users)  # Number of samples in the dataset\n",
        "\n",
        "    def __getitem__(self, item):\n",
        "        # Get the data at the specified index\n",
        "        user = self.users[item]\n",
        "        movie = self.movies[item]\n",
        "        rating = self.ratings[item]\n",
        "        genre = self.genres[item]\n",
        "\n",
        "        # Convert data to tensors\n",
        "        user_tensor = torch.tensor(user, dtype=torch.long)\n",
        "        movie_tensor = torch.tensor(movie, dtype=torch.long)\n",
        "        rating_tensor = torch.tensor(rating, dtype=torch.float)\n",
        "\n",
        "        # If genre is already a tensor, use it as is; otherwise, convert it to a tensor\n",
        "        if isinstance(genre, torch.Tensor):\n",
        "            genre_tensor = genre\n",
        "        else:\n",
        "            genre_tensor = torch.tensor(genre, dtype=torch.long)\n",
        "\n",
        "        # Return a dictionary with all items\n",
        "        return {\n",
        "            \"user\": user_tensor,\n",
        "            \"movie\": movie_tensor,\n",
        "            \"rating\": rating_tensor,\n",
        "            \"genre\": genre_tensor\n",
        "        }\n"
      ],
      "metadata": {
        "id": "xgh9roj3proJ"
      },
      "execution_count": 14,
      "outputs": []
    },
    {
      "cell_type": "markdown",
      "source": [
        "Creating Dataset Instances for Training, Testing and Validation"
      ],
      "metadata": {
        "id": "rc2AmoQnw9kz"
      }
    },
    {
      "cell_type": "code",
      "source": [
        "train_dataset = MovieNReview(\n",
        "    users=train_data['reviewer_name'].values,\n",
        "    movies=train_data['movie_title'].values,\n",
        "    ratings=train_data['normalized_rating'].values,\n",
        "    genres=train_data['padded_tensor'].values\n",
        ")\n",
        "\n",
        "test_dataset = MovieNReview(\n",
        "    users=test_data['reviewer_name'].values,\n",
        "    movies=test_data['movie_title'].values,\n",
        "    ratings=test_data['normalized_rating'].values,\n",
        "    genres=test_data['padded_tensor'].values\n",
        ")\n",
        "\n",
        "validation_dataset = MovieNReview(\n",
        "    users=val_data['reviewer_name'].values,\n",
        "    movies=val_data['movie_title'].values,\n",
        "    ratings=val_data['normalized_rating'].values,\n",
        "    genres=val_data['padded_tensor'].values\n",
        ")"
      ],
      "metadata": {
        "id": "ZLibfROau_u1"
      },
      "execution_count": 15,
      "outputs": []
    },
    {
      "cell_type": "markdown",
      "source": [
        "Setting Up Data Loaders"
      ],
      "metadata": {
        "id": "1E9WBwz_yd_6"
      }
    },
    {
      "cell_type": "code",
      "source": [
        "device = torch.device(\"cuda\" if torch.cuda.is_available() else \"cpu\")\n",
        "\n",
        "if torch.cuda.is_available():\n",
        "  train_loader = DataLoader(train_dataset, batch_size=32, shuffle=True, num_workers=2, pin_memory=True)\n",
        "  validation_loader = DataLoader(validation_dataset, batch_size=32, shuffle=False, num_workers=2, pin_memory=True)\n",
        "  test_loader = DataLoader(test_dataset, batch_size=32, shuffle=False, num_workers=2, pin_memory=True)\n",
        "  print(\"Using GPU:\", torch.cuda.get_device_name(0))\n",
        "else:\n",
        "  train_loader = DataLoader(train_dataset, batch_size=32, shuffle=True, num_workers=2)\n",
        "  validation_loader = DataLoader(validation_dataset, batch_size=32, shuffle=False, num_workers=2)\n",
        "  test_loader = DataLoader(test_dataset, batch_size=32, shuffle=False, num_workers=2)\n",
        "  print(\"Using CPU\")\n"
      ],
      "metadata": {
        "colab": {
          "base_uri": "https://localhost:8080/"
        },
        "id": "c2D2gAzGxDPp",
        "outputId": "0f66e1df-646a-4651-97fd-18d7c1b39fdf"
      },
      "execution_count": 16,
      "outputs": [
        {
          "output_type": "stream",
          "name": "stdout",
          "text": [
            "Using GPU: Tesla T4\n"
          ]
        }
      ]
    },
    {
      "cell_type": "markdown",
      "source": [
        "# Neural Collaborative Filtering (NCF)"
      ],
      "metadata": {
        "id": "dYnQJqJf2oLh"
      }
    },
    {
      "cell_type": "markdown",
      "source": [
        "Neural Collaborative Filtering (NCF) is a deep learning-based approach to collaborative filtering, which is commonly used in recommender systems. Unlike traditional collaborative filtering methods (such as matrix factorization), NCF uses neural networks to model the interaction between users and items for recommendation."
      ],
      "metadata": {
        "id": "LuGQYMq5nYJL"
      }
    },
    {
      "cell_type": "markdown",
      "source": [
        "## Multi-Layer Perceptron (MLP)-based collaborative filtering model"
      ],
      "metadata": {
        "id": "QkmesvKsI74A"
      }
    },
    {
      "cell_type": "markdown",
      "source": [
        "In this model, we apply neural networks to model the complex relationships and collaborative effects between users and ratings, something that matrix factorization struggles to capture since it only involves matrix multiplication. By using neural networks with hidden layers, we are able to more effectively learn and represent these interactions.\n",
        "\n",
        "The model takes user and movie embeddings as inputs, where the one-hot vectors (OHV) of users and movies are transformed into lower-dimensional embeddings that serve as lookup tables. The network then adjusts these embeddings based on the loss function during training."
      ],
      "metadata": {
        "id": "KOd4UghFnF77"
      }
    },
    {
      "cell_type": "markdown",
      "source": [
        "**Model Definition**"
      ],
      "metadata": {
        "id": "f9YT2bQ2nsBa"
      }
    },
    {
      "cell_type": "code",
      "source": [
        "class NCFModel1(nn.Module):\n",
        "    def __init__(self, num_users, num_movies, embedding_size=32, hidden_dim=32, dropout_rate=0.2):\n",
        "        super(NCFModel1, self).__init__()\n",
        "\n",
        "        # Embedding layers\n",
        "        self.user_embedding = nn.Embedding(num_users, embedding_size)\n",
        "        self.movie_embedding = nn.Embedding(num_movies, embedding_size)\n",
        "\n",
        "        # Fully connected layers\n",
        "        self.fc1 = nn.Linear(2 * embedding_size, hidden_dim)  # Concatenate user and movie embeddings\n",
        "        self.fc2 = nn.Linear(hidden_dim, 1)  # Output layer\n",
        "\n",
        "        # Dropout layer to prevent overfitting\n",
        "        self.dropout = nn.Dropout(p=dropout_rate)\n",
        "\n",
        "        # Activation function\n",
        "        self.relu = nn.ReLU()\n",
        "\n",
        "    def forward(self, user, movie):\n",
        "        # Get embeddings for users and movies\n",
        "        user_embedded = self.user_embedding(user)\n",
        "        movie_embedded = self.movie_embedding(movie)\n",
        "\n",
        "        # Concatenate user and movie embeddings\n",
        "        combined = torch.cat([user_embedded, movie_embedded], dim=1)\n",
        "\n",
        "        # Pass through fully connected layers with ReLU activation\n",
        "        x = self.relu(self.fc1(combined))\n",
        "\n",
        "        # Apply dropout\n",
        "        x = self.dropout(x)\n",
        "\n",
        "        # Output predicted rating\n",
        "        output = self.fc2(x)\n",
        "\n",
        "        return output\n"
      ],
      "metadata": {
        "id": "eNz33UYWJqJw"
      },
      "execution_count": 117,
      "outputs": []
    },
    {
      "cell_type": "markdown",
      "source": [
        "**Model Training**"
      ],
      "metadata": {
        "id": "qNOYzYbcnuIm"
      }
    },
    {
      "cell_type": "code",
      "source": [
        "# Initialize model\n",
        "recommendation_model = NCFModel1(\n",
        "    num_users=len(user_en.classes_),\n",
        "    num_movies=len(movie_en.classes_)\n",
        ").to(device)\n",
        "\n",
        "# Optimizer and loss function\n",
        "optimizer = torch.optim.Adam(recommendation_model.parameters(), lr=1e-3)\n",
        "loss_func = nn.MSELoss()"
      ],
      "metadata": {
        "id": "QwyIRZg1J5F_"
      },
      "execution_count": 118,
      "outputs": []
    },
    {
      "cell_type": "code",
      "source": [
        "EPOCHS = 2\n",
        "for epoch in range(EPOCHS):\n",
        "    recommendation_model.train()\n",
        "    total_loss = 0\n",
        "    for step, train_data in enumerate(tqdm(train_loader, desc=f\"Epoch {epoch+1}/{EPOCHS}\", leave=False)):\n",
        "        # Move data to device\n",
        "        users = train_data[\"user\"].to(device)\n",
        "        movies = train_data[\"movie\"].to(device)\n",
        "        ratings = train_data[\"rating\"].to(device)\n",
        "\n",
        "        # Forward pass\n",
        "        output = recommendation_model(users, movies)\n",
        "\n",
        "        # Reshape output to match target shape\n",
        "        output = output.squeeze()  # Removes the singleton dimension, changing from [5, 1] to [5]\n",
        "\n",
        "        # Calculate loss\n",
        "        loss = loss_func(output, ratings.float())\n",
        "        total_loss += loss.item()\n",
        "\n",
        "        # Backward pass\n",
        "        optimizer.zero_grad()\n",
        "        loss.backward()\n",
        "        optimizer.step()\n",
        "\n",
        "        # Optionally log progress every 100 steps\n",
        "        # if step % 100 == 0:\n",
        "        #     print(f\"Step {step}/{len(train_loader)} - Loss: {loss.item():.4f}\")\n",
        "\n",
        "    # Print average loss after each epoch\n",
        "    print(f\"Epoch {epoch+1}, Average Loss: {total_loss / len(train_loader):.4f}\")"
      ],
      "metadata": {
        "colab": {
          "base_uri": "https://localhost:8080/"
        },
        "id": "JOhtbm_xYVzy",
        "outputId": "3c183223-9e29-4bcf-b09a-6f9b6447ed7e"
      },
      "execution_count": 119,
      "outputs": [
        {
          "output_type": "stream",
          "name": "stderr",
          "text": []
        },
        {
          "output_type": "stream",
          "name": "stdout",
          "text": [
            "Epoch 1, Average Loss: 0.0759\n"
          ]
        },
        {
          "output_type": "stream",
          "name": "stderr",
          "text": [
            "                                                                 "
          ]
        },
        {
          "output_type": "stream",
          "name": "stdout",
          "text": [
            "Epoch 2, Average Loss: 0.0703\n"
          ]
        },
        {
          "output_type": "stream",
          "name": "stderr",
          "text": [
            "\r"
          ]
        }
      ]
    },
    {
      "cell_type": "markdown",
      "source": [
        "**Model Evaluation**"
      ],
      "metadata": {
        "id": "PKfQTdYJnxV4"
      }
    },
    {
      "cell_type": "code",
      "source": [
        "# Set threshold for recommendation\n",
        "recommendation_threshold = dataset['normalized_rating'].mean()\n",
        "print(f\"Recommendation Threshold: {recommendation_threshold}\")"
      ],
      "metadata": {
        "colab": {
          "base_uri": "https://localhost:8080/"
        },
        "id": "J7wb6l25qyKw",
        "outputId": "5450adb8-33c6-4202-dee6-1aee754f029e"
      },
      "execution_count": 17,
      "outputs": [
        {
          "output_type": "stream",
          "name": "stdout",
          "text": [
            "Recommendation Threshold: 0.7207461348579556\n"
          ]
        }
      ]
    },
    {
      "cell_type": "code",
      "source": [
        "# Recommendation criteria\n",
        "def recommend(val, threshold):\n",
        "    return 1 if val > threshold else 0\n",
        "\n",
        "# Function to calculate Precision, Recall at Top-k\n",
        "def calc_PRA(user_ratings, k, recommendation_threshold=0.9):\n",
        "    # Sort user_ratings in descending order based on the predicted rating (first element)\n",
        "    user_ratings.sort(key=lambda x: x[0], reverse=True)\n",
        "\n",
        "    # The number of recommended items that are predicted relevant and within top-k\n",
        "    n_rec_k = sum(est >= recommendation_threshold for est, _ in user_ratings[:k])\n",
        "\n",
        "    # The number of actual relevant items within top-k\n",
        "    n_rel_k = sum(true_r >= recommendation_threshold for _, true_r in user_ratings[:k])\n",
        "\n",
        "    # The number of recommended items that are actually relevant within top-k\n",
        "    n_rel_and_rec_k = sum((true_r >= recommendation_threshold) and (est >= recommendation_threshold) for est, true_r in user_ratings[:k])\n",
        "\n",
        "    # Precision: proportion of recommended relevant items in top-k\n",
        "    precision = n_rel_and_rec_k / n_rec_k if n_rec_k != 0 else 1\n",
        "\n",
        "    # Recall: proportion of actual relevant items in top-k\n",
        "    recall = n_rel_and_rec_k / n_rel_k if n_rel_k != 0 else 1\n",
        "\n",
        "    return precision, recall\n",
        "\n",
        "def calculate_ndcg(user_ratings, k, threshold):\n",
        "    \"\"\"\n",
        "    Calculate NDCG@k for a set of user ratings based on predicted relevance and actual relevance.\n",
        "\n",
        "    :param user_ratings: List of tuples, each containing (predicted_rating, true_rating).\n",
        "    :param k: The number of top recommendations to consider for NDCG.\n",
        "    :param threshold: The threshold for relevance; ratings above this are considered relevant.\n",
        "    :return: NDCG score.\n",
        "    \"\"\"\n",
        "\n",
        "    # Sort user_ratings in descending order based on predicted rating (first element)\n",
        "    user_ratings.sort(key=lambda x: x[0], reverse=True)\n",
        "\n",
        "    # Calculate DCG (Discounted Cumulative Gain)\n",
        "    dcg = 0\n",
        "    for i in range(min(k, len(user_ratings))):\n",
        "        rel = 1 if user_ratings[i][1] >= threshold else 0  # Relevance score: binary (1 or 0)\n",
        "        dcg += rel / math.log2(i + 2)  # Log base 2\n",
        "\n",
        "    # Calculate IDCG (Ideal DCG), which is the DCG for the ideal ranking (best relevance order)\n",
        "    ideal_ratings = sorted(user_ratings, key=lambda x: x[1], reverse=True)  # Sort by true relevance\n",
        "    idcg = 0\n",
        "    for i in range(min(k, len(ideal_ratings))):\n",
        "        rel = 1 if ideal_ratings[i][1] >= threshold else 0\n",
        "        idcg += rel / math.log2(i + 2)\n",
        "\n",
        "    # Calculate NDCG\n",
        "    ndcg = dcg / idcg if idcg != 0 else 0  # Avoid division by zero\n",
        "\n",
        "    return ndcg\n"
      ],
      "metadata": {
        "id": "0ES10hHXwzjL"
      },
      "execution_count": 18,
      "outputs": []
    },
    {
      "cell_type": "code",
      "source": [
        "# Initialize dictionaries to hold metrics for each user\n",
        "precisions = {}\n",
        "recalls = {}\n",
        "f1_scores = {}\n",
        "ndcgs = {}\n",
        "\n",
        "# Define the top-k recommendation list size\n",
        "k = 5\n",
        "\n",
        "# Initialize for storing true and predicted ratings for later use\n",
        "y_test = []\n",
        "y_pred = []\n",
        "\n",
        "# Loop through the validation data\n",
        "pred_true_comparison = defaultdict(list)\n",
        "with torch.no_grad():\n",
        "    for valid_data in validation_loader:\n",
        "        users = valid_data[\"user\"].to(device)\n",
        "        movies = valid_data[\"movie\"].to(device)\n",
        "        ratings = valid_data[\"rating\"].to(device)\n",
        "\n",
        "        # Get model predictions\n",
        "        output = recommendation_model(users, movies)\n",
        "\n",
        "        # Store results for each user\n",
        "        for user, pred, true in zip(users, output, ratings):\n",
        "            pred_true_comparison[user.item()].append((pred[0].item(), true.item()))\n",
        "            y_test.append(true.item())\n",
        "            y_pred.append(pred[0].item())\n",
        "\n",
        "# Calculate metrics for each user\n",
        "for user_id, user_ratings in pred_true_comparison.items():\n",
        "    precision, recall = calc_PRA(user_ratings, k, recommendation_threshold)\n",
        "    precisions[user_id] = precision\n",
        "    recalls[user_id] = recall\n",
        "    # Calculate F1 score for the user\n",
        "    f1_scores[user_id] = 2 * (precision * recall) / (precision + recall) if (precision + recall) > 0 else 0\n",
        "    # Calculate NDCG@k for the user\n",
        "    ndcgs[user_id] = calculate_ndcg(user_ratings, k, recommendation_threshold)\n",
        "\n",
        "# Calculate average metrics across all users\n",
        "average_precision = sum(precisions.values()) / len(precisions)\n",
        "average_recall = sum(recalls.values()) / len(recalls)\n",
        "average_f1 = sum(f1_scores.values()) / len(f1_scores)\n",
        "average_ndcg = sum(ndcgs.values()) / len(ndcgs)\n",
        "\n",
        "# Print out the metrics\n",
        "print(f\"Average precision of top {k} movies recommended for all users - validation: {average_precision:.4f}\")\n",
        "print(f\"Average recall of top {k} movies recommended for all users - validation: {average_recall:.4f}\")\n",
        "print(f\"Average F1 score of top {k} movies recommended for all users - validation: {average_f1:.4f}\")\n",
        "print(f\"Average NDCG@{k} of top movies recommended for all users - validation: {average_ndcg:.4f}\")"
      ],
      "metadata": {
        "id": "NaWgBehox3f3",
        "colab": {
          "base_uri": "https://localhost:8080/"
        },
        "outputId": "fb71a675-f353-4c04-bd43-4503e62846a7"
      },
      "execution_count": 120,
      "outputs": [
        {
          "output_type": "stream",
          "name": "stdout",
          "text": [
            "Average precision of top 5 movies recommended for all users - validation: 0.8654\n",
            "Average recall of top 5 movies recommended for all users - validation: 0.7108\n",
            "Average F1 score of top 5 movies recommended for all users - validation: 0.6102\n",
            "Average NDCG@5 of top movies recommended for all users - validation: 0.6276\n"
          ]
        }
      ]
    },
    {
      "cell_type": "markdown",
      "source": [
        "Calculate Average Metrics\n",
        "\n",
        "* Precision: The proportion of recommended movies that are relevant.\n",
        "\n",
        "* Recall: The proportion of relevant movies that have been recommended.\n",
        "\n",
        "* F1 score: The harmonic mean of precision and recall.\n",
        "\n",
        "* NDCG: Normalized Discounted Cumulative Gain (NDCG) is a metric used to assess the quality of a ranking system by evaluating how well it orders items based on relevance.\n"
      ],
      "metadata": {
        "id": "Rvls45Eryqp9"
      }
    },
    {
      "cell_type": "markdown",
      "source": [
        "### Hyperparameter tuning"
      ],
      "metadata": {
        "id": "xe8CFxWrQXd-"
      }
    },
    {
      "cell_type": "markdown",
      "source": [
        "* Add complexity to the model by increasing hidden layers, now with dimensions (64, 32, 16).\n",
        "  * By adding more layers with different numbers of units (64, 32, 16), Model 2 can learn more intricate patterns and relationships in the data, potentially improving its ability to make accurate recommendations.\n",
        "  * In Model 2, the smaller embedding size (64 instead of 128) could help in reducing the number of model parameters, leading to faster training and preventing overfitting, especially if the dataset is not extremely large.\n",
        "* Increased number of training epochs from 2 to 4.\n",
        "  * Increasing epochs in Model 2 allows the model more time to learn and adjust the weights, leading to improved performance. Since Model 2 has a more complex architecture, it may require more epochs to fully converge."
      ],
      "metadata": {
        "id": "Mv2SaOm_4gwW"
      }
    },
    {
      "cell_type": "code",
      "source": [
        "class NCFModel2(nn.Module):\n",
        "    def __init__(\n",
        "        self,\n",
        "        num_users,\n",
        "        num_movies,\n",
        "        embedding_size=64,\n",
        "        hidden_dim=(64, 32, 16),  # Hidden layers with different sizes\n",
        "        dropout_rate=0.2,\n",
        "    ):\n",
        "        super(NCFModel2, self).__init__()\n",
        "\n",
        "        # Embedding layers\n",
        "        self.user_embedding = nn.Embedding(num_users, embedding_size)\n",
        "        self.movie_embedding = nn.Embedding(num_movies, embedding_size)\n",
        "\n",
        "        # CHANGE\n",
        "        # Building the MLP (Hidden layers setup)\n",
        "        hidden_layers = []\n",
        "        input_units = 2 * embedding_size  # The concatenated user and movie embeddings\n",
        "        for num_units in hidden_dim:\n",
        "            hidden_layers.append(nn.Linear(input_units, num_units))\n",
        "            hidden_layers.append(nn.ReLU())\n",
        "            hidden_layers.append(nn.Dropout(p=dropout_rate))\n",
        "            input_units = num_units  # Update input size for the next layer\n",
        "\n",
        "        # Final output layer (rating prediction)\n",
        "        hidden_layers.append(nn.Linear(hidden_dim[-1], 1))  # Output layer with 1 unit for rating prediction\n",
        "\n",
        "        # Define the MLP as a sequential container\n",
        "        self.MLP = nn.Sequential(*hidden_layers)\n",
        "\n",
        "    def forward(self, user, movie):\n",
        "        # Get embeddings for users and movies\n",
        "        user_embedded = self.user_embedding(user)\n",
        "        movie_embedded = self.movie_embedding(movie)\n",
        "\n",
        "        # Concatenate user and movie embeddings\n",
        "        combined = torch.cat([user_embedded, movie_embedded], dim=1)\n",
        "\n",
        "        # Pass through the MLP to predict the rating\n",
        "        output = self.MLP(combined)\n",
        "\n",
        "        return output"
      ],
      "metadata": {
        "id": "UGOPzP5l26Dx"
      },
      "execution_count": 64,
      "outputs": []
    },
    {
      "cell_type": "markdown",
      "source": [
        "### Training and Validation"
      ],
      "metadata": {
        "id": "ZQG1l4b5j6IK"
      }
    },
    {
      "cell_type": "code",
      "source": [
        "# Initialize model\n",
        "recommendation_model = NCFModel2(\n",
        "    num_users=len(user_en.classes_),\n",
        "    num_movies=len(movie_en.classes_)\n",
        ").to(device)\n",
        "\n",
        "# Optimizer and loss function\n",
        "optimizer = torch.optim.Adam(recommendation_model.parameters(), lr=1e-3)\n",
        "loss_func = nn.MSELoss()\n",
        "\n",
        "EPOCHS = 4\n",
        "for epoch in range(EPOCHS):\n",
        "    recommendation_model.train()\n",
        "    total_loss = 0\n",
        "    for step, train_data in enumerate(tqdm(train_loader, desc=f\"Epoch {epoch+1}/{EPOCHS}\", leave=False)):\n",
        "        # Move data to device\n",
        "        users = train_data[\"user\"].to(device)\n",
        "        movies = train_data[\"movie\"].to(device)\n",
        "        ratings = train_data[\"rating\"].to(device)\n",
        "\n",
        "        # Forward pass\n",
        "        output = recommendation_model(users, movies)\n",
        "\n",
        "        # Reshape output to match target shape\n",
        "        output = output.squeeze()  # Removes the singleton dimension, changing from [5, 1] to [5]\n",
        "\n",
        "        # Calculate loss\n",
        "        loss = loss_func(output, ratings.float())\n",
        "        total_loss += loss.item()\n",
        "\n",
        "        # Backward pass\n",
        "        optimizer.zero_grad()\n",
        "        loss.backward()\n",
        "        optimizer.step()\n",
        "\n",
        "        # Optionally log progress every 100 steps\n",
        "        # if step % 100 == 0:\n",
        "        #     print(f\"Step {step}/{len(train_loader)} - Loss: {loss.item():.4f}\")\n",
        "\n",
        "    # Print average loss after each epoch\n",
        "    print(f\"Epoch {epoch+1}, Average Loss: {total_loss / len(train_loader):.4f}\")"
      ],
      "metadata": {
        "colab": {
          "base_uri": "https://localhost:8080/"
        },
        "id": "Jvhpl_hE5QE5",
        "outputId": "6734079b-d965-412c-d0ba-be719a4d25fe"
      },
      "execution_count": 65,
      "outputs": [
        {
          "output_type": "stream",
          "name": "stderr",
          "text": []
        },
        {
          "output_type": "stream",
          "name": "stdout",
          "text": [
            "Epoch 1, Average Loss: 0.0753\n"
          ]
        },
        {
          "output_type": "stream",
          "name": "stderr",
          "text": []
        },
        {
          "output_type": "stream",
          "name": "stdout",
          "text": [
            "Epoch 2, Average Loss: 0.0686\n"
          ]
        },
        {
          "output_type": "stream",
          "name": "stderr",
          "text": []
        },
        {
          "output_type": "stream",
          "name": "stdout",
          "text": [
            "Epoch 3, Average Loss: 0.0636\n"
          ]
        },
        {
          "output_type": "stream",
          "name": "stderr",
          "text": [
            "                                                                "
          ]
        },
        {
          "output_type": "stream",
          "name": "stdout",
          "text": [
            "Epoch 4, Average Loss: 0.0581\n"
          ]
        },
        {
          "output_type": "stream",
          "name": "stderr",
          "text": [
            "\r"
          ]
        }
      ]
    },
    {
      "cell_type": "code",
      "source": [
        "# Initialize dictionaries to hold metrics for each user\n",
        "precisions = {}\n",
        "recalls = {}\n",
        "f1_scores = {}\n",
        "ndcgs = {}\n",
        "\n",
        "# Define the top-k recommendation list size\n",
        "k = 5\n",
        "\n",
        "# Initialize for storing true and predicted ratings for later use\n",
        "y_test = []\n",
        "y_pred = []\n",
        "\n",
        "# Loop through the validation data\n",
        "pred_true_comparison = defaultdict(list)\n",
        "with torch.no_grad():\n",
        "    for valid_data in validation_loader:\n",
        "        users = valid_data[\"user\"].to(device)\n",
        "        movies = valid_data[\"movie\"].to(device)\n",
        "        ratings = valid_data[\"rating\"].to(device)\n",
        "\n",
        "        # Get model predictions\n",
        "        output = recommendation_model(users, movies)\n",
        "\n",
        "        # Store results for each user\n",
        "        for user, pred, true in zip(users, output, ratings):\n",
        "            pred_true_comparison[user.item()].append((pred[0].item(), true.item()))\n",
        "            y_test.append(true.item())\n",
        "            y_pred.append(pred[0].item())\n",
        "\n",
        "# Calculate metrics for each user\n",
        "for user_id, user_ratings in pred_true_comparison.items():\n",
        "    precision, recall = calc_PRA(user_ratings, k, recommendation_threshold)\n",
        "    precisions[user_id] = precision\n",
        "    recalls[user_id] = recall\n",
        "    # Calculate F1 score for the user\n",
        "    f1_scores[user_id] = 2 * (precision * recall) / (precision + recall) if (precision + recall) > 0 else 0\n",
        "    # Calculate NDCG@k for the user\n",
        "    ndcgs[user_id] = calculate_ndcg(user_ratings, k, recommendation_threshold)\n",
        "\n",
        "# Calculate average metrics across all users\n",
        "average_precision = sum(precisions.values()) / len(precisions)\n",
        "average_recall = sum(recalls.values()) / len(recalls)\n",
        "average_f1 = sum(f1_scores.values()) / len(f1_scores)\n",
        "average_ndcg = sum(ndcgs.values()) / len(ndcgs)\n",
        "\n",
        "# Print out the metrics\n",
        "print(f\"Average precision of top {k} movies recommended for all users - validation: {average_precision:.4f}\")\n",
        "print(f\"Average recall of top {k} movies recommended for all users - validation: {average_recall:.4f}\")\n",
        "print(f\"Average F1 score of top {k} movies recommended for all users - validation: {average_f1:.4f}\")\n",
        "print(f\"Average NDCG@{k} of top movies recommended for all users - validation: {average_ndcg:.4f}\")"
      ],
      "metadata": {
        "colab": {
          "base_uri": "https://localhost:8080/"
        },
        "id": "w-OmkF9p4hjF",
        "outputId": "50240e44-9e4c-4aa0-aa91-c6976ba0fc7b"
      },
      "execution_count": 66,
      "outputs": [
        {
          "output_type": "stream",
          "name": "stdout",
          "text": [
            "Average precision of top 5 movies recommended for all users - validation: 0.8203\n",
            "Average recall of top 5 movies recommended for all users - validation: 0.8222\n",
            "Average F1 score of top 5 movies recommended for all users - validation: 0.6692\n",
            "Average NDCG@5 of top movies recommended for all users - validation: 0.6265\n"
          ]
        }
      ]
    },
    {
      "cell_type": "markdown",
      "source": [
        "**Analysis and Comparison (Model 1 and 2):**\n",
        "\n",
        "NCFModel1\n",
        "* Average precision of top 5 movies recommended for all users - validation: 0.8654\n",
        "* Average recall of top 5 movies recommended for all users - validation: 0.7108\n",
        "* Average F1 score of top 5 movies recommended for all users - validation: 0.6102\n",
        "* Average NDCG@5 of top movies recommended for all users - validation: 0.6276\n",
        "\n",
        "\n",
        "NCFModel2\n",
        "* Average precision of top 5 movies recommended for all users - validation: 0.8203\n",
        "* Average recall of top 5 movies recommended for all users - validation: 0.8222\n",
        "* Average F1 score of top 5 movies recommended for all users - validation: 0.6692\n",
        "* Average NDCG@5 of top movies recommended for all users - validation: 0.6265\n",
        "\n",
        "NCFModel2 has a higher F1 score (0.6692) compared to NCFModel1 (0.6102), indicating that it provides a better balance between precision and recall.\n",
        "In a recommendation system, we want to ensure that the items we recommend are relevant to the users (precision) while also ensuring that the system recommends as many relevant items as possible (recall). The higher F1 score in NCFModel2 shows that it performs better in retrieving relevant recommendations, which is often more critical when the goal is to recommend items that users will engage with.\n",
        "\n",
        "NDCG@5, which evaluates the ranking of the top 5 recommended items, shows that both models perform similarly (0.6276 for NCFModel1 vs. 0.6265 for NCFModel2). While NCFModel1 has a slight edge in NDCG, the difference is minimal.\n",
        "This suggests that the ranking quality of the top 5 items in both models is quite similar.\n",
        "\n",
        "Model Choice:\n",
        "Since NCFModel2 provides a better balance of precision and recall without sacrificing ranking quality, it is a more robust choice for ensuring relevant recommendations are made efficiently."
      ],
      "metadata": {
        "id": "TufKcoFqbTJd"
      }
    },
    {
      "cell_type": "markdown",
      "source": [
        "### MLP + genre"
      ],
      "metadata": {
        "id": "5WZaX25-7LfB"
      }
    },
    {
      "cell_type": "markdown",
      "source": [
        "The NCFModelWithGenre class is similar to the previous model (NCFModel2), but is enhanced with genre information hoping to improve movie rating predictions. It combines user embeddings, movie embeddings, and genre embeddings to predict a user's rating for a particular movie.\n",
        "\n",
        "Additionally, due to the skewed genre distribution as seen above, we experimented with both normalized and non-normalized genre embeddings to determine which approach yields better performance. In the case of normalization, we subtracted the mean and divided by the standard deviation to stabilize the learning process, ensuring the embeddings are centered around zero and have a consistent scale. After normalization, the genre embeddings are averaged across the genre dimension to combine the multiple genres associated with a movie."
      ],
      "metadata": {
        "id": "lmhTgmVon60C"
      }
    },
    {
      "cell_type": "code",
      "source": [
        "class NCFModelWithGenre1(nn.Module):\n",
        "    def __init__(\n",
        "        self,\n",
        "        num_users,\n",
        "        num_movies,\n",
        "        num_genres,  # Number of unique genres\n",
        "        embedding_size=64,\n",
        "        hidden_dim=(64, 32, 16),  # Sizes of hidden layers\n",
        "        dropout_rate=0.2,\n",
        "    ):\n",
        "        super(NCFModelWithGenre1, self).__init__()\n",
        "\n",
        "        # Embedding layers for users, movies, and genres\n",
        "        self.user_embedding = nn.Embedding(num_users, embedding_size)\n",
        "        self.movie_embedding = nn.Embedding(num_movies, embedding_size)\n",
        "        self.genre_embedding = nn.Embedding(num_genres, embedding_size)\n",
        "\n",
        "        # Build the MLP (Hidden layers setup)\n",
        "        hidden_layers = []\n",
        "        input_units = 3 * embedding_size  # Concatenate user, movie, and genre embeddings\n",
        "        for num_units in hidden_dim:\n",
        "            hidden_layers.append(nn.Linear(input_units, num_units))\n",
        "            hidden_layers.append(nn.ReLU())\n",
        "            hidden_layers.append(nn.Dropout(p=dropout_rate))\n",
        "            input_units = num_units  # Update input size for the next layer\n",
        "\n",
        "        # Final output layer for rating prediction\n",
        "        hidden_layers.append(nn.Linear(hidden_dim[-1], 1))\n",
        "\n",
        "        # Define the MLP as a sequential container\n",
        "        self.MLP = nn.Sequential(*hidden_layers)\n",
        "\n",
        "    def forward(self, user, movie, genre):\n",
        "        # Get embeddings for users and movies\n",
        "        user_embedded = self.user_embedding(user)\n",
        "        movie_embedded = self.movie_embedding(movie)\n",
        "\n",
        "        # Get genre embeddings\n",
        "        genre_embedded = self.genre_embedding(genre)\n",
        "\n",
        "        # Normalize genre embeddings (mean and std normalization)\n",
        "        genre_embedded = self.normalize_embeddings(genre_embedded)\n",
        "\n",
        "        #Take average along the genre dimension (dim=1)\n",
        "        genre_embedded = genre_embedded.mean(dim=1)\n",
        "\n",
        "        # Concatenate user, movie, and normalized genre embeddings\n",
        "        combined = torch.cat([user_embedded, movie_embedded, genre_embedded], dim=1)\n",
        "\n",
        "        # Pass through the MLP to predict the rating\n",
        "        output = self.MLP(combined)\n",
        "\n",
        "        return output\n",
        "\n",
        "    def normalize_embeddings(self, genre_embedded):\n",
        "        \"\"\"\n",
        "        Normalize genre embeddings by subtracting the mean and dividing by the standard deviation.\n",
        "        This is weight normalization for the genre embeddings.\n",
        "        \"\"\"\n",
        "        # Compute mean and std across the batch (dim=0)\n",
        "        mean = genre_embedded.mean(dim=0, keepdim=True)\n",
        "        std = genre_embedded.std(dim=0, keepdim=True) + 1e-6  # Adding epsilon for numerical stability\n",
        "\n",
        "        # Normalize the embeddings\n",
        "        genre_embedded_normalized = (genre_embedded - mean) / std\n",
        "\n",
        "        return genre_embedded_normalized"
      ],
      "metadata": {
        "id": "wSfS5rzV7Cgs"
      },
      "execution_count": 68,
      "outputs": []
    },
    {
      "cell_type": "markdown",
      "source": [
        "NCF Model + Genre (No Normalization)"
      ],
      "metadata": {
        "id": "RA1O0QmX3ll9"
      }
    },
    {
      "cell_type": "code",
      "source": [
        "class NCFModelWithGenre2(nn.Module):\n",
        "    def __init__(\n",
        "        self,\n",
        "        num_users,\n",
        "        num_movies,\n",
        "        num_genres,  # Number of unique genres\n",
        "        embedding_size=64,\n",
        "        hidden_dim=(64, 32, 16),  # Sizes of hidden layers\n",
        "        dropout_rate=0.2,\n",
        "    ):\n",
        "        super(NCFModelWithGenre2, self).__init__()\n",
        "\n",
        "        # Embedding layers for users, movies, and genres\n",
        "        self.user_embedding = nn.Embedding(num_users, embedding_size)\n",
        "        self.movie_embedding = nn.Embedding(num_movies, embedding_size)\n",
        "        self.genre_embedding = nn.Embedding(num_genres, embedding_size)\n",
        "\n",
        "        # Build the MLP (Hidden layers setup)\n",
        "        hidden_layers = []\n",
        "        input_units = 3 * embedding_size  # Concatenate user, movie, and genre embeddings\n",
        "        for num_units in hidden_dim:\n",
        "            hidden_layers.append(nn.Linear(input_units, num_units))\n",
        "            hidden_layers.append(nn.ReLU())\n",
        "            hidden_layers.append(nn.Dropout(p=dropout_rate))\n",
        "            input_units = num_units  # Update input size for the next layer\n",
        "\n",
        "        # Final output layer for rating prediction\n",
        "        hidden_layers.append(nn.Linear(hidden_dim[-1], 1))\n",
        "\n",
        "        # Define the MLP as a sequential container\n",
        "        self.MLP = nn.Sequential(*hidden_layers)\n",
        "\n",
        "    def forward(self, user, movie, genre):\n",
        "        # Get embeddings for users, movies, and genres\n",
        "        user_embedded = self.user_embedding(user)\n",
        "        movie_embedded = self.movie_embedding(movie)\n",
        "        genre_embedded = self.genre_embedding(genre)\n",
        "\n",
        "        # Take the average of genre embeddings (along the genre dimension)\n",
        "        genre_embedded = genre_embedded.mean(dim=1)\n",
        "\n",
        "        # Concatenate user, movie, and genre embeddings\n",
        "        combined = torch.cat([user_embedded, movie_embedded, genre_embedded], dim=1)\n",
        "\n",
        "        # Pass through the MLP to predict the rating\n",
        "        output = self.MLP(combined)\n",
        "\n",
        "        return output\n"
      ],
      "metadata": {
        "id": "utJ870uOvSHL"
      },
      "execution_count": 28,
      "outputs": []
    },
    {
      "cell_type": "markdown",
      "source": [
        "### Training and Validation"
      ],
      "metadata": {
        "id": "p01agZWp71jB"
      }
    },
    {
      "cell_type": "markdown",
      "source": [
        "Training (NCFModelWithGenre1)"
      ],
      "metadata": {
        "id": "Q3TMuUcowqGP"
      }
    },
    {
      "cell_type": "code",
      "source": [
        "# Initialize model\n",
        "recommendation_model = NCFModelWithGenre1(\n",
        "    num_users=len(user_en.classes_),\n",
        "    num_movies=len(movie_en.classes_),\n",
        "    num_genres=25\n",
        ").to(device)\n",
        "\n",
        "# Optimizer and loss function\n",
        "optimizer = torch.optim.Adam(recommendation_model.parameters(), lr=1e-3)\n",
        "loss_func = nn.MSELoss()\n",
        "\n",
        "EPOCHS = 4\n",
        "for epoch in range(EPOCHS):\n",
        "    recommendation_model.train()\n",
        "    total_loss = 0\n",
        "    for step, train_data in enumerate(tqdm(train_loader, desc=f\"Epoch {epoch+1}/{EPOCHS}\", leave=False)):\n",
        "        # Move data to device\n",
        "        users = train_data[\"user\"].to(device)\n",
        "        movies = train_data[\"movie\"].to(device)\n",
        "        ratings = train_data[\"rating\"].to(device)\n",
        "        genres = train_data[\"genre\"].to(device)  # Include the genre data\n",
        "\n",
        "        # Forward pass\n",
        "        output = recommendation_model(users, movies, genres)\n",
        "\n",
        "        # Reshape output to match target shape\n",
        "        output = output.squeeze()  # Removes the singleton dimension, changing from [5, 1] to [5]\n",
        "\n",
        "        # Calculate loss\n",
        "        loss = loss_func(output, ratings.float())\n",
        "        total_loss += loss.item()\n",
        "\n",
        "        # Backward pass\n",
        "        optimizer.zero_grad()\n",
        "        loss.backward()\n",
        "        optimizer.step()\n",
        "\n",
        "        # Optionally log progress every 100 steps\n",
        "        # if step % 100 == 0:\n",
        "        #     print(f\"Step {step}/{len(train_loader)} - Loss: {loss.item():.4f}\")\n",
        "\n",
        "    # Print average loss after each epoch\n",
        "    print(f\"Epoch {epoch+1}, Average Loss: {total_loss / len(train_loader):.4f}\")"
      ],
      "metadata": {
        "colab": {
          "base_uri": "https://localhost:8080/"
        },
        "id": "jB8WlFNN7sHz",
        "outputId": "78f5c346-ee8f-431b-f092-65ccec5b14f3"
      },
      "execution_count": 76,
      "outputs": [
        {
          "output_type": "stream",
          "name": "stderr",
          "text": []
        },
        {
          "output_type": "stream",
          "name": "stdout",
          "text": [
            "Epoch 1, Average Loss: 0.0739\n"
          ]
        },
        {
          "output_type": "stream",
          "name": "stderr",
          "text": []
        },
        {
          "output_type": "stream",
          "name": "stdout",
          "text": [
            "Epoch 2, Average Loss: 0.0685\n"
          ]
        },
        {
          "output_type": "stream",
          "name": "stderr",
          "text": []
        },
        {
          "output_type": "stream",
          "name": "stdout",
          "text": [
            "Epoch 3, Average Loss: 0.0637\n"
          ]
        },
        {
          "output_type": "stream",
          "name": "stderr",
          "text": [
            "                                                                "
          ]
        },
        {
          "output_type": "stream",
          "name": "stdout",
          "text": [
            "Epoch 4, Average Loss: 0.0581\n"
          ]
        },
        {
          "output_type": "stream",
          "name": "stderr",
          "text": [
            "\r"
          ]
        }
      ]
    },
    {
      "cell_type": "markdown",
      "source": [
        "Validation (NCFModelWithGenre1)"
      ],
      "metadata": {
        "id": "iIWs1M5dwtna"
      }
    },
    {
      "cell_type": "code",
      "source": [
        "# Initialize dictionaries to hold metrics for each user\n",
        "precisions = {}\n",
        "recalls = {}\n",
        "f1_scores = {}\n",
        "ndcgs = {}\n",
        "\n",
        "# Define the top-k recommendation list size\n",
        "k = 5\n",
        "\n",
        "# Initialize for storing true and predicted ratings for later use\n",
        "y_test = []\n",
        "y_pred = []\n",
        "\n",
        "# Loop through the validation data\n",
        "pred_true_comparison = defaultdict(list)\n",
        "with torch.no_grad():\n",
        "    for valid_data in validation_loader:\n",
        "        users = valid_data[\"user\"].to(device)\n",
        "        movies = valid_data[\"movie\"].to(device)\n",
        "        ratings = valid_data[\"rating\"].to(device)\n",
        "        genres = valid_data[\"genre\"].to(device)  # Include the genre data\n",
        "\n",
        "        # Get model predictions\n",
        "        output = recommendation_model(users, movies, genres)\n",
        "\n",
        "        # Store results for each user\n",
        "        for user, pred, true in zip(users, output, ratings):\n",
        "            pred_true_comparison[user.item()].append((pred[0].item(), true.item()))\n",
        "            y_test.append(true.item())\n",
        "            y_pred.append(pred[0].item())\n",
        "\n",
        "# Calculate metrics for each user\n",
        "for user_id, user_ratings in pred_true_comparison.items():\n",
        "    precision, recall = calc_PRA(user_ratings, k, recommendation_threshold)\n",
        "    precisions[user_id] = precision\n",
        "    recalls[user_id] = recall\n",
        "    # Calculate F1 score for the user\n",
        "    f1_scores[user_id] = 2 * (precision * recall) / (precision + recall) if (precision + recall) > 0 else 0\n",
        "    # Calculate NDCG@k for the user\n",
        "    ndcgs[user_id] = calculate_ndcg(user_ratings, k, recommendation_threshold)\n",
        "\n",
        "# Calculate average metrics across all users\n",
        "average_precision = sum(precisions.values()) / len(precisions)\n",
        "average_recall = sum(recalls.values()) / len(recalls)\n",
        "average_f1 = sum(f1_scores.values()) / len(f1_scores)\n",
        "average_ndcg = sum(ndcgs.values()) / len(ndcgs)\n",
        "\n",
        "# Print out the metrics\n",
        "print(f\"Average precision of top {k} movies recommended for all users - validation: {average_precision:.4f}\")\n",
        "print(f\"Average recall of top {k} movies recommended for all users - validation: {average_recall:.4f}\")\n",
        "print(f\"Average F1 score of top {k} movies recommended for all users - validation: {average_f1:.4f}\")\n",
        "print(f\"Average NDCG@{k} of top movies recommended for all users - validation: {average_ndcg:.4f}\")"
      ],
      "metadata": {
        "colab": {
          "base_uri": "https://localhost:8080/"
        },
        "id": "CaCMPXeN7gos",
        "outputId": "d4b555b7-0bcc-4a7d-8d89-03a58b7c24d8"
      },
      "execution_count": 78,
      "outputs": [
        {
          "output_type": "stream",
          "name": "stdout",
          "text": [
            "Average precision of top 5 movies recommended for all users - validation: 0.8185\n",
            "Average recall of top 5 movies recommended for all users - validation: 0.8252\n",
            "Average F1 score of top 5 movies recommended for all users - validation: 0.6694\n",
            "Average NDCG@5 of top movies recommended for all users - validation: 0.6272\n"
          ]
        }
      ]
    },
    {
      "cell_type": "markdown",
      "source": [
        "Training (NCFModelWithGenre2)"
      ],
      "metadata": {
        "id": "VWwYUQMSw59o"
      }
    },
    {
      "cell_type": "code",
      "source": [
        "# Initialize model\n",
        "recommendation_model = NCFModelWithGenre2(\n",
        "    num_users=len(user_en.classes_),\n",
        "    num_movies=len(movie_en.classes_),\n",
        "    num_genres=25\n",
        ").to(device)\n",
        "\n",
        "# Optimizer and loss function\n",
        "optimizer = torch.optim.Adam(recommendation_model.parameters(), lr=1e-3)\n",
        "loss_func = nn.MSELoss()\n",
        "\n",
        "EPOCHS = 4\n",
        "for epoch in range(EPOCHS):\n",
        "    recommendation_model.train()\n",
        "    total_loss = 0\n",
        "    for step, train_data in enumerate(tqdm(train_loader, desc=f\"Epoch {epoch+1}/{EPOCHS}\", leave=False)):\n",
        "        # Move data to device\n",
        "        users = train_data[\"user\"].to(device)\n",
        "        movies = train_data[\"movie\"].to(device)\n",
        "        ratings = train_data[\"rating\"].to(device)\n",
        "        genres = train_data[\"genre\"].to(device)  # Include the genre data\n",
        "\n",
        "        # Forward pass\n",
        "        output = recommendation_model(users, movies, genres)\n",
        "\n",
        "        # Reshape output to match target shape\n",
        "        output = output.squeeze()  # Removes the singleton dimension, changing from [5, 1] to [5]\n",
        "\n",
        "        # Calculate loss\n",
        "        loss = loss_func(output, ratings.float())\n",
        "        total_loss += loss.item()\n",
        "\n",
        "        # Backward pass\n",
        "        optimizer.zero_grad()\n",
        "        loss.backward()\n",
        "        optimizer.step()\n",
        "\n",
        "        # Optionally log progress every 100 steps\n",
        "        # if step % 100 == 0:\n",
        "        #     print(f\"Step {step}/{len(train_loader)} - Loss: {loss.item():.4f}\")\n",
        "\n",
        "    # Print average loss after each epoch\n",
        "    print(f\"Epoch {epoch+1}, Average Loss: {total_loss / len(train_loader):.4f}\")"
      ],
      "metadata": {
        "colab": {
          "base_uri": "https://localhost:8080/"
        },
        "id": "bhyldol-vWhg",
        "outputId": "03c25fd4-42be-473a-ecf1-e26be24f769c"
      },
      "execution_count": 29,
      "outputs": [
        {
          "output_type": "stream",
          "name": "stderr",
          "text": []
        },
        {
          "output_type": "stream",
          "name": "stdout",
          "text": [
            "Epoch 1, Average Loss: 0.0780\n"
          ]
        },
        {
          "output_type": "stream",
          "name": "stderr",
          "text": []
        },
        {
          "output_type": "stream",
          "name": "stdout",
          "text": [
            "Epoch 2, Average Loss: 0.0683\n"
          ]
        },
        {
          "output_type": "stream",
          "name": "stderr",
          "text": []
        },
        {
          "output_type": "stream",
          "name": "stdout",
          "text": [
            "Epoch 3, Average Loss: 0.0637\n"
          ]
        },
        {
          "output_type": "stream",
          "name": "stderr",
          "text": [
            "                                                                "
          ]
        },
        {
          "output_type": "stream",
          "name": "stdout",
          "text": [
            "Epoch 4, Average Loss: 0.0581\n"
          ]
        },
        {
          "output_type": "stream",
          "name": "stderr",
          "text": [
            "\r"
          ]
        }
      ]
    },
    {
      "cell_type": "markdown",
      "source": [
        "Validation(NCFModelWithGenre2)"
      ],
      "metadata": {
        "id": "z-Sr1Le0w_ke"
      }
    },
    {
      "cell_type": "code",
      "source": [
        "# Initialize dictionaries to hold metrics for each user\n",
        "precisions = {}\n",
        "recalls = {}\n",
        "f1_scores = {}\n",
        "ndcgs = {}\n",
        "\n",
        "# Define the top-k recommendation list size\n",
        "k = 5\n",
        "\n",
        "# Initialize for storing true and predicted ratings for later use\n",
        "y_test = []\n",
        "y_pred = []\n",
        "\n",
        "# Loop through the validation data\n",
        "pred_true_comparison = defaultdict(list)\n",
        "with torch.no_grad():\n",
        "    for valid_data in validation_loader:\n",
        "        users = valid_data[\"user\"].to(device)\n",
        "        movies = valid_data[\"movie\"].to(device)\n",
        "        ratings = valid_data[\"rating\"].to(device)\n",
        "        genres = valid_data[\"genre\"].to(device)  # Include the genre data\n",
        "\n",
        "        # Get model predictions\n",
        "        output = recommendation_model(users, movies, genres)\n",
        "\n",
        "        # Store results for each user\n",
        "        for user, pred, true in zip(users, output, ratings):\n",
        "            pred_true_comparison[user.item()].append((pred[0].item(), true.item()))\n",
        "            y_test.append(true.item())\n",
        "            y_pred.append(pred[0].item())\n",
        "\n",
        "# Calculate metrics for each user\n",
        "for user_id, user_ratings in pred_true_comparison.items():\n",
        "    precision, recall = calc_PRA(user_ratings, k, recommendation_threshold)\n",
        "    precisions[user_id] = precision\n",
        "    recalls[user_id] = recall\n",
        "    # Calculate F1 score for the user\n",
        "    f1_scores[user_id] = 2 * (precision * recall) / (precision + recall) if (precision + recall) > 0 else 0\n",
        "    # Calculate NDCG@k for the user\n",
        "    ndcgs[user_id] = calculate_ndcg(user_ratings, k, recommendation_threshold)\n",
        "\n",
        "# Calculate average metrics across all users\n",
        "average_precision = sum(precisions.values()) / len(precisions)\n",
        "average_recall = sum(recalls.values()) / len(recalls)\n",
        "average_f1 = sum(f1_scores.values()) / len(f1_scores)\n",
        "average_ndcg = sum(ndcgs.values()) / len(ndcgs)\n",
        "\n",
        "# Print out the metrics\n",
        "print(f\"Average precision of top {k} movies recommended for all users - validation: {average_precision:.4f}\")\n",
        "print(f\"Average recall of top {k} movies recommended for all users - validation: {average_recall:.4f}\")\n",
        "print(f\"Average F1 score of top {k} movies recommended for all users - validation: {average_f1:.4f}\")\n",
        "print(f\"Average NDCG@{k} of top movies recommended for all users - validation: {average_ndcg:.4f}\")"
      ],
      "metadata": {
        "colab": {
          "base_uri": "https://localhost:8080/"
        },
        "id": "1Pr0m93rveI_",
        "outputId": "73cecc5a-f135-4209-b12e-f1e05fa6817e"
      },
      "execution_count": 30,
      "outputs": [
        {
          "output_type": "stream",
          "name": "stdout",
          "text": [
            "Average precision of top 5 movies recommended for all users - validation: 0.8298\n",
            "Average recall of top 5 movies recommended for all users - validation: 0.8123\n",
            "Average F1 score of top 5 movies recommended for all users - validation: 0.6693\n",
            "Average NDCG@5 of top movies recommended for all users - validation: 0.6271\n"
          ]
        }
      ]
    },
    {
      "cell_type": "markdown",
      "source": [
        "### Model comparison and analysis"
      ],
      "metadata": {
        "id": "4BZuIQS07-su"
      }
    },
    {
      "cell_type": "markdown",
      "source": [
        "**NCFModelWithGenre1 VS NCFModelWithGenre2**\n",
        "\n",
        "NCFModelWithGenre1 (Normalization)\n",
        "* Average precision of top 5 movies recommended for all users - validation: 0.8185\n",
        "* Average recall of top 5 movies recommended for all users - validation: 0.8252\n",
        "* Average F1 score of top 5 movies recommended for all users - validation: 0.6694\n",
        "* Average NDCG@5 of top movies recommended for all users - validation: 0.6272\n",
        "\n",
        "NCFModelWithGenre2 (No Normalization)\n",
        "* Average precision of top 5 movies recommended for all users - validation: 0.8298\n",
        "* Average recall of top 5 movies recommended for all users - validation: 0.8123\n",
        "* Average F1 score of top 5 movies recommended for all users - validation: 0.6693\n",
        "* Average NDCG@5 of top movies recommended for all users - validation: 0.6271\n",
        "\n",
        "Analysis:\n",
        "We can see that both models have similar F1 scores and NDCG values. However, NCFModelWithGenre1 performs worse in precision and better in recall while NCFModelWithGenre2 is the opposite.\n",
        "From the user perspective, they will likely appreciate a top 5 recommendation list that contains more relevant movies (higher precision) even if it means that fewer total relevant items are included (slightly lower recall). The key to a successful recommendation system is the user's ability to quickly find something they enjoy without sifting through a broad, irrelevant set of recommendations. Hence we prefer NCFModelWithGenre2 as with its higher precision, it is better at providing that focused, relevant list that a user is more likely to engage with."
      ],
      "metadata": {
        "id": "vO7c1OsSzt_E"
      }
    },
    {
      "cell_type": "markdown",
      "source": [
        "**NCFModel2 VS NCFModelWithGenre2**\n",
        "\n",
        "NCFModel2\n",
        "\n",
        "* Average precision of top 5 movies recommended for all users - validation: 0.8203\n",
        "* Average recall of top 5 movies recommended for all users - validation: 0.8222\n",
        "* Average F1 score of top 5 movies recommended for all users - validation: 0.6692\n",
        "* Average NDCG@5 of top movies recommended for all users - validation: 0.6265\n",
        "\n",
        "NCFModelWithGenre2\n",
        "\n",
        "* Average precision of top 5 movies recommended for all users - validation: 0.8298\n",
        "* Average recall of top 5 movies recommended for all users - validation: 0.8123\n",
        "* Average F1 score of top 5 movies recommended for all users - validation: 0.6693\n",
        "* Average NDCG@5 of top movies recommended for all users - validation: 0.6271"
      ],
      "metadata": {
        "id": "-ah5qcf6GNBM"
      }
    },
    {
      "cell_type": "markdown",
      "source": [
        "Analysis: NCFModel2 and NCFModelWithGenre2 have similar F1 score. NCFModel2 has a slightly lower precision and higher recall than NCFModelWithGenre2. NDCG (Normalized Discounted Cumulative Gain) measures the quality of recommendations by considering both the relevance and the ranking of the recommended movies. NCFWithGenre has a slightly better NDCG, which implies that not only are relevant movies recommended, but they are also ranked higher in the list.\n",
        "\n",
        "Conclusion:\n",
        "\n",
        "Although the differences in performance metrics are subtle, NCFWithGenre2 shows a slight improvement over NCFModel2, particularly in terms of precision and NDCG. Thus,incorporating genre information into the model likely enhances its ability to make better recommendations, especially in ranking relevant movies higher. Hence, we prefer NCFWithGenre2."
      ],
      "metadata": {
        "id": "8DazLfA3Ps7R"
      }
    },
    {
      "cell_type": "markdown",
      "source": [
        "### Evaluation on test data and prediction"
      ],
      "metadata": {
        "id": "noSnf7gM7cvn"
      }
    },
    {
      "cell_type": "markdown",
      "source": [
        "Evaluation on test data (NCFModelWithGenre2)"
      ],
      "metadata": {
        "id": "5-rJUQ_ehOob"
      }
    },
    {
      "cell_type": "code",
      "source": [
        "# Initialize dictionaries to hold metrics for each user\n",
        "precisions = {}\n",
        "recalls = {}\n",
        "f1_scores = {}\n",
        "ndcgs = {}\n",
        "\n",
        "# Define the top-k recommend list size\n",
        "k = 5\n",
        "\n",
        "# Initialize for storing true and predicted ratings for later use\n",
        "y_test = []\n",
        "y_pred = []\n",
        "\n",
        "# Loop through the test data\n",
        "pred_true_comparison = defaultdict(list)\n",
        "with torch.no_grad():\n",
        "    for test_data in test_loader:\n",
        "        users = test_data[\"user\"].to(device)\n",
        "        movies = test_data[\"movie\"].to(device)\n",
        "        ratings = test_data[\"rating\"].to(device)\n",
        "        genres = test_data[\"genre\"].to(device)  # Include the genre data\n",
        "\n",
        "        # Get model predictions\n",
        "        output = recommendation_model(users, movies, genres)\n",
        "\n",
        "        # Store results for each user\n",
        "        for user, pred, true in zip(users, output, ratings):\n",
        "            pred_true_comparison[user.item()].append((pred[0].item(), true.item()))\n",
        "            y_test.append(true.item())\n",
        "            y_pred.append(pred[0].item())\n",
        "\n",
        "# Calculate metrics for each user\n",
        "for user_id, user_ratings in pred_true_comparison.items():\n",
        "    precision, recall = calc_PRA(user_ratings, k, recommendation_threshold)\n",
        "    precisions[user_id] = precision\n",
        "    recalls[user_id] = recall\n",
        "    # Calculate F1 score for the user\n",
        "    f1_scores[user_id] = 2 * (precision * recall) / (precision + recall) if (precision + recall) > 0 else 0\n",
        "    # Calculate NDCG@k for the user\n",
        "    ndcgs[user_id] = calculate_ndcg(user_ratings, k, recommendation_threshold)\n",
        "\n",
        "# Calculate average metrics across all users\n",
        "average_precision = sum(precisions.values()) / len(precisions)\n",
        "average_recall = sum(recalls.values()) / len(recalls)\n",
        "average_f1 = sum(f1_scores.values()) / len(f1_scores)\n",
        "average_ndcg = sum(ndcgs.values()) / len(ndcgs)\n",
        "\n",
        "# Print out the metrics\n",
        "print(f\"Average precision of top {k} movies recommended for all users - test: {average_precision:.4f}\")\n",
        "print(f\"Average recall of top {k} movies recommended for all users - test: {average_recall:.4f}\")\n",
        "print(f\"Average F1 score of top {k} movies recommended for all users - test: {average_f1:.4f}\")\n",
        "print(f\"Average NDCG@{k} of top movies recommended for all users - test: {average_ndcg:.4f}\")"
      ],
      "metadata": {
        "colab": {
          "base_uri": "https://localhost:8080/"
        },
        "id": "5JaTBNgl6GDQ",
        "outputId": "d08829be-bb23-454d-f87d-5c4cc9c33f07"
      },
      "execution_count": 31,
      "outputs": [
        {
          "output_type": "stream",
          "name": "stdout",
          "text": [
            "Average precision of top 5 movies recommended for all users - test: 0.8281\n",
            "Average recall of top 5 movies recommended for all users - test: 0.8120\n",
            "Average F1 score of top 5 movies recommended for all users - test: 0.6681\n",
            "Average NDCG@5 of top movies recommended for all users - test: 0.6260\n"
          ]
        }
      ]
    },
    {
      "cell_type": "markdown",
      "source": [
        "Prediction to find top 5 recommended movies for 1 user (Cineanalyst) - NCFModelWithGenre2"
      ],
      "metadata": {
        "id": "lR35upE3-dy9"
      }
    },
    {
      "cell_type": "code",
      "source": [
        "pred_true_comparison = defaultdict(list)\n",
        "\n",
        "# Get the user ID for Cineanalyst\n",
        "cine_id = user_en.transform(['Cineanalyst'])[0]\n",
        "\n",
        "y_test = []\n",
        "y_pred = []\n",
        "\n",
        "cine_predictions = []\n",
        "\n",
        "# No gradient calculations required during inference\n",
        "with torch.no_grad():\n",
        "    for test_data in test_loader:\n",
        "        users = test_data[\"user\"].to(device)\n",
        "        movies = test_data[\"movie\"].to(device)\n",
        "        ratings = test_data[\"rating\"].to(device)\n",
        "        genres = test_data[\"genre\"].to(device)\n",
        "\n",
        "        # Get model predictions\n",
        "        outputs = recommendation_model(users, movies, genres)\n",
        "\n",
        "        for user, pred, true, movie_id in zip(users, outputs, ratings, movies):\n",
        "            # Store user-specific predictions and actual ratings\n",
        "            pred_true_comparison[user.item()].append([pred.item(), true.item()])\n",
        "\n",
        "            # Store predictions for Cineanalyst for later analysis\n",
        "            if user.item() == cine_id:\n",
        "                cine_predictions.append((movie_id.item(), pred.item(), true.item()))\n",
        "\n",
        "            # Collect true ratings and predicted ratings for metrics\n",
        "            y_test.append(recommend(true.item(), recommendation_threshold))  # assuming recommend() is implemented\n",
        "            y_pred.append(pred.item())\n",
        "\n",
        "# Sort Cineanalyst predictions by predicted rating, descending order\n",
        "cine_predictions.sort(key=lambda x: x[1], reverse=True)\n",
        "\n",
        "# Select top 5 recommendations based on the highest predicted ratings\n",
        "top_5_recommendations = cine_predictions[:5]\n",
        "\n",
        "# Print the top 5 recommendations for Cineanalyst\n",
        "print(\"Top 5 recommendations for Cineanalyst:\")\n",
        "for movie_id, pred_rating, actual_rating in top_5_recommendations:\n",
        "    # Convert movie ID to movie name\n",
        "    movie_name = movie_en.inverse_transform([movie_id])[0]\n",
        "    print(f\"Movie: {movie_name}, Predicted Rating: {pred_rating:.2f}, Actual Rating: {actual_rating:.2f}\")"
      ],
      "metadata": {
        "colab": {
          "base_uri": "https://localhost:8080/"
        },
        "id": "Mcm3K9ILNhLW",
        "outputId": "7371e1a1-8775-4654-aaea-9548baca690d"
      },
      "execution_count": 32,
      "outputs": [
        {
          "output_type": "stream",
          "name": "stdout",
          "text": [
            "Top 5 recommendations for Cineanalyst:\n",
            "Movie: the wizard of oz (1939), Predicted Rating: 0.84, Actual Rating: 1.00\n",
            "Movie: hidden figures (2016), Predicted Rating: 0.79, Actual Rating: 0.70\n",
            "Movie: bohemian rhapsody (2018), Predicted Rating: 0.79, Actual Rating: 0.60\n",
            "Movie: love and death (1975), Predicted Rating: 0.73, Actual Rating: 0.70\n",
            "Movie: halloween (1978), Predicted Rating: 0.73, Actual Rating: 0.90\n"
          ]
        }
      ]
    },
    {
      "cell_type": "markdown",
      "source": [
        "## NeuMF Model"
      ],
      "metadata": {
        "id": "t2yeFMO1TrD7"
      }
    },
    {
      "cell_type": "markdown",
      "source": [
        "The NeuMF (Neural Matrix Factorization) model combines the strengths of matrix factorization and neural networks for collaborative filtering. It consists of two pathways: the GMF (Generalized Matrix Factorization) pathway, where user and movie embeddings are multiplied element-wise to capture linear interactions, and the MLP (Multi-Layer Perceptron) pathway, where user and movie embeddings are concatenated and passed through fully connected layers to capture non-linear interactions. The outputs from both pathways are concatenated and passed through additional layers to produce the final rating prediction. This architecture allows the model to effectively learn both linear and complex, non-linear patterns in user-item interactions."
      ],
      "metadata": {
        "id": "ED_QZH4ErKs_"
      }
    },
    {
      "cell_type": "code",
      "source": [
        "class NeuMF(nn.Module):\n",
        "    def __init__(self, num_users, num_movies, embedding_dim, dropout_rate):\n",
        "        super(NeuMF, self).__init__()\n",
        "\n",
        "        # GMF pathway components\n",
        "        self.user_embedding_gmf = nn.Embedding(num_users, embedding_dim)\n",
        "        self.movie_embedding_gmf = nn.Embedding(num_movies, embedding_dim)\n",
        "\n",
        "        # MLP pathway components\n",
        "        self.user_embedding_mlp = nn.Embedding(num_users, embedding_dim)\n",
        "        self.movie_embedding_mlp = nn.Embedding(num_movies, embedding_dim)\n",
        "\n",
        "        # MLP hidden layers\n",
        "        self.fc1_mlp = nn.Linear(2 * embedding_dim, 128)\n",
        "        self.fc2_mlp = nn.Linear(128, 64)\n",
        "\n",
        "        # Final layers to combine GMF and MLP outputs\n",
        "        self.fc1_combined = nn.Linear(embedding_dim + 64, 128)\n",
        "        self.fc2_combined = nn.Linear(128, 1)\n",
        "\n",
        "        # Dropout for regularization\n",
        "        self.dropout = nn.Dropout(dropout_rate)\n",
        "\n",
        "    def forward(self, user_id, movie_id):\n",
        "        # GMF pathway\n",
        "        user_gmf_emb = self.user_embedding_gmf(user_id)\n",
        "        movie_gmf_emb = self.movie_embedding_gmf(movie_id)\n",
        "        gmf_output = user_gmf_emb * movie_gmf_emb\n",
        "\n",
        "        # MLP pathway\n",
        "        user_mlp_emb = self.user_embedding_mlp(user_id)\n",
        "        movie_mlp_emb = self.movie_embedding_mlp(movie_id)\n",
        "        mlp_input = torch.cat((user_mlp_emb, movie_mlp_emb), dim=-1)\n",
        "\n",
        "        # Pass through MLP layers\n",
        "        mlp_output = F.relu(self.fc1_mlp(mlp_input))\n",
        "        mlp_output = self.dropout(mlp_output)\n",
        "        mlp_output = F.relu(self.fc2_mlp(mlp_output))\n",
        "\n",
        "        # Combine GMF and MLP outputs\n",
        "        combined_input = torch.cat((gmf_output, mlp_output), dim=-1)\n",
        "        combined_output = F.relu(self.fc1_combined(combined_input))\n",
        "\n",
        "        # Final output layer\n",
        "        output = self.fc2_combined(combined_output)\n",
        "        output = torch.sigmoid(output)\n",
        "\n",
        "        return output.squeeze()\n"
      ],
      "metadata": {
        "id": "HmUV_y912u1T"
      },
      "execution_count": 20,
      "outputs": []
    },
    {
      "cell_type": "markdown",
      "source": [
        "### Training and Validation"
      ],
      "metadata": {
        "id": "yiddxWQ9hOay"
      }
    },
    {
      "cell_type": "code",
      "source": [
        "# Hyperparameters\n",
        "embedding_dim = 64\n",
        "dropout_rate = 0.2\n",
        "\n",
        "# Initialize model\n",
        "recommendation_model = NeuMF(\n",
        "    num_users=len(user_en.classes_),\n",
        "    num_movies=len(movie_en.classes_),\n",
        "    embedding_dim=embedding_dim,\n",
        "    dropout_rate=dropout_rate\n",
        ").to(device)\n",
        "\n",
        "# Optimizer and loss function\n",
        "optimizer = torch.optim.Adam(recommendation_model.parameters(), lr=1e-3)\n",
        "loss_func = nn.MSELoss()\n",
        "\n",
        "# Training loop\n",
        "EPOCHS = 4\n",
        "for epoch in range(EPOCHS):\n",
        "    recommendation_model.train()\n",
        "    total_loss = 0\n",
        "    for train_data in tqdm(train_loader, desc=f\"Epoch {epoch+1}/{EPOCHS}\", leave=False):\n",
        "        users = train_data[\"user\"].to(device)\n",
        "        movies = train_data[\"movie\"].to(device)\n",
        "        ratings = train_data[\"rating\"].to(device)\n",
        "\n",
        "        # Forward pass\n",
        "        output = recommendation_model(users, movies)\n",
        "\n",
        "        # Calculate loss\n",
        "        loss = loss_func(output, ratings.float())\n",
        "        total_loss += loss.item()\n",
        "\n",
        "        # Backward pass\n",
        "        optimizer.zero_grad()\n",
        "        loss.backward()\n",
        "        optimizer.step()\n",
        "\n",
        "    print(f\"Epoch {epoch+1}, Loss: {total_loss / len(train_loader)}\")"
      ],
      "metadata": {
        "colab": {
          "base_uri": "https://localhost:8080/"
        },
        "id": "Jd5McfyQ8FFd",
        "outputId": "07337a6a-f9da-4bd7-969a-65436d3a7576"
      },
      "execution_count": 84,
      "outputs": [
        {
          "output_type": "stream",
          "name": "stderr",
          "text": []
        },
        {
          "output_type": "stream",
          "name": "stdout",
          "text": [
            "Epoch 1, Loss: 0.07160100035313954\n"
          ]
        },
        {
          "output_type": "stream",
          "name": "stderr",
          "text": []
        },
        {
          "output_type": "stream",
          "name": "stdout",
          "text": [
            "Epoch 2, Loss: 0.06566235760731157\n"
          ]
        },
        {
          "output_type": "stream",
          "name": "stderr",
          "text": []
        },
        {
          "output_type": "stream",
          "name": "stdout",
          "text": [
            "Epoch 3, Loss: 0.057407401148288476\n"
          ]
        },
        {
          "output_type": "stream",
          "name": "stderr",
          "text": [
            "                                                                "
          ]
        },
        {
          "output_type": "stream",
          "name": "stdout",
          "text": [
            "Epoch 4, Loss: 0.04677271622643045\n"
          ]
        },
        {
          "output_type": "stream",
          "name": "stderr",
          "text": [
            "\r"
          ]
        }
      ]
    },
    {
      "cell_type": "markdown",
      "source": [
        "Evaluation with validation data"
      ],
      "metadata": {
        "id": "2dK5WwQ5KHC_"
      }
    },
    {
      "cell_type": "code",
      "source": [
        "# Initialize dictionaries to hold metrics for each user\n",
        "precisions = {}\n",
        "recalls = {}\n",
        "f1_scores = {}\n",
        "ndcgs = {}\n",
        "\n",
        "# Define the top-k recommendation list size\n",
        "k = 5\n",
        "\n",
        "# Initialize for storing true and predicted ratings for later use\n",
        "y_test = []\n",
        "y_pred = []\n",
        "\n",
        "# Loop through the validation data\n",
        "pred_true_comparison = defaultdict(list)\n",
        "with torch.no_grad():\n",
        "    for valid_data in validation_loader:\n",
        "        users = valid_data[\"user\"].to(device)\n",
        "        movies = valid_data[\"movie\"].to(device)\n",
        "        ratings = valid_data[\"rating\"].to(device)\n",
        "\n",
        "        # Get model predictions\n",
        "        output = recommendation_model(users, movies)\n",
        "\n",
        "        # Store results for each user\n",
        "        for user, pred, true in zip(users, output, ratings):\n",
        "            pred_true_comparison[user.item()].append((pred.item(), true.item()))\n",
        "            y_test.append(true.item())\n",
        "            y_pred.append(pred.item())\n",
        "\n",
        "# Calculate metrics for each user\n",
        "for user_id, user_ratings in pred_true_comparison.items():\n",
        "    precision, recall = calc_PRA(user_ratings, k, recommendation_threshold)\n",
        "    precisions[user_id] = precision\n",
        "    recalls[user_id] = recall\n",
        "    # Calculate F1 score for the user\n",
        "    f1_scores[user_id] = 2 * (precision * recall) / (precision + recall) if (precision + recall) > 0 else 0\n",
        "    # Calculate NDCG@k for the user\n",
        "    ndcgs[user_id] = calculate_ndcg(user_ratings, k, recommendation_threshold)\n",
        "\n",
        "# Calculate average metrics across all users\n",
        "average_precision = sum(precisions.values()) / len(precisions)\n",
        "average_recall = sum(recalls.values()) / len(recalls)\n",
        "average_f1 = sum(f1_scores.values()) / len(f1_scores)\n",
        "average_ndcg = sum(ndcgs.values()) / len(ndcgs)\n",
        "\n",
        "# Print out the metrics\n",
        "print(f\"Average precision of top {k} movies recommended for all users - validation: {average_precision:.4f}\")\n",
        "print(f\"Average recall of top {k} movies recommended for all users - validation: {average_recall:.4f}\")\n",
        "print(f\"Average F1 score of top {k} movies recommended for all users - validation: {average_f1:.4f}\")\n",
        "print(f\"Average NDCG@{k} of top movies recommended for all users - validation: {average_ndcg:.4f}\")"
      ],
      "metadata": {
        "id": "N1H--m12E1pM",
        "colab": {
          "base_uri": "https://localhost:8080/"
        },
        "outputId": "76f9ce86-3be9-4d34-ed45-893befe66807"
      },
      "execution_count": 87,
      "outputs": [
        {
          "output_type": "stream",
          "name": "stdout",
          "text": [
            "Average precision of top 5 movies recommended for all users - validation: 0.8050\n",
            "Average recall of top 5 movies recommended for all users - validation: 0.8299\n",
            "Average F1 score of top 5 movies recommended for all users - validation: 0.6652\n",
            "Average NDCG@5 of top movies recommended for all users - validation: 0.6262\n"
          ]
        }
      ]
    },
    {
      "cell_type": "markdown",
      "source": [
        "### NeuMF model + Genre"
      ],
      "metadata": {
        "id": "ZeKbr5UMOJO2"
      }
    },
    {
      "cell_type": "markdown",
      "source": [
        "The NeuMFWithGenre model is a hybrid Neural Collaborative Filtering (NCF) approach that integrates Generalized Matrix Factorization (GMF) and Multilayer Perceptron (MLP) pathways, incorporating genre embeddings in both. The GMF pathway captures user-movie interactions via element-wise multiplication of embeddings, with genre embeddings normalized and summed. The MLP pathway processes the embeddings through two fully connected layers, after concatenating user, movie, and averaged genre embeddings. Both outputs are combined, passed through another layer, and produce the final rating prediction.\n",
        "\n",
        "In the model, due to the skewed genre distribution, we experimented with normalizing the genre embeddings before passing them through the MLP pathway. The normalization process scales the embeddings so that they have a unit norm (i.e., each embedding vector has a length of 1). This step is intended to improve model stability and training efficiency. We tested both the normalized and non-normalized genre embeddings to determine which approach yields better performance"
      ],
      "metadata": {
        "id": "Q2D4AJuzwUgp"
      }
    },
    {
      "cell_type": "markdown",
      "source": [
        "NeuMFWithGenre1 (Normalization)"
      ],
      "metadata": {
        "id": "MftAb1dEUZNo"
      }
    },
    {
      "cell_type": "code",
      "source": [
        "class NeuMFWithGenre1(nn.Module):\n",
        "    def __init__(self, num_users, num_movies, num_genres, embedding_dim, dropout_rate):\n",
        "        super(NeuMFWithGenre1, self).__init__()\n",
        "\n",
        "        # GMF pathway components\n",
        "        self.user_embedding_gmf = nn.Embedding(num_users, embedding_dim)\n",
        "        self.movie_embedding_gmf = nn.Embedding(num_movies, embedding_dim)\n",
        "        self.genre_embedding_gmf = nn.Embedding(num_genres, embedding_dim)  # Genre embeddings for GMF\n",
        "\n",
        "        # MLP pathway components\n",
        "        self.user_embedding_mlp = nn.Embedding(num_users, embedding_dim)\n",
        "        self.movie_embedding_mlp = nn.Embedding(num_movies, embedding_dim)\n",
        "        self.genre_embedding_mlp = nn.Embedding(num_genres, embedding_dim)  # Genre embeddings for MLP\n",
        "\n",
        "        # MLP hidden layers\n",
        "        self.fc1_mlp = nn.Linear(2 * embedding_dim + embedding_dim, 128)  # +embedding_dim for genre\n",
        "        self.fc2_mlp = nn.Linear(128, 64)\n",
        "\n",
        "        # Final layers to combine GMF and MLP outputs\n",
        "        self.fc1_combined = nn.Linear(embedding_dim + 64, 128)  # +embedding_dim for GMF and MLP\n",
        "        self.fc2_combined = nn.Linear(128, 1)\n",
        "\n",
        "        # Dropout for regularization\n",
        "        self.dropout = nn.Dropout(dropout_rate)\n",
        "\n",
        "    def normalize_embeddings(self, embeddings):\n",
        "        # Normalize embeddings to have unit norm (L2 normalization)\n",
        "        norm = embeddings.norm(p=2, dim=-1, keepdim=True)  # L2 norm\n",
        "        normalized_embeddings = embeddings / norm  # Element-wise division by the norm\n",
        "        return normalized_embeddings\n",
        "\n",
        "    def forward(self, user_id, movie_id, genre_id):\n",
        "        # GMF pathway\n",
        "        user_gmf_emb = self.user_embedding_gmf(user_id)\n",
        "        movie_gmf_emb = self.movie_embedding_gmf(movie_id)\n",
        "        genre_gmf_emb = self.genre_embedding_gmf(genre_id)  # Genre embedding for GMF\n",
        "\n",
        "        # Normalize genre embeddings for GMF\n",
        "        genre_gmf_emb = self.normalize_embeddings(genre_gmf_emb)\n",
        "\n",
        "        gmf_output = user_gmf_emb * movie_gmf_emb\n",
        "        # Summing genre embeddings for GMF pathway (can experiment with other methods)\n",
        "        genre_gmf_emb = genre_gmf_emb.sum(dim=1)  # Sum over genres to get a single embedding per sample\n",
        "        gmf_output = gmf_output * genre_gmf_emb\n",
        "\n",
        "        # MLP pathway\n",
        "        user_mlp_emb = self.user_embedding_mlp(user_id)\n",
        "        movie_mlp_emb = self.movie_embedding_mlp(movie_id)\n",
        "        genre_mlp_emb = self.genre_embedding_mlp(genre_id)  # Genre embedding for MLP\n",
        "\n",
        "        # Normalize genre embeddings for MLP\n",
        "        genre_mlp_emb = self.normalize_embeddings(genre_mlp_emb)\n",
        "\n",
        "        # Average over genres to get a single embedding per user-movie pair\n",
        "        genre_mlp_emb = genre_mlp_emb.mean(dim=1)\n",
        "        mlp_input = torch.cat((user_mlp_emb, movie_mlp_emb, genre_mlp_emb), dim=-1)\n",
        "\n",
        "        # Pass through MLP layers\n",
        "        mlp_output = F.relu(self.fc1_mlp(mlp_input))\n",
        "        mlp_output = self.dropout(mlp_output)\n",
        "        mlp_output = F.relu(self.fc2_mlp(mlp_output))\n",
        "\n",
        "        # Combine GMF and MLP outputs\n",
        "        combined_input = torch.cat((gmf_output, mlp_output), dim=-1)  # Combine GMF and MLP outputs\n",
        "        combined_output = F.relu(self.fc1_combined(combined_input))\n",
        "\n",
        "        # Final output layer\n",
        "        output = self.fc2_combined(combined_output)\n",
        "        output = torch.sigmoid(output)\n",
        "\n",
        "        return output.squeeze()\n"
      ],
      "metadata": {
        "id": "jaWKI5-OKx-X"
      },
      "execution_count": 20,
      "outputs": []
    },
    {
      "cell_type": "markdown",
      "source": [
        "NeuMFWithGenre2 (No Normalization)"
      ],
      "metadata": {
        "id": "WCnLdacLUex5"
      }
    },
    {
      "cell_type": "code",
      "source": [
        "class NeuMFWithGenre2(nn.Module):\n",
        "    def __init__(self, num_users, num_movies, num_genres, embedding_dim, dropout_rate):\n",
        "        super(NeuMFWithGenre2, self).__init__()\n",
        "\n",
        "        # GMF pathway components\n",
        "        self.user_embedding_gmf = nn.Embedding(num_users, embedding_dim)\n",
        "        self.movie_embedding_gmf = nn.Embedding(num_movies, embedding_dim)\n",
        "        self.genre_embedding_gmf = nn.Embedding(num_genres, embedding_dim)  # Genre embeddings for GMF\n",
        "\n",
        "        # MLP pathway components\n",
        "        self.user_embedding_mlp = nn.Embedding(num_users, embedding_dim)\n",
        "        self.movie_embedding_mlp = nn.Embedding(num_movies, embedding_dim)\n",
        "        self.genre_embedding_mlp = nn.Embedding(num_genres, embedding_dim)  # Genre embeddings for MLP\n",
        "\n",
        "        # MLP hidden layers\n",
        "        self.fc1_mlp = nn.Linear(2 * embedding_dim + embedding_dim, 128)  # +embedding_dim for genre\n",
        "        self.fc2_mlp = nn.Linear(128, 64)\n",
        "\n",
        "        # Final layers to combine GMF and MLP outputs\n",
        "        self.fc1_combined = nn.Linear(embedding_dim + 64, 128)  # +embedding_dim for GMF and MLP\n",
        "        self.fc2_combined = nn.Linear(128, 1)\n",
        "\n",
        "        # Dropout for regularization\n",
        "        self.dropout = nn.Dropout(dropout_rate)\n",
        "\n",
        "    def forward(self, user_id, movie_id, genre_id):\n",
        "        # GMF pathway\n",
        "        user_gmf_emb = self.user_embedding_gmf(user_id)\n",
        "        movie_gmf_emb = self.movie_embedding_gmf(movie_id)\n",
        "        genre_gmf_emb = self.genre_embedding_gmf(genre_id)  # Genre embedding for GMF\n",
        "\n",
        "        gmf_output = user_gmf_emb * movie_gmf_emb\n",
        "        # Summing genre embeddings for GMF pathway (can experiment with other methods)\n",
        "        genre_gmf_emb = genre_gmf_emb.sum(dim=1)  # Sum over genres to get a single embedding per sample\n",
        "        gmf_output = gmf_output * genre_gmf_emb\n",
        "\n",
        "        # MLP pathway\n",
        "        user_mlp_emb = self.user_embedding_mlp(user_id)\n",
        "        movie_mlp_emb = self.movie_embedding_mlp(movie_id)\n",
        "        genre_mlp_emb = self.genre_embedding_mlp(genre_id)  # Genre embedding for MLP\n",
        "\n",
        "        # Average over genres to get a single embedding per user-movie pair\n",
        "        genre_mlp_emb = genre_mlp_emb.mean(dim=1)\n",
        "        mlp_input = torch.cat((user_mlp_emb, movie_mlp_emb, genre_mlp_emb), dim=-1)\n",
        "\n",
        "        # Pass through MLP layers\n",
        "        mlp_output = F.relu(self.fc1_mlp(mlp_input))\n",
        "        mlp_output = self.dropout(mlp_output)\n",
        "        mlp_output = F.relu(self.fc2_mlp(mlp_output))\n",
        "\n",
        "        # Combine GMF and MLP outputs\n",
        "        combined_input = torch.cat((gmf_output, mlp_output), dim=-1)  # Combine GMF and MLP outputs\n",
        "        combined_output = F.relu(self.fc1_combined(combined_input))\n",
        "\n",
        "        # Final output layer\n",
        "        output = self.fc2_combined(combined_output)\n",
        "        output = torch.sigmoid(output)\n",
        "\n",
        "        return output.squeeze()"
      ],
      "metadata": {
        "id": "JTAgAoSFvvF2"
      },
      "execution_count": null,
      "outputs": []
    },
    {
      "cell_type": "markdown",
      "source": [
        "### Training and Validation"
      ],
      "metadata": {
        "id": "WkIHg58LfB5f"
      }
    },
    {
      "cell_type": "markdown",
      "source": [
        "Training of NeuMFWithGenre1 (Normalization)"
      ],
      "metadata": {
        "id": "cQjIXcBcUnOZ"
      }
    },
    {
      "cell_type": "code",
      "source": [
        "# Hyperparameters\n",
        "embedding_dim = 64\n",
        "dropout_rate = 0.2\n",
        "\n",
        "# Initialize model\n",
        "recommendation_model = NeuMFWithGenre1(\n",
        "    num_users=len(user_en.classes_),\n",
        "    num_movies=len(movie_en.classes_),\n",
        "    num_genres=25,\n",
        "    embedding_dim=embedding_dim,\n",
        "    dropout_rate=dropout_rate\n",
        ").to(device)\n",
        "\n",
        "# Optimizer and loss function\n",
        "optimizer = torch.optim.Adam(recommendation_model.parameters(), lr=1e-3)\n",
        "loss_func = nn.MSELoss()\n",
        "\n",
        "# Training loop\n",
        "EPOCHS = 4\n",
        "for epoch in range(EPOCHS):\n",
        "    recommendation_model.train()\n",
        "    total_loss = 0\n",
        "    for train_data in tqdm(train_loader, desc=f\"Epoch {epoch+1}/{EPOCHS}\", leave=False):\n",
        "        users = train_data[\"user\"].to(device)\n",
        "        movies = train_data[\"movie\"].to(device)\n",
        "        ratings = train_data[\"rating\"].to(device)\n",
        "        genres = train_data[\"genre\"].to(device)\n",
        "\n",
        "        # Forward pass\n",
        "        output = recommendation_model(users, movies, genres)\n",
        "\n",
        "        # Calculate loss\n",
        "        loss = loss_func(output, ratings.float())\n",
        "        total_loss += loss.item()\n",
        "\n",
        "        # Backward pass\n",
        "        optimizer.zero_grad()\n",
        "        loss.backward()\n",
        "        optimizer.step()\n",
        "\n",
        "    print(f\"Epoch {epoch+1}, Loss: {total_loss / len(train_loader)}\")"
      ],
      "metadata": {
        "colab": {
          "base_uri": "https://localhost:8080/"
        },
        "id": "JLPMCLDfs0UV",
        "outputId": "d40e0cc6-595b-4c87-e8e2-b77c1d6341cb"
      },
      "execution_count": 92,
      "outputs": [
        {
          "metadata": {
            "tags": null
          },
          "name": "stderr",
          "output_type": "stream",
          "text": [
            ""
          ]
        },
        {
          "metadata": {
            "tags": null
          },
          "name": "stdout",
          "output_type": "stream",
          "text": [
            "Epoch 1, Loss: 0.07177281480060776\n"
          ]
        },
        {
          "output_type": "stream",
          "name": "stderr",
          "text": []
        },
        {
          "output_type": "stream",
          "name": "stdout",
          "text": [
            "Epoch 2, Loss: 0.06563713342595352\n"
          ]
        },
        {
          "output_type": "stream",
          "name": "stderr",
          "text": []
        },
        {
          "output_type": "stream",
          "name": "stdout",
          "text": [
            "Epoch 3, Loss: 0.05738039755733693\n"
          ]
        },
        {
          "output_type": "stream",
          "name": "stderr",
          "text": [
            "                                                                "
          ]
        },
        {
          "output_type": "stream",
          "name": "stdout",
          "text": [
            "Epoch 4, Loss: 0.04689916723488303\n"
          ]
        },
        {
          "output_type": "stream",
          "name": "stderr",
          "text": [
            "\r"
          ]
        }
      ]
    },
    {
      "cell_type": "markdown",
      "source": [
        "Validation of NeuMFWithGenre1 (Normalization)"
      ],
      "metadata": {
        "id": "RTPyySmoUueG"
      }
    },
    {
      "cell_type": "code",
      "source": [
        "# Initialize dictionaries to hold metrics for each user\n",
        "precisions = {}\n",
        "recalls = {}\n",
        "f1_scores = {}\n",
        "ndcgs = {}\n",
        "\n",
        "# Define the top-k recommendation list size\n",
        "k = 5\n",
        "\n",
        "# Initialize for storing true and predicted ratings for later use\n",
        "y_test = []\n",
        "y_pred = []\n",
        "\n",
        "# Loop through the validation data\n",
        "pred_true_comparison = defaultdict(list)\n",
        "with torch.no_grad():\n",
        "    for valid_data in validation_loader:\n",
        "        users = valid_data[\"user\"].to(device)\n",
        "        movies = valid_data[\"movie\"].to(device)\n",
        "        ratings = valid_data[\"rating\"].to(device)\n",
        "        genres = valid_data[\"genre\"].to(device)\n",
        "\n",
        "        # Get model predictions\n",
        "        output = recommendation_model(users, movies, genres)\n",
        "\n",
        "        # Store results for each user\n",
        "        for user, pred, true in zip(users, output, ratings):\n",
        "            pred_true_comparison[user.item()].append((pred.item(), true.item()))\n",
        "            y_test.append(true.item())\n",
        "            y_pred.append(pred.item())\n",
        "\n",
        "# Calculate metrics for each user\n",
        "for user_id, user_ratings in pred_true_comparison.items():\n",
        "    precision, recall = calc_PRA(user_ratings, k, recommendation_threshold)\n",
        "    precisions[user_id] = precision\n",
        "    recalls[user_id] = recall\n",
        "    # Calculate F1 score for the user\n",
        "    f1_scores[user_id] = 2 * (precision * recall) / (precision + recall) if (precision + recall) > 0 else 0\n",
        "    # Calculate NDCG@k for the user\n",
        "    ndcgs[user_id] = calculate_ndcg(user_ratings, k, recommendation_threshold)\n",
        "\n",
        "# Calculate average metrics across all users\n",
        "average_precision = sum(precisions.values()) / len(precisions)\n",
        "average_recall = sum(recalls.values()) / len(recalls)\n",
        "average_f1 = sum(f1_scores.values()) / len(f1_scores)\n",
        "average_ndcg = sum(ndcgs.values()) / len(ndcgs)\n",
        "\n",
        "# Print out the metrics\n",
        "print(f\"Average precision of top {k} movies recommended for all users - validation: {average_precision:.4f}\")\n",
        "print(f\"Average recall of top {k} movies recommended for all users - validation: {average_recall:.4f}\")\n",
        "print(f\"Average F1 score of top {k} movies recommended for all users - validation: {average_f1:.4f}\")\n",
        "print(f\"Average NDCG@{k} of top movies recommended for all users - validation: {average_ndcg:.4f}\")"
      ],
      "metadata": {
        "colab": {
          "base_uri": "https://localhost:8080/"
        },
        "id": "OhFLXWpes_24",
        "outputId": "ea1ea37d-e56d-4f3d-d8bf-67f7be171bec"
      },
      "execution_count": 93,
      "outputs": [
        {
          "output_type": "stream",
          "name": "stdout",
          "text": [
            "Average precision of top 5 movies recommended for all users - validation: 0.8020\n",
            "Average recall of top 5 movies recommended for all users - validation: 0.8330\n",
            "Average F1 score of top 5 movies recommended for all users - validation: 0.6659\n",
            "Average NDCG@5 of top movies recommended for all users - validation: 0.6260\n"
          ]
        }
      ]
    },
    {
      "cell_type": "markdown",
      "source": [
        "Training of NeuMFWithGenre2 (No Normalization)"
      ],
      "metadata": {
        "id": "I_FoOL8Iovgi"
      }
    },
    {
      "cell_type": "code",
      "source": [
        "# Hyperparameters\n",
        "embedding_dim = 64\n",
        "dropout_rate = 0.2\n",
        "\n",
        "# Initialize model\n",
        "recommendation_model = NeuMFWithGenre2(\n",
        "    num_users=len(user_en.classes_),\n",
        "    num_movies=len(movie_en.classes_),\n",
        "    num_genres=25,\n",
        "    embedding_dim=embedding_dim,\n",
        "    dropout_rate=dropout_rate\n",
        ").to(device)\n",
        "\n",
        "# Optimizer and loss function\n",
        "optimizer = torch.optim.Adam(recommendation_model.parameters(), lr=1e-3)\n",
        "loss_func = nn.MSELoss()\n",
        "\n",
        "# Training loop\n",
        "EPOCHS = 4\n",
        "for epoch in range(EPOCHS):\n",
        "    recommendation_model.train()\n",
        "    total_loss = 0\n",
        "    for train_data in tqdm(train_loader, desc=f\"Epoch {epoch+1}/{EPOCHS}\", leave=False):\n",
        "        users = train_data[\"user\"].to(device)\n",
        "        movies = train_data[\"movie\"].to(device)\n",
        "        ratings = train_data[\"rating\"].to(device)\n",
        "        genres = train_data[\"genre\"].to(device)\n",
        "\n",
        "        # Forward pass\n",
        "        output = recommendation_model(users, movies, genres)\n",
        "\n",
        "        # Calculate loss\n",
        "        loss = loss_func(output, ratings.float())\n",
        "        total_loss += loss.item()\n",
        "\n",
        "        # Backward pass\n",
        "        optimizer.zero_grad()\n",
        "        loss.backward()\n",
        "        optimizer.step()\n",
        "\n",
        "    print(f\"Epoch {epoch+1}, Loss: {total_loss / len(train_loader)}\")"
      ],
      "metadata": {
        "colab": {
          "base_uri": "https://localhost:8080/"
        },
        "id": "JjePYbykopAY",
        "outputId": "747ca460-8f69-41cc-a782-54faeff783d9"
      },
      "execution_count": 23,
      "outputs": [
        {
          "output_type": "stream",
          "name": "stderr",
          "text": []
        },
        {
          "output_type": "stream",
          "name": "stdout",
          "text": [
            "Epoch 1, Loss: 0.07278335877098718\n"
          ]
        },
        {
          "output_type": "stream",
          "name": "stderr",
          "text": []
        },
        {
          "output_type": "stream",
          "name": "stdout",
          "text": [
            "Epoch 2, Loss: 0.06520592865822533\n"
          ]
        },
        {
          "output_type": "stream",
          "name": "stderr",
          "text": []
        },
        {
          "output_type": "stream",
          "name": "stdout",
          "text": [
            "Epoch 3, Loss: 0.057420999642608675\n"
          ]
        },
        {
          "output_type": "stream",
          "name": "stderr",
          "text": [
            "                                                                "
          ]
        },
        {
          "output_type": "stream",
          "name": "stdout",
          "text": [
            "Epoch 4, Loss: 0.047804758036226615\n"
          ]
        },
        {
          "output_type": "stream",
          "name": "stderr",
          "text": [
            "\r"
          ]
        }
      ]
    },
    {
      "cell_type": "markdown",
      "source": [
        "Validation of NeuMFWithGenre2 (No Normalization)"
      ],
      "metadata": {
        "id": "78XFZNcCU2Bk"
      }
    },
    {
      "cell_type": "code",
      "source": [
        "# Initialize dictionaries to hold metrics for each user\n",
        "precisions = {}\n",
        "recalls = {}\n",
        "f1_scores = {}\n",
        "ndcgs = {}\n",
        "\n",
        "# Define the top-k recommendation list size\n",
        "k = 5\n",
        "\n",
        "# Initialize for storing true and predicted ratings for later use\n",
        "y_test = []\n",
        "y_pred = []\n",
        "\n",
        "# Loop through the validation data\n",
        "pred_true_comparison = defaultdict(list)\n",
        "with torch.no_grad():\n",
        "    for valid_data in validation_loader:\n",
        "        users = valid_data[\"user\"].to(device)\n",
        "        movies = valid_data[\"movie\"].to(device)\n",
        "        ratings = valid_data[\"rating\"].to(device)\n",
        "        genres = valid_data[\"genre\"].to(device)\n",
        "\n",
        "        # Get model predictions\n",
        "        output = recommendation_model(users, movies, genres)\n",
        "\n",
        "        # Store results for each user\n",
        "        for user, pred, true in zip(users, output, ratings):\n",
        "            pred_true_comparison[user.item()].append((pred.item(), true.item()))\n",
        "            y_test.append(true.item())\n",
        "            y_pred.append(pred.item())\n",
        "\n",
        "# Calculate metrics for each user\n",
        "for user_id, user_ratings in pred_true_comparison.items():\n",
        "    precision, recall = calc_PRA(user_ratings, k, recommendation_threshold)\n",
        "    precisions[user_id] = precision\n",
        "    recalls[user_id] = recall\n",
        "    # Calculate F1 score for the user\n",
        "    f1_scores[user_id] = 2 * (precision * recall) / (precision + recall) if (precision + recall) > 0 else 0\n",
        "    # Calculate NDCG@k for the user\n",
        "    ndcgs[user_id] = calculate_ndcg(user_ratings, k, recommendation_threshold)\n",
        "\n",
        "# Calculate average metrics across all users\n",
        "average_precision = sum(precisions.values()) / len(precisions)\n",
        "average_recall = sum(recalls.values()) / len(recalls)\n",
        "average_f1 = sum(f1_scores.values()) / len(f1_scores)\n",
        "average_ndcg = sum(ndcgs.values()) / len(ndcgs)\n",
        "\n",
        "# Print out the metrics\n",
        "print(f\"Average precision of top {k} movies recommended for all users - validation: {average_precision:.4f}\")\n",
        "print(f\"Average recall of top {k} movies recommended for all users - validation: {average_recall:.4f}\")\n",
        "print(f\"Average F1 score of top {k} movies recommended for all users - validation: {average_f1:.4f}\")\n",
        "print(f\"Average NDCG@{k} of top movies recommended for all users - validation: {average_ndcg:.4f}\")"
      ],
      "metadata": {
        "colab": {
          "base_uri": "https://localhost:8080/"
        },
        "id": "cexm3WPXpBQz",
        "outputId": "0a0c04c4-8f7c-45e4-d240-4a0890dd521d"
      },
      "execution_count": 24,
      "outputs": [
        {
          "output_type": "stream",
          "name": "stdout",
          "text": [
            "Average precision of top 5 movies recommended for all users - validation: 0.8171\n",
            "Average recall of top 5 movies recommended for all users - validation: 0.8194\n",
            "Average F1 score of top 5 movies recommended for all users - validation: 0.6658\n",
            "Average NDCG@5 of top movies recommended for all users - validation: 0.6263\n"
          ]
        }
      ]
    },
    {
      "cell_type": "markdown",
      "source": [
        "### Model comparison and analysis"
      ],
      "metadata": {
        "id": "7Eosy1AWVaAJ"
      }
    },
    {
      "cell_type": "markdown",
      "source": [
        "**NeuMFWithGenre1 (Normalization) VS NeuMFWithGenre2 (No Normalization)**\n",
        "\n",
        "NeuMFWithGenre1 (Normalization)\n",
        "* Average precision of top 5 movies recommended for all users - validation: 0.8020\n",
        "* Average recall of top 5 movies recommended for all users - validation: 0.8330\n",
        "* Average F1 score of top 5 movies recommended for all users - validation: 0.6659\n",
        "* Average NDCG@5 of top movies recommended for all users - validation: 0.6260\n",
        "\n",
        "NeuMFWithGenre2 (No Normalization)\n",
        "* Average precision of top 5 movies recommended for all users - validation: 0.8171\n",
        "* Average recall of top 5 movies recommended for all users - validation: 0.8194\n",
        "* Average F1 score of top 5 movies recommended for all users - validation: 0.6658\n",
        "* Average NDCG@5 of top movies recommended for all users - validation: 0.6263\n",
        "\n",
        "Analysis: In terms of F1 score and NDCG, we see that both NeuMFWithGenre1 and NeuMFWithGenre2 have very similar scores. However, NeuMFWithGenre1 has a lower precision and higher recall while NeuMFWithGenre2 is the opposite. As mentioned earlier, from the user perspective, they will likely appreciate a top 5 recommendation list that contains more relevant movies (higher precision) even if it means that fewer total relevant items are included (slightly lower recall). This is so that users can  quickly find something they enjoy without sifting through a broad, irrelevant set of recommendations. Hence we prefer NeuMFWithGenre2 as with its higher precision, it is better at providing that focused, relevant list that a user is more likely to engage with."
      ],
      "metadata": {
        "id": "CfEa05zfx1lY"
      }
    },
    {
      "cell_type": "markdown",
      "source": [
        "**NeuMF VS NeuMFWithGenre2**\n",
        "\n",
        "NeuMF\n",
        "* Average precision of top 5 movies recommended for all users - validation: 0.8050\n",
        "* Average recall of top 5 movies recommended for all users - validation: 0.8299\n",
        "* Average F1 score of top 5 movies recommended for all users - validation: 0.6652\n",
        "* Average NDCG@5 of top movies recommended for all users - validation: 0.6262\n",
        "\n",
        "NeuMFWithGenre2 (No Normalization)\n",
        "* Average precision of top 5 movies recommended for all users - validation: 0.8171\n",
        "* Average recall of top 5 movies recommended for all users - validation: 0.8194\n",
        "* Average F1 score of top 5 movies recommended for all users - validation: 0.6658\n",
        "* Average NDCG@5 of top movies recommended for all users - validation: 0.6263\n",
        "\n",
        "Analysis: Although NeuMFWithGenre2 has a slightly higher F1 score, the F1 scores of both models are very similar, indicating a balanced trade-off between precision and recall. Additionally, the NDCG@5 scores are almost identical, suggesting that the ranking quality of the recommendations is comparable. However, NeuMFWithGenre2 has a higher precision than NeuMF but a lower recall. Precision is crucial for recommendation systems, especially when recommending a small number of items like the top 5. Higher precision means that a larger proportion of the recommended items are relevant to the user, which is vital for user satisfaction. In this case, the higher precision of NCFModelWithGenre2 ensures that the top 5 movies are more likely to match the user's preferences, which leads to a better user experience. Therefore, we prefer NeuMFWithGenre2."
      ],
      "metadata": {
        "id": "C2BCIXfg8S-J"
      }
    },
    {
      "cell_type": "markdown",
      "source": [
        "### Evaluation on test data and prediction"
      ],
      "metadata": {
        "id": "AQVpdp6NfUqn"
      }
    },
    {
      "cell_type": "code",
      "source": [
        "# Initialize dictionaries to hold metrics for each user\n",
        "precisions = {}\n",
        "recalls = {}\n",
        "f1_scores = {}\n",
        "ndcgs = {}\n",
        "\n",
        "# Define the top-k recommendation list size\n",
        "k = 5\n",
        "\n",
        "# Initialize for storing true and predicted ratings for later use\n",
        "y_test = []\n",
        "y_pred = []\n",
        "\n",
        "# Loop through the test data\n",
        "pred_true_comparison = defaultdict(list)\n",
        "with torch.no_grad():\n",
        "    for testdata in test_loader:\n",
        "        users = testdata[\"user\"].to(device)\n",
        "        movies = testdata[\"movie\"].to(device)\n",
        "        ratings = testdata[\"rating\"].to(device)\n",
        "        genres = testdata[\"genre\"].to(device)\n",
        "\n",
        "        # Get model predictions\n",
        "        output = recommendation_model(users, movies, genres)\n",
        "\n",
        "        # Store results for each user\n",
        "        for user, pred, true in zip(users, output, ratings):\n",
        "            pred_true_comparison[user.item()].append((pred.item(), true.item()))\n",
        "            y_test.append(true.item())\n",
        "            y_pred.append(pred.item())\n",
        "\n",
        "# Calculate metrics for each user\n",
        "for user_id, user_ratings in pred_true_comparison.items():\n",
        "    precision, recall = calc_PRA(user_ratings, k, recommendation_threshold)\n",
        "    precisions[user_id] = precision\n",
        "    recalls[user_id] = recall\n",
        "    # Calculate F1 score for the user\n",
        "    f1_scores[user_id] = 2 * (precision * recall) / (precision + recall) if (precision + recall) > 0 else 0\n",
        "    # Calculate NDCG@k for the user\n",
        "    ndcgs[user_id] = calculate_ndcg(user_ratings, k, recommendation_threshold)\n",
        "\n",
        "# Calculate average metrics across all users\n",
        "average_precision = sum(precisions.values()) / len(precisions)\n",
        "average_recall = sum(recalls.values()) / len(recalls)\n",
        "average_f1 = sum(f1_scores.values()) / len(f1_scores)\n",
        "average_ndcg = sum(ndcgs.values()) / len(ndcgs)\n",
        "\n",
        "# Print out the metrics\n",
        "print(f\"Average precision of top {k} movies recommended for all users - test: {average_precision:.4f}\")\n",
        "print(f\"Average recall of top {k} movies recommended for all users - test: {average_recall:.4f}\")\n",
        "print(f\"Average F1 score of top {k} movies recommended for all users - test: {average_f1:.4f}\")\n",
        "print(f\"Average NDCG@{k} of top movies recommended for all users - test: {average_ndcg:.4f}\")"
      ],
      "metadata": {
        "colab": {
          "base_uri": "https://localhost:8080/"
        },
        "id": "Y_P_tCHHa12n",
        "outputId": "10a93f8a-7a3d-48bb-f4f4-c39c3533206a"
      },
      "execution_count": 25,
      "outputs": [
        {
          "output_type": "stream",
          "name": "stdout",
          "text": [
            "Average precision of top 5 movies recommended for all users - test: 0.8146\n",
            "Average recall of top 5 movies recommended for all users - test: 0.8204\n",
            "Average F1 score of top 5 movies recommended for all users - test: 0.6648\n",
            "Average NDCG@5 of top movies recommended for all users - test: 0.6244\n"
          ]
        }
      ]
    },
    {
      "cell_type": "markdown",
      "source": [
        "Prediction to find top 5 recommended movies for 1 user (Cineanalyst)"
      ],
      "metadata": {
        "id": "tGkRTY_lbASh"
      }
    },
    {
      "cell_type": "code",
      "source": [
        "pred_true_comparison = defaultdict(list)\n",
        "\n",
        "# Get the user ID for Cineanalyst\n",
        "cine_id = user_en.transform(['Cineanalyst'])[0]\n",
        "\n",
        "y_test = []\n",
        "y_pred = []\n",
        "\n",
        "cine_predictions = []\n",
        "\n",
        "# No gradient calculations required during inference\n",
        "with torch.no_grad():\n",
        "    for test_data in test_loader:\n",
        "        users = test_data[\"user\"].to(device)\n",
        "        movies = test_data[\"movie\"].to(device)\n",
        "        ratings = test_data[\"rating\"].to(device)\n",
        "        genres = test_data[\"genre\"].to(device)\n",
        "\n",
        "        # Get model predictions\n",
        "        outputs = recommendation_model(users, movies, genres)\n",
        "\n",
        "        for user, pred, true, movie_id in zip(users, outputs, ratings, movies):\n",
        "            # Store user-specific predictions and actual ratings\n",
        "            pred_true_comparison[user.item()].append([pred.item(), true.item()])\n",
        "\n",
        "            # Store predictions for Cineanalyst for later analysis\n",
        "            if user.item() == cine_id:\n",
        "                cine_predictions.append((movie_id.item(), pred.item(), true.item()))\n",
        "\n",
        "            # Collect true ratings and predicted ratings for metrics\n",
        "            y_test.append(recommend(true.item(), recommendation_threshold))  # assuming recommend() is implemented\n",
        "            y_pred.append(pred.item())\n",
        "\n",
        "# Sort Cineanalyst predictions by predicted rating, descending order\n",
        "cine_predictions.sort(key=lambda x: x[1], reverse=True)\n",
        "\n",
        "# Select top 5 recommendations based on the highest predicted ratings\n",
        "top_5_recommendations = cine_predictions[:5]\n",
        "\n",
        "# Print the top 5 recommendations for Cineanalyst\n",
        "print(\"Top 5 recommendations for Cineanalyst:\")\n",
        "for movie_id, pred_rating, actual_rating in top_5_recommendations:\n",
        "    # Convert movie ID to movie name\n",
        "    movie_name = movie_en.inverse_transform([movie_id])[0]\n",
        "    print(f\"Movie: {movie_name}, Predicted Rating: {pred_rating:.2f}, Actual Rating: {actual_rating:.2f}\")"
      ],
      "metadata": {
        "colab": {
          "base_uri": "https://localhost:8080/"
        },
        "id": "ZDSVKRkXa_H0",
        "outputId": "0ed6a7b9-c415-4e4a-81c1-21192bfc42f4"
      },
      "execution_count": 26,
      "outputs": [
        {
          "output_type": "stream",
          "name": "stdout",
          "text": [
            "Top 5 recommendations for Cineanalyst:\n",
            "Movie: the wizard of oz (1939), Predicted Rating: 0.84, Actual Rating: 1.00\n",
            "Movie: hidden figures (2016), Predicted Rating: 0.78, Actual Rating: 0.70\n",
            "Movie: velvet goldmine (1998), Predicted Rating: 0.76, Actual Rating: 0.60\n",
            "Movie: bohemian rhapsody (2018), Predicted Rating: 0.74, Actual Rating: 0.60\n",
            "Movie: selma (2014), Predicted Rating: 0.72, Actual Rating: 0.70\n"
          ]
        }
      ]
    },
    {
      "cell_type": "markdown",
      "source": [
        "# Comparison and Analysis of NCF models and the impact of genre"
      ],
      "metadata": {
        "id": "JBftdlS6VGUT"
      }
    },
    {
      "cell_type": "markdown",
      "source": [
        "**Comparison and analysis of preferred MLP based CF and NeuMF models**\n",
        "\n",
        "In general, we can see that MLP based CF models have higher precision while NeuMF models have higher recall. Based on our previous analysis, amongst the MLP based models, NCFModelWithGenre2 is preferred and amongst the NeuMF models, NeuMFWithGenre2 is preferred.\n",
        "\n",
        "NCFModelWithGenre2\n",
        "* Average precision of top 5 movies recommended for all users - test: 0.8281\n",
        "* Average recall of top 5 movies recommended for all users - test: 0.8120\n",
        "* Average F1 score of top 5 movies recommended for all users - test: 0.6681\n",
        "* Average NDCG@5 of top movies recommended for all users - test: 0.6260\n",
        "\n",
        "NeuMFWithGenre2\n",
        "* Average precision of top 5 movies recommended for all users - test: 0.8146\n",
        "* Average recall of top 5 movies recommended for all users - test: 0.8204\n",
        "* Average F1 score of top 5 movies recommended for all users - test: 0.6648\n",
        "* Average NDCG@5 of top movies recommended for all users - test: 0.6244\n",
        "\n",
        "Analysis: NCFModelWithGenre2 outperforms NeuMFWithGenre2 in precision (0.8281 vs. 0.8146), making it more effective at delivering highly relevant movie recommendations, which is crucial for user satisfaction. Although NeuMFWithGenre2 has a higher recall (0.8204 vs. 0.8120), indicating broader coverage of relevant movies, the difference is small. Both models have similar F1 scores, reflecting a balanced trade-off between precision and recall, and nearly identical NDCG@5 scores, suggesting comparable ranking quality. Overall, the higher precision of NCFModelWithGenre2 makes it a stronger choice for our case of recommending top 5 movies which prioritizes relevance.\n",
        "\n",
        "\n"
      ],
      "metadata": {
        "id": "ppUKEBNBgec6"
      }
    },
    {
      "cell_type": "markdown",
      "source": [
        "**Impact of genre embeddings**"
      ],
      "metadata": {
        "id": "JUXxd6pAh5W8"
      }
    },
    {
      "cell_type": "markdown",
      "source": [
        "\n",
        "From our evaluation on validation data, we can see that for both MLP-based CF and NeuMF, adding genre embeddings increases precision and decreases recall but has little impact on F1 score and NDCG. More investigation will need to be done to understand the trade-offs and how to best optimize the use of genre information. Examples include analyzing the impact of different embedding sizes to see if varying the size of the genre embeddings influences model performance. Larger embeddings might capture more detailed genre information, while smaller ones might reduce overfitting. Additionally, we can experiment with different normalization techniques, such as batch or layer normalization, to assess their effects on model stability and performance. Moreover, we could evaluate the influence of individual genres to understand whether certain genres are contributing more significantly to precision or recall and whether excluding or emphasizing these genres could optimize the results."
      ],
      "metadata": {
        "id": "7-y-cBSzkyu1"
      }
    }
  ]
}
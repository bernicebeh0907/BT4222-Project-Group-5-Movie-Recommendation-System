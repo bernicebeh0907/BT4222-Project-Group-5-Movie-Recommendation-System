{
  "cells": [
    {
      "cell_type": "markdown",
      "metadata": {
        "id": "l83Cvy8bg3_P"
      },
      "source": [
        "# Data Pre-process for Oscar Awards"
      ]
    },
    {
      "cell_type": "code",
      "source": [
        "from google.colab import drive\n",
        "drive.mount('/content/drive/')"
      ],
      "metadata": {
        "colab": {
          "base_uri": "https://localhost:8080/"
        },
        "id": "F2qxIzrag7qL",
        "outputId": "88dbe857-09bb-4e4a-c87c-2a2ee4513dd4"
      },
      "execution_count": null,
      "outputs": [
        {
          "output_type": "stream",
          "name": "stdout",
          "text": [
            "Mounted at /content/drive/\n"
          ]
        }
      ]
    },
    {
      "cell_type": "markdown",
      "metadata": {
        "id": "jAz7S5sug3_c"
      },
      "source": [
        "## Import Packages"
      ]
    },
    {
      "cell_type": "code",
      "execution_count": null,
      "metadata": {
        "id": "58txBf7_g3_g"
      },
      "outputs": [],
      "source": [
        "import pandas as pd"
      ]
    },
    {
      "cell_type": "markdown",
      "metadata": {
        "id": "RwLJ9f-Eg3_k"
      },
      "source": [
        "## Step 1: Data Preprocessing\n",
        "\n",
        "- Rename column names to be more descriptive\n",
        "\n",
        "- Change data type\n",
        "\n",
        "- Drop unnecessary columns\n",
        "\n",
        "- Drop duplicates\n",
        "\n",
        "- Group awards categories"
      ]
    },
    {
      "cell_type": "code",
      "execution_count": null,
      "metadata": {
        "colab": {
          "base_uri": "https://localhost:8080/"
        },
        "id": "oUcggWUeg3_n",
        "outputId": "011517c5-e8d9-458e-87c6-67f6876260d5"
      },
      "outputs": [
        {
          "output_type": "stream",
          "name": "stdout",
          "text": [
            "   year_film  year_ceremony  ceremony category                 name  \\\n",
            "0       1927           1928         1    ACTOR  Richard Barthelmess   \n",
            "1       1927           1928         1    ACTOR        Emil Jannings   \n",
            "2       1927           1928         1  ACTRESS       Louise Dresser   \n",
            "3       1927           1928         1  ACTRESS         Janet Gaynor   \n",
            "4       1927           1928         1  ACTRESS       Gloria Swanson   \n",
            "\n",
            "               film  winner  \n",
            "0         The Noose   False  \n",
            "1  The Last Command    True  \n",
            "2   A Ship Comes In   False  \n",
            "3        7th Heaven    True  \n",
            "4    Sadie Thompson   False  \n"
          ]
        }
      ],
      "source": [
        "# Read the CSV file\n",
        "df = pd.read_csv('/content/drive/MyDrive/Colab Notebooks/BT4222/the_oscar_award.csv')\n",
        "\n",
        "# Display the first few rows of the dataframe\n",
        "print(df.head())"
      ]
    },
    {
      "cell_type": "code",
      "execution_count": null,
      "metadata": {
        "colab": {
          "base_uri": "https://localhost:8080/"
        },
        "id": "KMnwgNi_g3_p",
        "outputId": "c4cfb9e7-f922-4a8f-d4dc-21c0cfa2edf9"
      },
      "outputs": [
        {
          "output_type": "stream",
          "name": "stdout",
          "text": [
            "<class 'pandas.core.frame.DataFrame'>\n",
            "RangeIndex: 10889 entries, 0 to 10888\n",
            "Data columns (total 7 columns):\n",
            " #   Column         Non-Null Count  Dtype \n",
            "---  ------         --------------  ----- \n",
            " 0   year_film      10889 non-null  int64 \n",
            " 1   year_ceremony  10889 non-null  int64 \n",
            " 2   ceremony       10889 non-null  int64 \n",
            " 3   category       10889 non-null  object\n",
            " 4   name           10884 non-null  object\n",
            " 5   film           10570 non-null  object\n",
            " 6   winner         10889 non-null  bool  \n",
            "dtypes: bool(1), int64(3), object(3)\n",
            "memory usage: 521.2+ KB\n"
          ]
        }
      ],
      "source": [
        "df.info()"
      ]
    },
    {
      "cell_type": "code",
      "execution_count": null,
      "metadata": {
        "colab": {
          "base_uri": "https://localhost:8080/",
          "height": 303
        },
        "id": "r0tNfN8yg3_r",
        "outputId": "b526ea4b-f63e-4bea-df3a-a9ff36046941"
      },
      "outputs": [
        {
          "output_type": "execute_result",
          "data": {
            "text/plain": [
              "year_film          0\n",
              "year_ceremony      0\n",
              "ceremony           0\n",
              "category           0\n",
              "name               5\n",
              "film             319\n",
              "winner             0\n",
              "dtype: int64"
            ],
            "text/html": [
              "<div>\n",
              "<style scoped>\n",
              "    .dataframe tbody tr th:only-of-type {\n",
              "        vertical-align: middle;\n",
              "    }\n",
              "\n",
              "    .dataframe tbody tr th {\n",
              "        vertical-align: top;\n",
              "    }\n",
              "\n",
              "    .dataframe thead th {\n",
              "        text-align: right;\n",
              "    }\n",
              "</style>\n",
              "<table border=\"1\" class=\"dataframe\">\n",
              "  <thead>\n",
              "    <tr style=\"text-align: right;\">\n",
              "      <th></th>\n",
              "      <th>0</th>\n",
              "    </tr>\n",
              "  </thead>\n",
              "  <tbody>\n",
              "    <tr>\n",
              "      <th>year_film</th>\n",
              "      <td>0</td>\n",
              "    </tr>\n",
              "    <tr>\n",
              "      <th>year_ceremony</th>\n",
              "      <td>0</td>\n",
              "    </tr>\n",
              "    <tr>\n",
              "      <th>ceremony</th>\n",
              "      <td>0</td>\n",
              "    </tr>\n",
              "    <tr>\n",
              "      <th>category</th>\n",
              "      <td>0</td>\n",
              "    </tr>\n",
              "    <tr>\n",
              "      <th>name</th>\n",
              "      <td>5</td>\n",
              "    </tr>\n",
              "    <tr>\n",
              "      <th>film</th>\n",
              "      <td>319</td>\n",
              "    </tr>\n",
              "    <tr>\n",
              "      <th>winner</th>\n",
              "      <td>0</td>\n",
              "    </tr>\n",
              "  </tbody>\n",
              "</table>\n",
              "</div><br><label><b>dtype:</b> int64</label>"
            ]
          },
          "metadata": {},
          "execution_count": 5
        }
      ],
      "source": [
        "# Check Nulls\n",
        "df.isna().sum()"
      ]
    },
    {
      "cell_type": "code",
      "execution_count": null,
      "metadata": {
        "id": "p5_LLzVKg3_y"
      },
      "outputs": [],
      "source": [
        "# Remove NA\n",
        "df = df.dropna()"
      ]
    },
    {
      "cell_type": "code",
      "execution_count": null,
      "metadata": {
        "id": "5BHsXWILg3_0"
      },
      "outputs": [],
      "source": [
        "# Renaming the columns\n",
        "df = df.rename(columns={'category': 'nomination_category'})\n",
        "df = df.rename(columns={'name': 'nominee_name'})\n",
        "df = df.rename(columns={'film': 'film_title'})\n",
        "\n",
        "df['nominee_name'] = df['nominee_name'].astype(str)\n",
        "df['film_title'] = df['film_title'].astype(str)\n",
        "\n",
        "# Dropping columns\n",
        "df = df.drop(columns=['ceremony'])"
      ]
    },
    {
      "cell_type": "code",
      "execution_count": null,
      "metadata": {
        "id": "HNTkOOHDg3_2"
      },
      "outputs": [],
      "source": [
        "# Broad category grouping with case insensitivity\n",
        "def categorize_award(category):\n",
        "    category = category.lower()  # Convert to lowercase for case-insensitive matching\n",
        "    if 'actor' in category or 'actress' in category:\n",
        "        return 'Acting'\n",
        "    elif 'director' in category:\n",
        "        return 'Directing'\n",
        "    elif 'picture' in category:\n",
        "        return 'Best Picture'\n",
        "    else:\n",
        "        return 'Technical/Other'\n",
        "\n",
        "df['category_type'] = df['nomination_category'].apply(categorize_award)\n",
        "df = df.drop(columns=['nomination_category'])"
      ]
    },
    {
      "cell_type": "code",
      "execution_count": null,
      "metadata": {
        "colab": {
          "base_uri": "https://localhost:8080/"
        },
        "id": "KcXFpSh_g3_4",
        "outputId": "cf547d66-7c50-46c7-be49-d24d90fbc7b2"
      },
      "outputs": [
        {
          "output_type": "stream",
          "name": "stdout",
          "text": [
            "<class 'pandas.core.frame.DataFrame'>\n",
            "Index: 10570 entries, 0 to 10884\n",
            "Data columns (total 6 columns):\n",
            " #   Column         Non-Null Count  Dtype \n",
            "---  ------         --------------  ----- \n",
            " 0   year_film      10570 non-null  int64 \n",
            " 1   year_ceremony  10570 non-null  int64 \n",
            " 2   nominee_name   10570 non-null  object\n",
            " 3   film_title     10570 non-null  object\n",
            " 4   winner         10570 non-null  bool  \n",
            " 5   category_type  10570 non-null  object\n",
            "dtypes: bool(1), int64(2), object(3)\n",
            "memory usage: 505.8+ KB\n"
          ]
        }
      ],
      "source": [
        "df.info()"
      ]
    },
    {
      "cell_type": "markdown",
      "metadata": {
        "id": "3FYutkJhg3_-"
      },
      "source": [
        "## Step 2: Feature Engineering"
      ]
    },
    {
      "cell_type": "code",
      "execution_count": null,
      "metadata": {
        "colab": {
          "base_uri": "https://localhost:8080/",
          "height": 206
        },
        "id": "6A_fkERjg3_-",
        "outputId": "804d24a7-4950-4275-c449-cadd61eeec77"
      },
      "outputs": [
        {
          "output_type": "execute_result",
          "data": {
            "text/plain": [
              "   year_film  year_ceremony         nominee_name        film_title  winner  \\\n",
              "0       1927           1928  Richard Barthelmess         The Noose   False   \n",
              "1       1927           1928        Emil Jannings  The Last Command    True   \n",
              "2       1927           1928       Louise Dresser   A Ship Comes In   False   \n",
              "3       1927           1928         Janet Gaynor        7th Heaven    True   \n",
              "4       1927           1928       Gloria Swanson    Sadie Thompson   False   \n",
              "\n",
              "  category_type  total_awards_won  \n",
              "0        Acting                 0  \n",
              "1        Acting                 1  \n",
              "2        Acting                 0  \n",
              "3        Acting                 3  \n",
              "4        Acting                 0  "
            ],
            "text/html": [
              "\n",
              "  <div id=\"df-a7e1afdc-ea75-4f04-94db-82c2f57529e3\" class=\"colab-df-container\">\n",
              "    <div>\n",
              "<style scoped>\n",
              "    .dataframe tbody tr th:only-of-type {\n",
              "        vertical-align: middle;\n",
              "    }\n",
              "\n",
              "    .dataframe tbody tr th {\n",
              "        vertical-align: top;\n",
              "    }\n",
              "\n",
              "    .dataframe thead th {\n",
              "        text-align: right;\n",
              "    }\n",
              "</style>\n",
              "<table border=\"1\" class=\"dataframe\">\n",
              "  <thead>\n",
              "    <tr style=\"text-align: right;\">\n",
              "      <th></th>\n",
              "      <th>year_film</th>\n",
              "      <th>year_ceremony</th>\n",
              "      <th>nominee_name</th>\n",
              "      <th>film_title</th>\n",
              "      <th>winner</th>\n",
              "      <th>category_type</th>\n",
              "      <th>total_awards_won</th>\n",
              "    </tr>\n",
              "  </thead>\n",
              "  <tbody>\n",
              "    <tr>\n",
              "      <th>0</th>\n",
              "      <td>1927</td>\n",
              "      <td>1928</td>\n",
              "      <td>Richard Barthelmess</td>\n",
              "      <td>The Noose</td>\n",
              "      <td>False</td>\n",
              "      <td>Acting</td>\n",
              "      <td>0</td>\n",
              "    </tr>\n",
              "    <tr>\n",
              "      <th>1</th>\n",
              "      <td>1927</td>\n",
              "      <td>1928</td>\n",
              "      <td>Emil Jannings</td>\n",
              "      <td>The Last Command</td>\n",
              "      <td>True</td>\n",
              "      <td>Acting</td>\n",
              "      <td>1</td>\n",
              "    </tr>\n",
              "    <tr>\n",
              "      <th>2</th>\n",
              "      <td>1927</td>\n",
              "      <td>1928</td>\n",
              "      <td>Louise Dresser</td>\n",
              "      <td>A Ship Comes In</td>\n",
              "      <td>False</td>\n",
              "      <td>Acting</td>\n",
              "      <td>0</td>\n",
              "    </tr>\n",
              "    <tr>\n",
              "      <th>3</th>\n",
              "      <td>1927</td>\n",
              "      <td>1928</td>\n",
              "      <td>Janet Gaynor</td>\n",
              "      <td>7th Heaven</td>\n",
              "      <td>True</td>\n",
              "      <td>Acting</td>\n",
              "      <td>3</td>\n",
              "    </tr>\n",
              "    <tr>\n",
              "      <th>4</th>\n",
              "      <td>1927</td>\n",
              "      <td>1928</td>\n",
              "      <td>Gloria Swanson</td>\n",
              "      <td>Sadie Thompson</td>\n",
              "      <td>False</td>\n",
              "      <td>Acting</td>\n",
              "      <td>0</td>\n",
              "    </tr>\n",
              "  </tbody>\n",
              "</table>\n",
              "</div>\n",
              "    <div class=\"colab-df-buttons\">\n",
              "\n",
              "  <div class=\"colab-df-container\">\n",
              "    <button class=\"colab-df-convert\" onclick=\"convertToInteractive('df-a7e1afdc-ea75-4f04-94db-82c2f57529e3')\"\n",
              "            title=\"Convert this dataframe to an interactive table.\"\n",
              "            style=\"display:none;\">\n",
              "\n",
              "  <svg xmlns=\"http://www.w3.org/2000/svg\" height=\"24px\" viewBox=\"0 -960 960 960\">\n",
              "    <path d=\"M120-120v-720h720v720H120Zm60-500h600v-160H180v160Zm220 220h160v-160H400v160Zm0 220h160v-160H400v160ZM180-400h160v-160H180v160Zm440 0h160v-160H620v160ZM180-180h160v-160H180v160Zm440 0h160v-160H620v160Z\"/>\n",
              "  </svg>\n",
              "    </button>\n",
              "\n",
              "  <style>\n",
              "    .colab-df-container {\n",
              "      display:flex;\n",
              "      gap: 12px;\n",
              "    }\n",
              "\n",
              "    .colab-df-convert {\n",
              "      background-color: #E8F0FE;\n",
              "      border: none;\n",
              "      border-radius: 50%;\n",
              "      cursor: pointer;\n",
              "      display: none;\n",
              "      fill: #1967D2;\n",
              "      height: 32px;\n",
              "      padding: 0 0 0 0;\n",
              "      width: 32px;\n",
              "    }\n",
              "\n",
              "    .colab-df-convert:hover {\n",
              "      background-color: #E2EBFA;\n",
              "      box-shadow: 0px 1px 2px rgba(60, 64, 67, 0.3), 0px 1px 3px 1px rgba(60, 64, 67, 0.15);\n",
              "      fill: #174EA6;\n",
              "    }\n",
              "\n",
              "    .colab-df-buttons div {\n",
              "      margin-bottom: 4px;\n",
              "    }\n",
              "\n",
              "    [theme=dark] .colab-df-convert {\n",
              "      background-color: #3B4455;\n",
              "      fill: #D2E3FC;\n",
              "    }\n",
              "\n",
              "    [theme=dark] .colab-df-convert:hover {\n",
              "      background-color: #434B5C;\n",
              "      box-shadow: 0px 1px 3px 1px rgba(0, 0, 0, 0.15);\n",
              "      filter: drop-shadow(0px 1px 2px rgba(0, 0, 0, 0.3));\n",
              "      fill: #FFFFFF;\n",
              "    }\n",
              "  </style>\n",
              "\n",
              "    <script>\n",
              "      const buttonEl =\n",
              "        document.querySelector('#df-a7e1afdc-ea75-4f04-94db-82c2f57529e3 button.colab-df-convert');\n",
              "      buttonEl.style.display =\n",
              "        google.colab.kernel.accessAllowed ? 'block' : 'none';\n",
              "\n",
              "      async function convertToInteractive(key) {\n",
              "        const element = document.querySelector('#df-a7e1afdc-ea75-4f04-94db-82c2f57529e3');\n",
              "        const dataTable =\n",
              "          await google.colab.kernel.invokeFunction('convertToInteractive',\n",
              "                                                    [key], {});\n",
              "        if (!dataTable) return;\n",
              "\n",
              "        const docLinkHtml = 'Like what you see? Visit the ' +\n",
              "          '<a target=\"_blank\" href=https://colab.research.google.com/notebooks/data_table.ipynb>data table notebook</a>'\n",
              "          + ' to learn more about interactive tables.';\n",
              "        element.innerHTML = '';\n",
              "        dataTable['output_type'] = 'display_data';\n",
              "        await google.colab.output.renderOutput(dataTable, element);\n",
              "        const docLink = document.createElement('div');\n",
              "        docLink.innerHTML = docLinkHtml;\n",
              "        element.appendChild(docLink);\n",
              "      }\n",
              "    </script>\n",
              "  </div>\n",
              "\n",
              "\n",
              "<div id=\"df-80fcae7c-56f6-4f45-9e3c-b7d9db2d4f1b\">\n",
              "  <button class=\"colab-df-quickchart\" onclick=\"quickchart('df-80fcae7c-56f6-4f45-9e3c-b7d9db2d4f1b')\"\n",
              "            title=\"Suggest charts\"\n",
              "            style=\"display:none;\">\n",
              "\n",
              "<svg xmlns=\"http://www.w3.org/2000/svg\" height=\"24px\"viewBox=\"0 0 24 24\"\n",
              "     width=\"24px\">\n",
              "    <g>\n",
              "        <path d=\"M19 3H5c-1.1 0-2 .9-2 2v14c0 1.1.9 2 2 2h14c1.1 0 2-.9 2-2V5c0-1.1-.9-2-2-2zM9 17H7v-7h2v7zm4 0h-2V7h2v10zm4 0h-2v-4h2v4z\"/>\n",
              "    </g>\n",
              "</svg>\n",
              "  </button>\n",
              "\n",
              "<style>\n",
              "  .colab-df-quickchart {\n",
              "      --bg-color: #E8F0FE;\n",
              "      --fill-color: #1967D2;\n",
              "      --hover-bg-color: #E2EBFA;\n",
              "      --hover-fill-color: #174EA6;\n",
              "      --disabled-fill-color: #AAA;\n",
              "      --disabled-bg-color: #DDD;\n",
              "  }\n",
              "\n",
              "  [theme=dark] .colab-df-quickchart {\n",
              "      --bg-color: #3B4455;\n",
              "      --fill-color: #D2E3FC;\n",
              "      --hover-bg-color: #434B5C;\n",
              "      --hover-fill-color: #FFFFFF;\n",
              "      --disabled-bg-color: #3B4455;\n",
              "      --disabled-fill-color: #666;\n",
              "  }\n",
              "\n",
              "  .colab-df-quickchart {\n",
              "    background-color: var(--bg-color);\n",
              "    border: none;\n",
              "    border-radius: 50%;\n",
              "    cursor: pointer;\n",
              "    display: none;\n",
              "    fill: var(--fill-color);\n",
              "    height: 32px;\n",
              "    padding: 0;\n",
              "    width: 32px;\n",
              "  }\n",
              "\n",
              "  .colab-df-quickchart:hover {\n",
              "    background-color: var(--hover-bg-color);\n",
              "    box-shadow: 0 1px 2px rgba(60, 64, 67, 0.3), 0 1px 3px 1px rgba(60, 64, 67, 0.15);\n",
              "    fill: var(--button-hover-fill-color);\n",
              "  }\n",
              "\n",
              "  .colab-df-quickchart-complete:disabled,\n",
              "  .colab-df-quickchart-complete:disabled:hover {\n",
              "    background-color: var(--disabled-bg-color);\n",
              "    fill: var(--disabled-fill-color);\n",
              "    box-shadow: none;\n",
              "  }\n",
              "\n",
              "  .colab-df-spinner {\n",
              "    border: 2px solid var(--fill-color);\n",
              "    border-color: transparent;\n",
              "    border-bottom-color: var(--fill-color);\n",
              "    animation:\n",
              "      spin 1s steps(1) infinite;\n",
              "  }\n",
              "\n",
              "  @keyframes spin {\n",
              "    0% {\n",
              "      border-color: transparent;\n",
              "      border-bottom-color: var(--fill-color);\n",
              "      border-left-color: var(--fill-color);\n",
              "    }\n",
              "    20% {\n",
              "      border-color: transparent;\n",
              "      border-left-color: var(--fill-color);\n",
              "      border-top-color: var(--fill-color);\n",
              "    }\n",
              "    30% {\n",
              "      border-color: transparent;\n",
              "      border-left-color: var(--fill-color);\n",
              "      border-top-color: var(--fill-color);\n",
              "      border-right-color: var(--fill-color);\n",
              "    }\n",
              "    40% {\n",
              "      border-color: transparent;\n",
              "      border-right-color: var(--fill-color);\n",
              "      border-top-color: var(--fill-color);\n",
              "    }\n",
              "    60% {\n",
              "      border-color: transparent;\n",
              "      border-right-color: var(--fill-color);\n",
              "    }\n",
              "    80% {\n",
              "      border-color: transparent;\n",
              "      border-right-color: var(--fill-color);\n",
              "      border-bottom-color: var(--fill-color);\n",
              "    }\n",
              "    90% {\n",
              "      border-color: transparent;\n",
              "      border-bottom-color: var(--fill-color);\n",
              "    }\n",
              "  }\n",
              "</style>\n",
              "\n",
              "  <script>\n",
              "    async function quickchart(key) {\n",
              "      const quickchartButtonEl =\n",
              "        document.querySelector('#' + key + ' button');\n",
              "      quickchartButtonEl.disabled = true;  // To prevent multiple clicks.\n",
              "      quickchartButtonEl.classList.add('colab-df-spinner');\n",
              "      try {\n",
              "        const charts = await google.colab.kernel.invokeFunction(\n",
              "            'suggestCharts', [key], {});\n",
              "      } catch (error) {\n",
              "        console.error('Error during call to suggestCharts:', error);\n",
              "      }\n",
              "      quickchartButtonEl.classList.remove('colab-df-spinner');\n",
              "      quickchartButtonEl.classList.add('colab-df-quickchart-complete');\n",
              "    }\n",
              "    (() => {\n",
              "      let quickchartButtonEl =\n",
              "        document.querySelector('#df-80fcae7c-56f6-4f45-9e3c-b7d9db2d4f1b button');\n",
              "      quickchartButtonEl.style.display =\n",
              "        google.colab.kernel.accessAllowed ? 'block' : 'none';\n",
              "    })();\n",
              "  </script>\n",
              "</div>\n",
              "\n",
              "    </div>\n",
              "  </div>\n"
            ],
            "application/vnd.google.colaboratory.intrinsic+json": {
              "type": "dataframe",
              "variable_name": "df",
              "summary": "{\n  \"name\": \"df\",\n  \"rows\": 10570,\n  \"fields\": [\n    {\n      \"column\": \"year_film\",\n      \"properties\": {\n        \"dtype\": \"number\",\n        \"std\": 27,\n        \"min\": 1927,\n        \"max\": 2023,\n        \"num_unique_values\": 96,\n        \"samples\": [\n          2008,\n          2005,\n          2001\n        ],\n        \"semantic_type\": \"\",\n        \"description\": \"\"\n      }\n    },\n    {\n      \"column\": \"year_ceremony\",\n      \"properties\": {\n        \"dtype\": \"number\",\n        \"std\": 27,\n        \"min\": 1928,\n        \"max\": 2024,\n        \"num_unique_values\": 96,\n        \"samples\": [\n          2009,\n          2006,\n          2002\n        ],\n        \"semantic_type\": \"\",\n        \"description\": \"\"\n      }\n    },\n    {\n      \"column\": \"nominee_name\",\n      \"properties\": {\n        \"dtype\": \"string\",\n        \"num_unique_values\": 6768,\n        \"samples\": [\n          \"Cedric Gibbons, William A. Horning\",\n          \"G\\u00edsli Darri Halld\\u00f3rsson and Arnar Gunnarsson\",\n          \"Busby Berkeley\"\n        ],\n        \"semantic_type\": \"\",\n        \"description\": \"\"\n      }\n    },\n    {\n      \"column\": \"film_title\",\n      \"properties\": {\n        \"dtype\": \"category\",\n        \"num_unique_values\": 5041,\n        \"samples\": [\n          \"Living\",\n          \"Wives and Lovers\",\n          \"First Steps\"\n        ],\n        \"semantic_type\": \"\",\n        \"description\": \"\"\n      }\n    },\n    {\n      \"column\": \"winner\",\n      \"properties\": {\n        \"dtype\": \"boolean\",\n        \"num_unique_values\": 2,\n        \"samples\": [\n          true,\n          false\n        ],\n        \"semantic_type\": \"\",\n        \"description\": \"\"\n      }\n    },\n    {\n      \"column\": \"category_type\",\n      \"properties\": {\n        \"dtype\": \"category\",\n        \"num_unique_values\": 4,\n        \"samples\": [\n          \"Technical/Other\",\n          \"Directing\"\n        ],\n        \"semantic_type\": \"\",\n        \"description\": \"\"\n      }\n    },\n    {\n      \"column\": \"total_awards_won\",\n      \"properties\": {\n        \"dtype\": \"number\",\n        \"std\": 1,\n        \"min\": 0,\n        \"max\": 12,\n        \"num_unique_values\": 12,\n        \"samples\": [\n          9,\n          12\n        ],\n        \"semantic_type\": \"\",\n        \"description\": \"\"\n      }\n    }\n  ]\n}"
            }
          },
          "metadata": {},
          "execution_count": 11
        }
      ],
      "source": [
        "# Calculate 'total_awards_won' by each movie as an integer, filling NaNs with 0\n",
        "df['total_awards_won'] = df.groupby('film_title')['winner'].transform('sum').fillna(0).astype(int)\n",
        "df.head()"
      ]
    },
    {
      "cell_type": "markdown",
      "metadata": {
        "id": "Lf91R1R5g3__"
      },
      "source": [
        "## Step 3: Check Satistics"
      ]
    },
    {
      "cell_type": "code",
      "execution_count": null,
      "metadata": {
        "colab": {
          "base_uri": "https://localhost:8080/",
          "height": 564
        },
        "id": "xWUXM27Lg3_6",
        "outputId": "d1aa8ae3-e5f5-413e-9bb3-426988625cad"
      },
      "outputs": [
        {
          "output_type": "display_data",
          "data": {
            "text/plain": [
              "<Figure size 1000x600 with 1 Axes>"
            ],
            "image/png": "[encoded data removed]"
          },
          "metadata": {}
        }
      ],
      "source": [
        "import matplotlib.pyplot as plt\n",
        "import seaborn as sns\n",
        "\n",
        "# Define the bins from 0 to 12 awards, inclusive\n",
        "bins = range(0, 13)  # Creates bins for each integer from 0 to 12\n",
        "\n",
        "# Plot the distribution using seaborn with the specified bins\n",
        "plt.figure(figsize=(10, 6))\n",
        "sns.histplot(df['total_awards_won'], bins=bins, discrete=True, kde=False)\n",
        "plt.title(\"Distribution of Total Awards Won by Films\")\n",
        "plt.xlabel(\"Total Awards Won\")\n",
        "plt.ylabel(\"Frequency\")\n",
        "plt.xticks(range(0, 13))  # Ensure x-axis labels are 0 through 12\n",
        "plt.show()"
      ]
    },
    {
      "cell_type": "code",
      "execution_count": null,
      "metadata": {
        "colab": {
          "base_uri": "https://localhost:8080/"
        },
        "id": "P2CTCIA7g3_7",
        "outputId": "9ffae66a-7712-4dad-e4f6-bfef14030418"
      },
      "outputs": [
        {
          "output_type": "stream",
          "name": "stdout",
          "text": [
            "Top 10 most awarded movies:\n",
            "                                         film_title  total_awards_won\n",
            "2780                                        Titanic                12\n",
            "3474                                        Ben-Hur                11\n",
            "3719                                West Side Story                11\n",
            "8366  The Lord of the Rings: The Return of the King                11\n",
            "6598                               The Last Emperor                 9\n",
            "7554                            The English Patient                 9\n",
            "3385                                           Gigi                 9\n",
            "6252                                        Amadeus                 8\n",
            "785                              Gone with the Wind                 8\n",
            "2758                          From Here to Eternity                 8\n"
          ]
        }
      ],
      "source": [
        "# Sort movies by 'total_awards_won' to get the top 10 most awarded films\n",
        "top_awarded_movies = df[['film_title', 'total_awards_won']].drop_duplicates().sort_values(by='total_awards_won', ascending=False).head(10)\n",
        "print(\"Top 10 most awarded movies:\")\n",
        "print(top_awarded_movies)"
      ]
    },
    {
      "cell_type": "code",
      "execution_count": null,
      "metadata": {
        "colab": {
          "base_uri": "https://localhost:8080/"
        },
        "id": "djyu20v5g3_8",
        "outputId": "4297041d-43d6-4123-f95d-8098313a202d"
      },
      "outputs": [
        {
          "output_type": "stream",
          "name": "stdout",
          "text": [
            "film_title                         year_film\n",
            "West Side Story                    2021         11\n",
            "Oppenheimer                        2023          7\n",
            "Everything Everywhere All at Once  2022          7\n",
            "Dune                               2021          6\n",
            "All Quiet on the Western Front     2022          6\n",
            "Poor Things                        2023          4\n",
            "Nomadland                          2020          3\n",
            "CODA                               2021          3\n",
            "Ma Rainey's Black Bottom           2020          2\n",
            "The Zone of Interest               2023          2\n",
            "Judas and the Black Messiah        2020          2\n",
            "The Whale                          2022          2\n",
            "Sound of Metal                     2020          2\n",
            "Soul                               2020          2\n",
            "Mank                               2020          2\n",
            "The Eyes of Tammy Faye             2021          2\n",
            "Pinocchio                          2020          2\n",
            "The Father                         2020          2\n",
            "Encanto                            2021          1\n",
            "Emma                               2020          1\n",
            "Name: total_awards_won, dtype: int64\n"
          ]
        }
      ],
      "source": [
        "# Filter for movies released in the last 20 years\n",
        "last_20_years = df[df['year_film'] >= 2020]\n",
        "\n",
        "# Calculate total awards won by each movie and include the release year\n",
        "top_awarded_movies_last_20_years = (\n",
        "    last_20_years.groupby(['film_title', 'year_film'])['total_awards_won']\n",
        "    .max()\n",
        "    .sort_values(ascending=False)\n",
        "    .head(20)\n",
        ")\n",
        "\n",
        "print(top_awarded_movies_last_20_years)\n"
      ]
    },
    {
      "cell_type": "code",
      "execution_count": null,
      "metadata": {
        "colab": {
          "base_uri": "https://localhost:8080/"
        },
        "id": "jSeZ10y0g3_9",
        "outputId": "282d2aae-e136-4fe8-d01c-aea70ba92b70"
      },
      "outputs": [
        {
          "output_type": "stream",
          "name": "stdout",
          "text": [
            "Potential outliers in awards count:\n",
            "Empty DataFrame\n",
            "Columns: [film_title, total_awards_won]\n",
            "Index: []\n"
          ]
        }
      ],
      "source": [
        "# Identify movies with unusually high awards counts\n",
        "outliers = df[df['total_awards_won'] > 15]  # Adjust threshold as necessary\n",
        "print(\"Potential outliers in awards count:\")\n",
        "print(outliers[['film_title', 'total_awards_won']])\n"
      ]
    },
    {
      "cell_type": "code",
      "execution_count": null,
      "metadata": {
        "colab": {
          "base_uri": "https://localhost:8080/"
        },
        "id": "c-1upbXvg3__",
        "outputId": "8962d0a3-5169-40f5-d1fd-1afab8faac8f"
      },
      "outputs": [
        {
          "output_type": "stream",
          "name": "stdout",
          "text": [
            "{'count': 10570, 'min': 1927, 'max': 2023, 'mean': 1976.7904446546831, 'mode': 1942, 'median': 1976.0, 'sd': 27.269582489337584}\n",
            "Number of null values in 'year_film': 0\n"
          ]
        }
      ],
      "source": [
        "# Descriptive statistics for the date column\n",
        "year_film_stats = {\n",
        "    'count': df['year_film'].count(),\n",
        "    'min': df['year_film'].min(),\n",
        "    'max': df['year_film'].max(),\n",
        "    'mean': df['year_film'].mean(),\n",
        "    'mode': df['year_film'].mode()[0],\n",
        "    'median': df['year_film'].median(),\n",
        "    'sd': df['year_film'].std(),\n",
        "}\n",
        "print(year_film_stats)\n",
        "\n",
        "# Count the number of null values in 'column1'\n",
        "null_count = df['year_film'].isnull().sum()\n",
        "print(f\"Number of null values in 'year_film': {null_count}\")"
      ]
    },
    {
      "cell_type": "code",
      "execution_count": null,
      "metadata": {
        "colab": {
          "base_uri": "https://localhost:8080/"
        },
        "id": "FnyBxZZXg4AB",
        "outputId": "9fe13b76-a247-42de-ffd1-74388d74dfb9"
      },
      "outputs": [
        {
          "output_type": "stream",
          "name": "stdout",
          "text": [
            "{'count': 10570, 'min': 1928, 'max': 2024, 'mean': 1977.7904446546831, 'mode': 1943, 'median': 1977.0, 'sd': 27.269582489337584}\n",
            "Number of null values in 'year_ceremony': 0\n"
          ]
        }
      ],
      "source": [
        "year_ceremony_stats = {\n",
        "    'count': df['year_ceremony'].count(),\n",
        "    'min': df['year_ceremony'].min(),\n",
        "    'max': df['year_ceremony'].max(),\n",
        "    'mean': df['year_ceremony'].mean(),\n",
        "    'mode': df['year_ceremony'].mode()[0],\n",
        "    'median': df['year_ceremony'].median(),\n",
        "    'sd': df['year_ceremony'].std(),\n",
        "}\n",
        "print(year_ceremony_stats)\n",
        "\n",
        "# Count the number of null values in 'column1'\n",
        "null_count = df['year_ceremony'].isnull().sum()\n",
        "print(f\"Number of null values in 'year_ceremony': {null_count}\")"
      ]
    },
    {
      "cell_type": "code",
      "execution_count": null,
      "metadata": {
        "colab": {
          "base_uri": "https://localhost:8080/"
        },
        "id": "P59focQqg4AC",
        "outputId": "f472dc30-a4d7-4892-9bce-0c4916f3f70c"
      },
      "outputs": [
        {
          "output_type": "stream",
          "name": "stdout",
          "text": [
            "Distinct count: 4\n",
            "['Acting' 'Technical/Other' 'Best Picture' 'Directing']\n",
            "Number of null values in 'nomination_category': 0\n"
          ]
        }
      ],
      "source": [
        "# Get distinct count\n",
        "distinct_count = df['category_type'].nunique()\n",
        "print(f\"Distinct count: {distinct_count}\")\n",
        "\n",
        "# Get distinct categories for the 'movie_genre' column\n",
        "distinct_genres = df['category_type'].unique()\n",
        "\n",
        "# Display the distinct genres\n",
        "print(distinct_genres)\n",
        "\n",
        "# Count the number of null values in 'column1'\n",
        "null_count = df['category_type'].isnull().sum()\n",
        "print(f\"Number of null values in 'nomination_category': {null_count}\")"
      ]
    },
    {
      "cell_type": "code",
      "execution_count": null,
      "metadata": {
        "colab": {
          "base_uri": "https://localhost:8080/"
        },
        "id": "FcMiRjyTg4AC",
        "outputId": "d3195e9a-f4ab-45b3-bd35-27f83a66d1fc"
      },
      "outputs": [
        {
          "output_type": "stream",
          "name": "stdout",
          "text": [
            "Number of null values in 'nominee_name': 0\n"
          ]
        }
      ],
      "source": [
        "# Count the number of null values in 'column1'\n",
        "null_count = df['nominee_name'].isnull().sum()\n",
        "print(f\"Number of null values in 'nominee_name': {null_count}\")"
      ]
    },
    {
      "cell_type": "code",
      "execution_count": null,
      "metadata": {
        "colab": {
          "base_uri": "https://localhost:8080/"
        },
        "id": "3xS703O1g4AD",
        "outputId": "9a0526b0-abc8-4421-8cf4-72660c579ef4"
      },
      "outputs": [
        {
          "output_type": "stream",
          "name": "stdout",
          "text": [
            "Number of null values in 'film_title': 0\n"
          ]
        }
      ],
      "source": [
        "# Count the number of null values in 'column1'\n",
        "null_count = df['film_title'].isnull().sum()\n",
        "print(f\"Number of null values in 'film_title': {null_count}\")"
      ]
    },
    {
      "cell_type": "code",
      "execution_count": null,
      "metadata": {
        "colab": {
          "base_uri": "https://localhost:8080/"
        },
        "id": "2a0B2XTUg4AE",
        "outputId": "e5b9ccab-5258-4373-9920-c11f3431f40c"
      },
      "outputs": [
        {
          "output_type": "stream",
          "name": "stdout",
          "text": [
            "Distinct count: 2\n",
            "[False  True]\n",
            "Number of null values in 'winner': 0\n"
          ]
        }
      ],
      "source": [
        "# Get distinct count\n",
        "distinct_count = df['winner'].nunique()\n",
        "print(f\"Distinct count: {distinct_count}\")\n",
        "\n",
        "# Get distinct categories for the 'movie_genre' column\n",
        "distinct_genres = df['winner'].unique()\n",
        "\n",
        "# Display the distinct genres\n",
        "print(distinct_genres)\n",
        "\n",
        "# Count the number of null values in 'column1'\n",
        "null_count = df['winner'].isnull().sum()\n",
        "print(f\"Number of null values in 'winner': {null_count}\")"
      ]
    },
    {
      "cell_type": "code",
      "execution_count": 25,
      "metadata": {
        "colab": {
          "base_uri": "https://localhost:8080/"
        },
        "id": "Uj13Nm-Dg4AF",
        "outputId": "c97f1214-85db-425d-d0f6-5e25a635ee3b"
      },
      "outputs": [
        {
          "output_type": "stream",
          "name": "stdout",
          "text": [
            "Dataset saved as oscar_awards.csv\n"
          ]
        }
      ],
      "source": [
        "# Save the updated DataFrame to a CSV file\n",
        "df.to_csv('/content/drive/MyDrive/Colab Notebooks/BT4222/oscar_awards.csv', index=False)\n",
        "\n",
        "# Display a message confirming the save\n",
        "print(\"Dataset saved as oscar_awards.csv\")"
      ]
    },
    {
      "cell_type": "code",
      "execution_count": 26,
      "metadata": {
        "colab": {
          "base_uri": "https://localhost:8080/",
          "height": 540
        },
        "id": "_WMwjuABg4AJ",
        "outputId": "7822fc83-2398-467d-ff15-c031e74fe7ff"
      },
      "outputs": [
        {
          "output_type": "stream",
          "name": "stdout",
          "text": [
            "   year_film  year_ceremony         nominee_name        film_title  winner  \\\n",
            "0       1927           1928  Richard Barthelmess         The Noose   False   \n",
            "1       1927           1928        Emil Jannings  The Last Command    True   \n",
            "2       1927           1928       Louise Dresser   A Ship Comes In   False   \n",
            "3       1927           1928         Janet Gaynor        7th Heaven    True   \n",
            "4       1927           1928       Gloria Swanson    Sadie Thompson   False   \n",
            "\n",
            "  category_type  total_awards_won  \n",
            "0        Acting                 0  \n",
            "1        Acting                 1  \n",
            "2        Acting                 0  \n",
            "3        Acting                 3  \n",
            "4        Acting                 0  \n"
          ]
        },
        {
          "output_type": "execute_result",
          "data": {
            "text/plain": [
              "year_film           0\n",
              "year_ceremony       0\n",
              "nominee_name        0\n",
              "film_title          0\n",
              "winner              0\n",
              "category_type       0\n",
              "total_awards_won    0\n",
              "dtype: int64"
            ],
            "text/html": [
              "<div>\n",
              "<style scoped>\n",
              "    .dataframe tbody tr th:only-of-type {\n",
              "        vertical-align: middle;\n",
              "    }\n",
              "\n",
              "    .dataframe tbody tr th {\n",
              "        vertical-align: top;\n",
              "    }\n",
              "\n",
              "    .dataframe thead th {\n",
              "        text-align: right;\n",
              "    }\n",
              "</style>\n",
              "<table border=\"1\" class=\"dataframe\">\n",
              "  <thead>\n",
              "    <tr style=\"text-align: right;\">\n",
              "      <th></th>\n",
              "      <th>0</th>\n",
              "    </tr>\n",
              "  </thead>\n",
              "  <tbody>\n",
              "    <tr>\n",
              "      <th>year_film</th>\n",
              "      <td>0</td>\n",
              "    </tr>\n",
              "    <tr>\n",
              "      <th>year_ceremony</th>\n",
              "      <td>0</td>\n",
              "    </tr>\n",
              "    <tr>\n",
              "      <th>nominee_name</th>\n",
              "      <td>0</td>\n",
              "    </tr>\n",
              "    <tr>\n",
              "      <th>film_title</th>\n",
              "      <td>0</td>\n",
              "    </tr>\n",
              "    <tr>\n",
              "      <th>winner</th>\n",
              "      <td>0</td>\n",
              "    </tr>\n",
              "    <tr>\n",
              "      <th>category_type</th>\n",
              "      <td>0</td>\n",
              "    </tr>\n",
              "    <tr>\n",
              "      <th>total_awards_won</th>\n",
              "      <td>0</td>\n",
              "    </tr>\n",
              "  </tbody>\n",
              "</table>\n",
              "</div><br><label><b>dtype:</b> int64</label>"
            ]
          },
          "metadata": {},
          "execution_count": 26
        }
      ],
      "source": [
        "# Read the CSV file\n",
        "df = pd.read_csv('/content/drive/MyDrive/Colab Notebooks/BT4222/oscar_awards.csv')\n",
        "\n",
        "# Display the first few rows of the dataframe\n",
        "print(df.head())\n",
        "\n",
        "df.isna().sum()"
      ]
    }
  ],
  "metadata": {
    "kernelspec": {
      "display_name": "Python 3",
      "language": "python",
      "name": "python3"
    },
    "language_info": {
      "codemirror_mode": {
        "name": "ipython",
        "version": 3
      },
      "file_extension": ".py",
      "mimetype": "text/x-python",
      "name": "python",
      "nbconvert_exporter": "python",
      "pygments_lexer": "ipython3",
      "version": "3.10.0"
    },
    "colab": {
      "provenance": [],
      "toc_visible": true
    }
  },
  "nbformat": 4,
  "nbformat_minor": 0
}

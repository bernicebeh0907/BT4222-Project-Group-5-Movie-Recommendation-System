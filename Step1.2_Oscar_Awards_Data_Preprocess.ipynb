{
 "cells": [
  {
   "cell_type": "markdown",
   "metadata": {},
   "source": [
    "# Data Pre-process for Oscar Awards"
   ]
  },
  {
   "cell_type": "markdown",
   "metadata": {},
   "source": [
    "## Import Packages"
   ]
  },
  {
   "cell_type": "code",
   "execution_count": 6,
   "metadata": {},
   "outputs": [],
   "source": [
    "import pandas as pd"
   ]
  },
  {
   "cell_type": "code",
   "execution_count": null,
   "metadata": {},
   "outputs": [],
   "source": []
  },
  {
   "cell_type": "code",
   "execution_count": null,
   "metadata": {},
   "outputs": [],
   "source": []
  },
  {
   "cell_type": "markdown",
   "metadata": {},
   "source": [
    "## Step 1: Data Cleaning\n",
    "\n",
    "- Rename column names to be more descriptive\n",
    "\n",
    "- Change data type\n",
    "\n",
    "- Drop unnecessary columns\n",
    "\n",
    "- Drop duplicates\n",
    "\n",
    "- Group awards categories "
   ]
  },
  {
   "cell_type": "code",
   "execution_count": 30,
   "metadata": {},
   "outputs": [
    {
     "name": "stdout",
     "output_type": "stream",
     "text": [
      "   year_film  year_ceremony  ceremony category                 name  \\\n",
      "0       1927           1928         1    ACTOR  Richard Barthelmess   \n",
      "1       1927           1928         1    ACTOR        Emil Jannings   \n",
      "2       1927           1928         1  ACTRESS       Louise Dresser   \n",
      "3       1927           1928         1  ACTRESS         Janet Gaynor   \n",
      "4       1927           1928         1  ACTRESS       Gloria Swanson   \n",
      "\n",
      "               film  winner  \n",
      "0         The Noose   False  \n",
      "1  The Last Command    True  \n",
      "2   A Ship Comes In   False  \n",
      "3        7th Heaven    True  \n",
      "4    Sadie Thompson   False  \n"
     ]
    }
   ],
   "source": [
    "# Read the CSV file\n",
    "df = pd.read_csv('the_oscar_award.csv')\n",
    "\n",
    "# Display the first few rows of the dataframe\n",
    "print(df.head())"
   ]
  },
  {
   "cell_type": "code",
   "execution_count": 31,
   "metadata": {},
   "outputs": [
    {
     "name": "stdout",
     "output_type": "stream",
     "text": [
      "<class 'pandas.core.frame.DataFrame'>\n",
      "RangeIndex: 10889 entries, 0 to 10888\n",
      "Data columns (total 7 columns):\n",
      " #   Column         Non-Null Count  Dtype \n",
      "---  ------         --------------  ----- \n",
      " 0   year_film      10889 non-null  int64 \n",
      " 1   year_ceremony  10889 non-null  int64 \n",
      " 2   ceremony       10889 non-null  int64 \n",
      " 3   category       10889 non-null  object\n",
      " 4   name           10884 non-null  object\n",
      " 5   film           10570 non-null  object\n",
      " 6   winner         10889 non-null  bool  \n",
      "dtypes: bool(1), int64(3), object(3)\n",
      "memory usage: 521.2+ KB\n"
     ]
    }
   ],
   "source": [
    "df.info()"
   ]
  },
  {
   "cell_type": "code",
   "execution_count": 32,
   "metadata": {},
   "outputs": [],
   "source": [
    "# Renaming the columns\n",
    "df = df.rename(columns={'category': 'nomination_category'})\n",
    "df = df.rename(columns={'name': 'nominee_name'})\n",
    "df = df.rename(columns={'film': 'film_title'})\n",
    "\n",
    "df['nominee_name'] = df['nominee_name'].astype(str)\n",
    "df['film_title'] = df['film_title'].astype(str)\n",
    "\n",
    "# Dropping columns\n",
    "df = df.drop(columns=['ceremony'])"
   ]
  },
  {
   "cell_type": "code",
   "execution_count": 33,
   "metadata": {},
   "outputs": [],
   "source": [
    "# Broad category grouping with case insensitivity\n",
    "def categorize_award(category):\n",
    "    category = category.lower()  # Convert to lowercase for case-insensitive matching\n",
    "    if 'actor' in category or 'actress' in category:\n",
    "        return 'Acting'\n",
    "    elif 'director' in category:\n",
    "        return 'Directing'\n",
    "    elif 'picture' in category:\n",
    "        return 'Best Picture'\n",
    "    else:\n",
    "        return 'Technical/Other'\n",
    "\n",
    "df['category_type'] = df['nomination_category'].apply(categorize_award)\n",
    "df = df.drop(columns=['nomination_category'])"
   ]
  },
  {
   "cell_type": "code",
   "execution_count": 34,
   "metadata": {},
   "outputs": [
    {
     "name": "stdout",
     "output_type": "stream",
     "text": [
      "<class 'pandas.core.frame.DataFrame'>\n",
      "RangeIndex: 10889 entries, 0 to 10888\n",
      "Data columns (total 6 columns):\n",
      " #   Column         Non-Null Count  Dtype \n",
      "---  ------         --------------  ----- \n",
      " 0   year_film      10889 non-null  int64 \n",
      " 1   year_ceremony  10889 non-null  int64 \n",
      " 2   nominee_name   10889 non-null  object\n",
      " 3   film_title     10889 non-null  object\n",
      " 4   winner         10889 non-null  bool  \n",
      " 5   category_type  10889 non-null  object\n",
      "dtypes: bool(1), int64(2), object(3)\n",
      "memory usage: 436.1+ KB\n"
     ]
    }
   ],
   "source": [
    "df.info()"
   ]
  },
  {
   "cell_type": "markdown",
   "metadata": {},
   "source": [
    "## Step 2: Check Satistics"
   ]
  },
  {
   "cell_type": "code",
   "execution_count": 35,
   "metadata": {},
   "outputs": [
    {
     "name": "stdout",
     "output_type": "stream",
     "text": [
      "{'count': 10889, 'min': 1927, 'max': 2023, 'mean': 1976.6085958306548, 'mode': 1942, 'median': 1976.0, 'sd': 27.35826113240151}\n",
      "Number of null values in 'year_film': 0\n"
     ]
    }
   ],
   "source": [
    "# Descriptive statistics for the date column\n",
    "year_film_stats = {\n",
    "    'count': df['year_film'].count(),\n",
    "    'min': df['year_film'].min(),\n",
    "    'max': df['year_film'].max(),\n",
    "    'mean': df['year_film'].mean(),\n",
    "    'mode': df['year_film'].mode()[0],\n",
    "    'median': df['year_film'].median(),\n",
    "    'sd': df['year_film'].std(),\n",
    "}\n",
    "print(year_film_stats)\n",
    "\n",
    "# Count the number of null values in 'column1'\n",
    "null_count = df['year_film'].isnull().sum()\n",
    "print(f\"Number of null values in 'year_film': {null_count}\")"
   ]
  },
  {
   "cell_type": "code",
   "execution_count": 36,
   "metadata": {},
   "outputs": [
    {
     "name": "stdout",
     "output_type": "stream",
     "text": [
      "{'count': 10889, 'min': 1928, 'max': 2024, 'mean': 1977.6085958306548, 'mode': 1943, 'median': 1977.0, 'sd': 27.35826113240151}\n",
      "Number of null values in 'year_ceremony': 0\n"
     ]
    }
   ],
   "source": [
    "year_ceremony_stats = {\n",
    "    'count': df['year_ceremony'].count(),\n",
    "    'min': df['year_ceremony'].min(),\n",
    "    'max': df['year_ceremony'].max(),\n",
    "    'mean': df['year_ceremony'].mean(),\n",
    "    'mode': df['year_ceremony'].mode()[0],\n",
    "    'median': df['year_ceremony'].median(),\n",
    "    'sd': df['year_ceremony'].std(),\n",
    "}\n",
    "print(year_ceremony_stats)\n",
    "\n",
    "# Count the number of null values in 'column1'\n",
    "null_count = df['year_ceremony'].isnull().sum()\n",
    "print(f\"Number of null values in 'year_ceremony': {null_count}\")"
   ]
  },
  {
   "cell_type": "code",
   "execution_count": 37,
   "metadata": {},
   "outputs": [
    {
     "name": "stdout",
     "output_type": "stream",
     "text": [
      "Distinct count: 4\n",
      "['Acting' 'Technical/Other' 'Best Picture' 'Directing']\n",
      "Number of null values in 'nomination_category': 0\n"
     ]
    }
   ],
   "source": [
    "# Get distinct count\n",
    "distinct_count = df['category_type'].nunique()\n",
    "print(f\"Distinct count: {distinct_count}\") \n",
    "\n",
    "# Get distinct categories for the 'movie_genre' column\n",
    "distinct_genres = df['category_type'].unique()\n",
    "\n",
    "# Display the distinct genres\n",
    "print(distinct_genres)\n",
    "\n",
    "# Count the number of null values in 'column1'\n",
    "null_count = df['category_type'].isnull().sum()\n",
    "print(f\"Number of null values in 'nomination_category': {null_count}\")"
   ]
  },
  {
   "cell_type": "code",
   "execution_count": 38,
   "metadata": {},
   "outputs": [
    {
     "name": "stdout",
     "output_type": "stream",
     "text": [
      "Number of null values in 'nominee_name': 0\n"
     ]
    }
   ],
   "source": [
    "# Count the number of null values in 'column1'\n",
    "null_count = df['nominee_name'].isnull().sum()\n",
    "print(f\"Number of null values in 'nominee_name': {null_count}\")"
   ]
  },
  {
   "cell_type": "code",
   "execution_count": 39,
   "metadata": {},
   "outputs": [
    {
     "name": "stdout",
     "output_type": "stream",
     "text": [
      "Number of null values in 'film_title': 0\n"
     ]
    }
   ],
   "source": [
    "# Count the number of null values in 'column1'\n",
    "null_count = df['film_title'].isnull().sum()\n",
    "print(f\"Number of null values in 'film_title': {null_count}\")"
   ]
  },
  {
   "cell_type": "code",
   "execution_count": 40,
   "metadata": {},
   "outputs": [
    {
     "name": "stdout",
     "output_type": "stream",
     "text": [
      "Distinct count: 2\n",
      "[False  True]\n",
      "Number of null values in 'winner': 0\n"
     ]
    }
   ],
   "source": [
    "# Get distinct count\n",
    "distinct_count = df['winner'].nunique()\n",
    "print(f\"Distinct count: {distinct_count}\") \n",
    "\n",
    "# Get distinct categories for the 'movie_genre' column\n",
    "distinct_genres = df['winner'].unique()\n",
    "\n",
    "# Display the distinct genres\n",
    "print(distinct_genres)\n",
    "\n",
    "# Count the number of null values in 'column1'\n",
    "null_count = df['winner'].isnull().sum()\n",
    "print(f\"Number of null values in 'winner': {null_count}\")"
   ]
  },
  {
   "cell_type": "code",
   "execution_count": 42,
   "metadata": {},
   "outputs": [
    {
     "name": "stdout",
     "output_type": "stream",
     "text": [
      "Dataset saved as Oscar_Awards_CLEAN.csv\n"
     ]
    }
   ],
   "source": [
    "# Save the updated DataFrame to a CSV file\n",
    "df.to_csv('Oscar_Awards_CLEAN.csv', index=False)\n",
    "\n",
    "# Display a message confirming the save\n",
    "print(\"Dataset saved as Oscar_Awards_CLEAN.csv\")"
   ]
  }
 ],
 "metadata": {
  "kernelspec": {
   "display_name": "Python 3",
   "language": "python",
   "name": "python3"
  },
  "language_info": {
   "codemirror_mode": {
    "name": "ipython",
    "version": 3
   },
   "file_extension": ".py",
   "mimetype": "text/x-python",
   "name": "python",
   "nbconvert_exporter": "python",
   "pygments_lexer": "ipython3",
   "version": "3.10.0"
  }
 },
 "nbformat": 4,
 "nbformat_minor": 2
}

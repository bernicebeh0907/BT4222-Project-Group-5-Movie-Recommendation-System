{
 "cells": [
  {
   "cell_type": "code",
   "execution_count": 1,
   "metadata": {},
   "outputs": [
    {
     "name": "stdout",
     "output_type": "stream",
     "text": [
      "   year_film  year_ceremony  ceremony category                 name  \\\n",
      "0       1927           1928         1    ACTOR  Richard Barthelmess   \n",
      "1       1927           1928         1    ACTOR        Emil Jannings   \n",
      "2       1927           1928         1  ACTRESS       Louise Dresser   \n",
      "3       1927           1928         1  ACTRESS         Janet Gaynor   \n",
      "4       1927           1928         1  ACTRESS       Gloria Swanson   \n",
      "\n",
      "               film  winner  \n",
      "0         The Noose   False  \n",
      "1  The Last Command    True  \n",
      "2   A Ship Comes In   False  \n",
      "3        7th Heaven    True  \n",
      "4    Sadie Thompson   False  \n"
     ]
    }
   ],
   "source": [
    "import pandas as pd\n",
    "\n",
    "# Read the CSV file\n",
    "df = pd.read_csv('the_oscar_award.csv')\n",
    "\n",
    "# Display the first few rows of the dataframe\n",
    "print(df.head())\n"
   ]
  },
  {
   "cell_type": "code",
   "execution_count": 2,
   "metadata": {},
   "outputs": [
    {
     "name": "stdout",
     "output_type": "stream",
     "text": [
      "<class 'pandas.core.frame.DataFrame'>\n",
      "RangeIndex: 10889 entries, 0 to 10888\n",
      "Data columns (total 7 columns):\n",
      " #   Column         Non-Null Count  Dtype \n",
      "---  ------         --------------  ----- \n",
      " 0   year_film      10889 non-null  int64 \n",
      " 1   year_ceremony  10889 non-null  int64 \n",
      " 2   ceremony       10889 non-null  int64 \n",
      " 3   category       10889 non-null  object\n",
      " 4   name           10884 non-null  object\n",
      " 5   film           10570 non-null  object\n",
      " 6   winner         10889 non-null  bool  \n",
      "dtypes: bool(1), int64(3), object(3)\n",
      "memory usage: 521.2+ KB\n"
     ]
    }
   ],
   "source": [
    "df.info()"
   ]
  },
  {
   "cell_type": "code",
   "execution_count": 3,
   "metadata": {},
   "outputs": [],
   "source": [
    "# Renaming the columns\n",
    "df = df.rename(columns={'category': 'nomination_category'})\n",
    "df = df.rename(columns={'name': 'nominee_name'})\n",
    "df = df.rename(columns={'film': 'film_title'})\n",
    "\n",
    "df['nominee_name'] = df['nominee_name'].astype(str)\n",
    "df['film_title'] = df['film_title'].astype(str)\n",
    "\n",
    "# Dropping columns\n",
    "df = df.drop(columns=['ceremony'])"
   ]
  },
  {
   "cell_type": "code",
   "execution_count": 4,
   "metadata": {},
   "outputs": [
    {
     "name": "stdout",
     "output_type": "stream",
     "text": [
      "<class 'pandas.core.frame.DataFrame'>\n",
      "RangeIndex: 10889 entries, 0 to 10888\n",
      "Data columns (total 6 columns):\n",
      " #   Column               Non-Null Count  Dtype \n",
      "---  ------               --------------  ----- \n",
      " 0   year_film            10889 non-null  int64 \n",
      " 1   year_ceremony        10889 non-null  int64 \n",
      " 2   nomination_category  10889 non-null  object\n",
      " 3   nominee_name         10889 non-null  object\n",
      " 4   film_title           10889 non-null  object\n",
      " 5   winner               10889 non-null  bool  \n",
      "dtypes: bool(1), int64(2), object(3)\n",
      "memory usage: 436.1+ KB\n"
     ]
    }
   ],
   "source": [
    "df.info()"
   ]
  },
  {
   "cell_type": "code",
   "execution_count": 11,
   "metadata": {},
   "outputs": [
    {
     "name": "stdout",
     "output_type": "stream",
     "text": [
      "{'count': 10889, 'min': 1927, 'max': 2023, 'mean': 1976.6085958306548, 'mode': 1942, 'median': 1976.0, 'sd': 27.35826113240151}\n",
      "Number of null values in 'year_film': 0\n"
     ]
    }
   ],
   "source": [
    "# Descriptive statistics for the date column\n",
    "year_film_stats = {\n",
    "    'count': df['year_film'].count(),\n",
    "    'min': df['year_film'].min(),\n",
    "    'max': df['year_film'].max(),\n",
    "    'mean': df['year_film'].mean(),\n",
    "    'mode': df['year_film'].mode()[0],\n",
    "    'median': df['year_film'].median(),\n",
    "    'sd': df['year_film'].std(),\n",
    "}\n",
    "print(year_film_stats)\n",
    "\n",
    "# Count the number of null values in 'column1'\n",
    "null_count = df['year_film'].isnull().sum()\n",
    "print(f\"Number of null values in 'year_film': {null_count}\")"
   ]
  },
  {
   "cell_type": "code",
   "execution_count": 9,
   "metadata": {},
   "outputs": [
    {
     "name": "stdout",
     "output_type": "stream",
     "text": [
      "{'count': 10889, 'min': 1928, 'max': 2024, 'mean': 1977.6085958306548, 'mode': 1943, 'median': 1977.0, 'sd': 27.35826113240151}\n",
      "Number of null values in 'year_ceremony': 0\n"
     ]
    }
   ],
   "source": [
    "year_ceremony_stats = {\n",
    "    'count': df['year_ceremony'].count(),\n",
    "    'min': df['year_ceremony'].min(),\n",
    "    'max': df['year_ceremony'].max(),\n",
    "    'mean': df['year_ceremony'].mean(),\n",
    "    'mode': df['year_ceremony'].mode()[0],\n",
    "    'median': df['year_ceremony'].median(),\n",
    "    'sd': df['year_ceremony'].std(),\n",
    "}\n",
    "print(year_ceremony_stats)\n",
    "\n",
    "# Count the number of null values in 'column1'\n",
    "null_count = df['year_ceremony'].isnull().sum()\n",
    "print(f\"Number of null values in 'year_ceremony': {null_count}\")"
   ]
  },
  {
   "cell_type": "code",
   "execution_count": 10,
   "metadata": {},
   "outputs": [
    {
     "name": "stdout",
     "output_type": "stream",
     "text": [
      "Distinct count: 115\n",
      "['ACTOR' 'ACTRESS' 'ART DIRECTION' 'CINEMATOGRAPHY'\n",
      " 'DIRECTING (Comedy Picture)' 'DIRECTING (Dramatic Picture)'\n",
      " 'ENGINEERING EFFECTS' 'OUTSTANDING PICTURE' 'UNIQUE AND ARTISTIC PICTURE'\n",
      " 'WRITING (Adaptation)' 'WRITING (Original Story)'\n",
      " 'WRITING (Title Writing)' 'SPECIAL AWARD' 'DIRECTING' 'WRITING'\n",
      " 'OUTSTANDING PRODUCTION' 'SOUND RECORDING' 'SHORT SUBJECT (Cartoon)'\n",
      " 'SHORT SUBJECT (Comedy)' 'SHORT SUBJECT (Novelty)' 'ASSISTANT DIRECTOR'\n",
      " 'FILM EDITING' 'MUSIC (Scoring)' 'MUSIC (Song)' 'DANCE DIRECTION'\n",
      " 'WRITING (Screenplay)' 'ACTOR IN A SUPPORTING ROLE'\n",
      " 'ACTRESS IN A SUPPORTING ROLE' 'SHORT SUBJECT (Color)'\n",
      " 'SHORT SUBJECT (One-reel)' 'SHORT SUBJECT (Two-reel)'\n",
      " 'IRVING G. THALBERG MEMORIAL AWARD' 'MUSIC (Original Score)'\n",
      " 'CINEMATOGRAPHY (Black-and-White)' 'CINEMATOGRAPHY (Color)'\n",
      " 'SPECIAL EFFECTS' 'ART DIRECTION (Black-and-White)'\n",
      " 'ART DIRECTION (Color)' 'WRITING (Original Screenplay)'\n",
      " 'DOCUMENTARY (Short Subject)' 'MUSIC (Music Score of a Dramatic Picture)'\n",
      " 'MUSIC (Scoring of a Musical Picture)' 'OUTSTANDING MOTION PICTURE'\n",
      " 'DOCUMENTARY' 'MUSIC (Music Score of a Dramatic or Comedy Picture)'\n",
      " 'WRITING (Original Motion Picture Story)' 'DOCUMENTARY (Feature)'\n",
      " 'BEST MOTION PICTURE' 'WRITING (Motion Picture Story)'\n",
      " 'COSTUME DESIGN (Black-and-White)' 'COSTUME DESIGN (Color)'\n",
      " 'SPECIAL FOREIGN LANGUAGE FILM AWARD' 'WRITING (Story and Screenplay)'\n",
      " 'HONORARY FOREIGN LANGUAGE FILM AWARD' 'HONORARY AWARD'\n",
      " 'FOREIGN LANGUAGE FILM' 'WRITING (Screenplay--Adapted)'\n",
      " 'WRITING (Screenplay--Original)' 'JEAN HERSHOLT HUMANITARIAN AWARD'\n",
      " 'COSTUME DESIGN' 'SHORT SUBJECT (Live Action)'\n",
      " 'WRITING (Screenplay--based on material from another medium)'\n",
      " 'WRITING (Story and Screenplay--written directly for the screen)' 'SOUND'\n",
      " 'MUSIC (Music Score--substantially original)'\n",
      " 'MUSIC (Scoring of Music--adaptation or treatment)' 'BEST PICTURE'\n",
      " 'SOUND EFFECTS' 'SPECIAL VISUAL EFFECTS' 'MUSIC (Original Music Score)'\n",
      " 'MUSIC (Original Score--for a motion picture [not a musical])'\n",
      " 'MUSIC (Score of a Musical Picture--original or adaptation)'\n",
      " 'MUSIC (Song--Original for the Picture)'\n",
      " 'WRITING (Story and Screenplay--based on material not previously published or produced)'\n",
      " 'MUSIC (Original Song Score)'\n",
      " 'WRITING (Story and Screenplay--based on factual material or material not previously published or produced)'\n",
      " 'MUSIC (Original Dramatic Score)'\n",
      " 'MUSIC (Scoring: Adaptation and Original Song Score)'\n",
      " 'SHORT SUBJECT (Animated)' 'SPECIAL ACHIEVEMENT AWARD (Visual Effects)'\n",
      " 'MUSIC (Scoring: Original Song Score and Adaptation -or- Scoring: Adaptation)'\n",
      " 'SHORT FILM (Animated)' 'SHORT FILM (Live Action)'\n",
      " 'WRITING (Screenplay Adapted from Other Material)'\n",
      " 'MUSIC (Original Song)' 'SPECIAL ACHIEVEMENT AWARD (Sound Effects)'\n",
      " 'ACTOR IN A LEADING ROLE' 'ACTRESS IN A LEADING ROLE'\n",
      " 'MUSIC (Original Song Score and Its Adaptation or Adaptation Score)'\n",
      " 'WRITING (Screenplay Written Directly for the Screen--based on factual material or on story material not previously published or produced)'\n",
      " 'VISUAL EFFECTS' 'SPECIAL ACHIEVEMENT AWARD'\n",
      " 'SPECIAL ACHIEVEMENT AWARD (Sound Effects Editing)'\n",
      " 'MUSIC (Adaptation Score)'\n",
      " 'WRITING (Screenplay Based on Material from Another Medium)'\n",
      " 'WRITING (Screenplay Written Directly for the Screen)'\n",
      " 'MUSIC (Original Song Score and Its Adaptation -or- Adaptation Score)'\n",
      " 'SPECIAL ACHIEVEMENT AWARD (Sound Editing)'\n",
      " 'SHORT FILM (Dramatic Live Action)' 'MAKEUP' 'SOUND EFFECTS EDITING'\n",
      " 'MUSIC (Original Song Score or Adaptation Score)'\n",
      " 'WRITING (Screenplay Based on Material Previously Produced or Published)'\n",
      " 'MUSIC (Original Musical or Comedy Score)' 'SOUND EDITING'\n",
      " 'ANIMATED FEATURE FILM' 'WRITING (Adapted Screenplay)' 'SOUND MIXING'\n",
      " 'MAKEUP AND HAIRSTYLING' 'PRODUCTION DESIGN' 'INTERNATIONAL FEATURE FILM'\n",
      " 'DOCUMENTARY FEATURE FILM' 'DOCUMENTARY SHORT FILM'\n",
      " 'GORDON E. SAWYER AWARD' 'AWARD OF COMMENDATION']\n",
      "Number of null values in 'nomination_category': 0\n"
     ]
    }
   ],
   "source": [
    "# Get distinct count\n",
    "distinct_count = df['nomination_category'].nunique()\n",
    "print(f\"Distinct count: {distinct_count}\") \n",
    "\n",
    "# Get distinct categories for the 'movie_genre' column\n",
    "distinct_genres = df['nomination_category'].unique()\n",
    "\n",
    "# Display the distinct genres\n",
    "print(distinct_genres)\n",
    "\n",
    "# Count the number of null values in 'column1'\n",
    "null_count = df['nomination_category'].isnull().sum()\n",
    "print(f\"Number of null values in 'nomination_category': {null_count}\")"
   ]
  },
  {
   "cell_type": "code",
   "execution_count": 12,
   "metadata": {},
   "outputs": [
    {
     "name": "stdout",
     "output_type": "stream",
     "text": [
      "Distinct count: 7040\n",
      "['Richard Barthelmess' 'Emil Jannings' 'Louise Dresser' ...\n",
      " 'To Angela Bassett, who has inspired audiences around the world with her powerful and fearless performances.'\n",
      " 'To Mel Brooks, for his comedic brilliance, producing acumen and expansive body of work.'\n",
      " 'To Carol Littleton, whose commitment to her craft has significantly elevated the art of film editing.']\n",
      "Number of null values in 'nominee_name': 0\n"
     ]
    }
   ],
   "source": [
    "# Get distinct count\n",
    "distinct_count = df['nominee_name'].nunique()\n",
    "print(f\"Distinct count: {distinct_count}\") \n",
    "\n",
    "# Get distinct categories for the 'movie_genre' column\n",
    "distinct_genres = df['nominee_name'].unique()\n",
    "\n",
    "# Display the distinct genres\n",
    "print(distinct_genres)\n",
    "\n",
    "# Count the number of null values in 'column1'\n",
    "null_count = df['nominee_name'].isnull().sum()\n",
    "print(f\"Number of null values in 'nominee_name': {null_count}\")"
   ]
  },
  {
   "cell_type": "code",
   "execution_count": 13,
   "metadata": {},
   "outputs": [
    {
     "name": "stdout",
     "output_type": "stream",
     "text": [
      "Distinct count: 5042\n",
      "['The Noose' 'The Last Command' 'A Ship Comes In' ... 'Godzilla Minus One'\n",
      " 'Guardians of the Galaxy Vol. 3' 'May December']\n",
      "Number of null values in 'film_title': 0\n"
     ]
    }
   ],
   "source": [
    "# Get distinct count\n",
    "distinct_count = df['film_title'].nunique()\n",
    "print(f\"Distinct count: {distinct_count}\") \n",
    "\n",
    "# Get distinct categories for the 'movie_genre' column\n",
    "distinct_genres = df['film_title'].unique()\n",
    "\n",
    "# Display the distinct genres\n",
    "print(distinct_genres)\n",
    "\n",
    "# Count the number of null values in 'column1'\n",
    "null_count = df['film_title'].isnull().sum()\n",
    "print(f\"Number of null values in 'film_title': {null_count}\")"
   ]
  },
  {
   "cell_type": "code",
   "execution_count": 14,
   "metadata": {},
   "outputs": [
    {
     "name": "stdout",
     "output_type": "stream",
     "text": [
      "Distinct count: 2\n",
      "[False  True]\n",
      "Number of null values in 'winner': 0\n"
     ]
    }
   ],
   "source": [
    "# Get distinct count\n",
    "distinct_count = df['winner'].nunique()\n",
    "print(f\"Distinct count: {distinct_count}\") \n",
    "\n",
    "# Get distinct categories for the 'movie_genre' column\n",
    "distinct_genres = df['winner'].unique()\n",
    "\n",
    "# Display the distinct genres\n",
    "print(distinct_genres)\n",
    "\n",
    "# Count the number of null values in 'column1'\n",
    "null_count = df['winner'].isnull().sum()\n",
    "print(f\"Number of null values in 'winner': {null_count}\")"
   ]
  },
  {
   "cell_type": "code",
   "execution_count": 9,
   "metadata": {},
   "outputs": [
    {
     "name": "stdout",
     "output_type": "stream",
     "text": [
      "Dataset saved as Oscar_Awards.csv\n"
     ]
    }
   ],
   "source": [
    "# Save the updated DataFrame to a CSV file\n",
    "df.to_csv('Oscar_Awards.csv', index=False)\n",
    "\n",
    "# Display a message confirming the save\n",
    "print(\"Dataset saved as Oscar_Awards.csv\")"
   ]
  }
 ],
 "metadata": {
  "kernelspec": {
   "display_name": "Python 3",
   "language": "python",
   "name": "python3"
  },
  "language_info": {
   "codemirror_mode": {
    "name": "ipython",
    "version": 3
   },
   "file_extension": ".py",
   "mimetype": "text/x-python",
   "name": "python",
   "nbconvert_exporter": "python",
   "pygments_lexer": "ipython3",
   "version": "3.10.0"
  }
 },
 "nbformat": 4,
 "nbformat_minor": 2
}
